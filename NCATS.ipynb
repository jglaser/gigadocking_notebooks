{
  "nbformat": 4,
  "nbformat_minor": 0,
  "metadata": {
    "colab": {
      "name": "NCATS",
      "provenance": [],
      "collapsed_sections": [],
      "authorship_tag": "ABX9TyMsaMkEooAaWoYFjGjr9IOM",
      "include_colab_link": true
    },
    "kernelspec": {
      "name": "python3",
      "display_name": "Python 3"
    }
  },
  "cells": [
    {
      "cell_type": "markdown",
      "metadata": {
        "id": "view-in-github",
        "colab_type": "text"
      },
      "source": [
        "<a href=\"https://colab.research.google.com/github/jglaser/gigadocking_notebooks/blob/main/NCATS.ipynb\" target=\"_parent\"><img src=\"https://colab.research.google.com/assets/colab-badge.svg\" alt=\"Open In Colab\"/></a>"
      ]
    },
    {
      "cell_type": "code",
      "metadata": {
        "colab": {
          "base_uri": "https://localhost:8080/"
        },
        "id": "QL4QHG4Q0l_w",
        "outputId": "a9cf89d3-99b1-4602-b07e-e211e06f36f9"
      },
      "source": [
        "from google.colab import auth\n",
        "auth.authenticate_user()\n",
        "print('Authenticated')"
      ],
      "execution_count": 1,
      "outputs": [
        {
          "output_type": "stream",
          "text": [
            "Authenticated\n"
          ],
          "name": "stdout"
        }
      ]
    },
    {
      "cell_type": "code",
      "metadata": {
        "id": "tCGArteD05jS"
      },
      "source": [
        "project_id = 'cmb-covid19-discovery-collab'"
      ],
      "execution_count": 2,
      "outputs": []
    },
    {
      "cell_type": "markdown",
      "metadata": {
        "id": "4pqJL4J-NENu"
      },
      "source": [
        "# Mpro"
      ]
    },
    {
      "cell_type": "code",
      "metadata": {
        "id": "s4USAAMG01gX"
      },
      "source": [
        "%%bigquery --project $project_id df_assay\n",
        "SELECT * from mpro_ncats.assay"
      ],
      "execution_count": 3,
      "outputs": []
    },
    {
      "cell_type": "code",
      "metadata": {
        "id": "bbFt80Fxn1wD"
      },
      "source": [
        "%%bigquery --project $project_id df_rescore\n",
        "SELECT *\n",
        "FROM mpro_ncats.scores\n",
        "WHERE scores.rank = 0"
      ],
      "execution_count": 4,
      "outputs": []
    },
    {
      "cell_type": "code",
      "metadata": {
        "id": "M4VZKHXlnxxT"
      },
      "source": [
        "%%bigquery --project $project_id df_rescore_avg\n",
        "SELECT name, AVG(rf2) as rf2_avg, MAX(rf2) as rf2_max, \n",
        "             AVG(vs_dude_v2) as vs_dude_v2_avg, MAX(vs_dude_v2) AS vs_dude_v2_max,\n",
        "             AVG(dcoid) as dcoid_avg, MAX(vs_dude_v2) AS dcoid_max\n",
        "FROM mpro_ncats.scores\n",
        "GROUP BY name"
      ],
      "execution_count": 5,
      "outputs": []
    },
    {
      "cell_type": "code",
      "metadata": {
        "id": "mBzSAn4V10eR"
      },
      "source": [
        "T = 2.479\n",
        "q = f\"\"\"\n",
        "SELECT name, STDDEV_SAMP(score) AS score_std, AVG(score) AS score_avg, MIN(score) AS score_min,\n",
        "        SUM(EXP(-score/{T})*score/{T})/SUM(EXP(-score/{T})) + LOG(AVG(EXP(-score/{T}))) as S_canonical,\n",
        "        -{T}*LOG(AVG(EXP(-score/{T}))) as F,\n",
        "FROM mpro_ncats.docked\n",
        "GROUP BY name\n",
        "\"\"\"\n",
        "from google.cloud import bigquery\n",
        "client = bigquery.Client(project=project_id)\n",
        "df_score = client.query(q).to_dataframe()"
      ],
      "execution_count": 6,
      "outputs": []
    },
    {
      "cell_type": "code",
      "metadata": {
        "id": "-6yfjCc_IXQx"
      },
      "source": [
        "df = df_assay.merge(df_score,left_on='SAMPLE_ID',right_on='name')\n",
        "df = df.merge(df_rescore,left_on='SAMPLE_ID',right_on='name')\n",
        "df = df.merge(df_rescore_avg,left_on='SAMPLE_ID',right_on='name')"
      ],
      "execution_count": 7,
      "outputs": []
    },
    {
      "cell_type": "code",
      "metadata": {
        "colab": {
          "base_uri": "https://localhost:8080/"
        },
        "id": "EUwSiwGswoRf",
        "outputId": "1f21dfb4-8ca5-4d6e-a163-d97a7768ccba"
      },
      "source": [
        "len(df)"
      ],
      "execution_count": 8,
      "outputs": [
        {
          "output_type": "execute_result",
          "data": {
            "text/plain": [
              "11814"
            ]
          },
          "metadata": {
            "tags": []
          },
          "execution_count": 8
        }
      ]
    },
    {
      "cell_type": "code",
      "metadata": {
        "colab": {
          "base_uri": "https://localhost:8080/",
          "height": 283
        },
        "id": "ELrbFnW0Ih1X",
        "outputId": "d084548c-e9b1-40e8-9706-5fae7bdc002d"
      },
      "source": [
        "import matplotlib.pyplot as plt\n",
        "from scipy.stats import linregress\n",
        "import numpy as np\n",
        "fig, ax = plt.subplots()\n",
        "idx = 2\n",
        "x = T*df['S_canonical']\n",
        "x = df['F']\n",
        "x = df['rf2']\n",
        "#x = df['score_avg']\n",
        "y = -df['DATA'+str(idx)]\n",
        "#y = df['score_avg']\n",
        "#y = df['LOG_AC50']\n",
        "ax.scatter(x,y)\n",
        "slope, intercept, _, _, stderr = linregress(x[y.notnull()],y[y.notnull()])\n",
        "x = np.linspace(min(x),max(x),100)\n",
        "y = slope*x+intercept\n",
        "ax.plot(x,y,'r',label='${:.1f}(\\pm {:.1f}) x+{:.2f}$'.format(slope, stderr, intercept))\n",
        "ax.legend()\n",
        "ax.set_xlabel(\"S\",fontsize=14)\n",
        "ax.set_ylabel(\"inhibition at {}uM\".format(df['CONC{}_M_'.format(idx)].values[0]/1e-6),fontsize=14)\n",
        "fig.show()"
      ],
      "execution_count": 9,
      "outputs": [
        {
          "output_type": "display_data",
          "data": {
            "image/png": "[encoded data removed]",
            "text/plain": [
              "<Figure size 432x288 with 1 Axes>"
            ]
          },
          "metadata": {
            "tags": [],
            "needs_background": "light"
          }
        }
      ]
    },
    {
      "cell_type": "code",
      "metadata": {
        "colab": {
          "base_uri": "https://localhost:8080/",
          "height": 285
        },
        "id": "b1ud8zkRF7a8",
        "outputId": "c2e65a81-402d-4e22-f88e-64d55985daf3"
      },
      "source": [
        "df['F'].hist(bins=50)"
      ],
      "execution_count": null,
      "outputs": [
        {
          "output_type": "execute_result",
          "data": {
            "text/plain": [
              "<matplotlib.axes._subplots.AxesSubplot at 0x7f32be1c64a8>"
            ]
          },
          "metadata": {
            "tags": []
          },
          "execution_count": 360
        },
        {
          "output_type": "display_data",
          "data": {
            "image/png": "[encoded data removed]",
            "text/plain": [
              "<Figure size 432x288 with 1 Axes>"
            ]
          },
          "metadata": {
            "tags": [],
            "needs_background": "light"
          }
        }
      ]
    },
    {
      "cell_type": "code",
      "metadata": {
        "id": "r8h8cDYCI4h9"
      },
      "source": [
        "# compute the enrichment\n",
        "def precision(y_true, y_score, percentage=1):\n",
        "    sample = y_true[y_score>=np.quantile(y_score, 1-percentage/100)]\n",
        "    if len(sample) == 0: return np.nan\n",
        "    return np.count_nonzero(sample)/len(sample)\n",
        "\n",
        "def precision_neg(y_true, y_score, percentage=1):\n",
        "    sample = y_true[y_score<=np.quantile(y_score, percentage/100)]\n",
        "    if len(sample) == 0: return np.nan\n",
        "    return np.count_nonzero(sample)/len(sample)\n",
        "\n",
        "def precision2(y_true, y_score, y_score2, percentage=1):\n",
        "    sample = y_true[(y_score>=np.quantile(y_score, 1-percentage/100)) & (y_score2>=np.quantile(y_score2, 1-percentage/100))]\n",
        "    if len(sample) == 0: return np.nan\n",
        "    return np.count_nonzero(sample)/len(sample)\n",
        "\n",
        "def precision_neg2(y_true, y_score, y_score2, percentage=1):\n",
        "    sample = y_true[(y_score<=np.quantile(y_score, percentage/100)) & (y_score2<=np.quantile(y_score2, percentage/100))]\n",
        "    if len(sample) == 0: return np.nan\n",
        "    return np.count_nonzero(sample)/len(sample)\n",
        "\n",
        "def recall(y_true, y_score, percentage=1):\n",
        "    sample = y_true[y_score>=np.quantile(y_score, 1-percentage/100)]\n",
        "    return np.count_nonzero(sample)/np.count_nonzero(y_true)\n",
        "\n",
        "def recall2(y_true, y_score, y_score2, percentage=1):\n",
        "    sample = y_true[(y_score>=np.quantile(y_score, 1-percentage/100)) & (y_score2>=np.quantile(y_score2, 1-percentage/100))]\n",
        "    return np.count_nonzero(sample)/np.count_nonzero(y_true)\n",
        "\n",
        "def recall_neg(y_true, y_score, percentage=1):\n",
        "    sample = y_true[y_score<=np.quantile(y_score, percentage/100)]\n",
        "    return np.count_nonzero(sample)/np.count_nonzero(y_true)"
      ],
      "execution_count": 10,
      "outputs": []
    },
    {
      "cell_type": "code",
      "metadata": {
        "colab": {
          "base_uri": "https://localhost:8080/"
        },
        "id": "T6ecr95dro4I",
        "outputId": "2e030736-28eb-4d6f-afe4-37b91faf3b32"
      },
      "source": [
        "np.quantile(df['S_canonical'],0.95)"
      ],
      "execution_count": null,
      "outputs": [
        {
          "output_type": "execute_result",
          "data": {
            "text/plain": [
              "-0.012254076124746938"
            ]
          },
          "metadata": {
            "tags": []
          },
          "execution_count": 509
        }
      ]
    },
    {
      "cell_type": "code",
      "metadata": {
        "colab": {
          "base_uri": "https://localhost:8080/"
        },
        "id": "sWlblKR6Y1G9",
        "outputId": "55c4c507-02db-463a-85f9-965a91a35962"
      },
      "source": [
        "enrichment_factor2(y_true, df.vs_dude_v2_avg, df.rf2_avg, percentage=100)"
      ],
      "execution_count": null,
      "outputs": [
        {
          "output_type": "execute_result",
          "data": {
            "text/plain": [
              "0.17775520568816658"
            ]
          },
          "metadata": {
            "tags": []
          },
          "execution_count": 21
        }
      ]
    },
    {
      "cell_type": "code",
      "metadata": {
        "colab": {
          "base_uri": "https://localhost:8080/",
          "height": 397
        },
        "id": "Y3Js_FSWyt-S",
        "outputId": "cc2a2cff-ca80-44ef-ff5c-dec7505d4866"
      },
      "source": [
        "import numpy as np\n",
        "x = np.linspace(0,100,100)\n",
        "\n",
        "cutoff = -50\n",
        "conc_idx = 1\n",
        "c = 'DATA'+str(conc_idx)\n",
        "\n",
        "cutoff = -6 + np.log(5)/np.log(10)\n",
        "c = 'LOG_AC50'\n",
        "y_true = df[c] <= cutoff\n",
        "\n",
        "fig,ax = plt.subplots()\n",
        "fig.set_size_inches(9,6)\n",
        "\n",
        "\n",
        "p = [precision_neg(y_true, df.score_avg, percentage=p) for p in x]\n",
        "r = [recall_neg(y_true, df.score_avg, percentage=p) for p in x]\n",
        "auc = np.trapz(p,r)\n",
        "ax.plot(r,p,label='score AUC={:.2f}'.format(auc))\n",
        "\n",
        "# y = [recall_neg(y_true, df.F, percentage=p) for p in x]\n",
        "# ax.plot(x,y,label='$F$')\n",
        "\n",
        "p = [precision(y_true, df.rf2, percentage=p) for p in x]\n",
        "r = [recall(y_true, df.rf2, percentage=p) for p in x]\n",
        "auc = np.trapz(p,r)\n",
        "ax.plot(r,p,label='rf2 AUC={:.5f}'.format(auc))\n",
        "\n",
        "r = [recall(y_true, df.rf2_avg, percentage=p) for p in x]\n",
        "p = [precision(y_true, df.rf2_avg, percentage=p) for p in x]\n",
        "auc = np.trapz(p,r)\n",
        "ax.plot(r,p,label='rf2_avg AUC={:.5f}'.format(auc))\n",
        "\n",
        "r = [recall(y_true, df.vs_dude_v2, percentage=p) for p in x]\n",
        "p = [precision(y_true, df.vs_dude_v2, percentage=p) for p in x]\n",
        "auc = np.trapz(p,r)\n",
        "ax.plot(r,p,label='VS DUD-E AUC={:.5f}'.format(auc))\n",
        "\n",
        "\n",
        "r = np.array([recall2(y_true, df.vs_dude_v2_avg, df.rf2_avg, percentage=p) for p in x])\n",
        "p = np.array([precision2(y_true, df.vs_dude_v2_avg, df.rf2_avg, percentage=p) for p in x])\n",
        "auc = np.trapz(p[p>0],r[p>0])\n",
        "ax.plot(r,p,label='VS DUD-E + RF2 AUC={:.5f}'.format(auc))\n",
        "\n",
        "dude_cutoff = 6.05\n",
        "filter = df['vs_dude_v2'] > dude_cutoff\n",
        "r = [recall(y_true, filter*df.rf2_avg, percentage=p) for p in x]\n",
        "p = [precision(y_true, filter*df.rf2_avg, percentage=p) for p in x]\n",
        "auc = np.trapz(p,r)\n",
        "ax.plot(r,p,label='rf2_avg with VS DUD-E > {} AUC={:.5f}'.format(dude_cutoff,auc))\n",
        "\n",
        "X = df[['score_avg','rf2_avg','vs_dude_v2_avg','score_min','rf2_max','vs_dude_v2_max','S_canonical','F']]\n",
        "prob = model.predict_proba(X)[:,1]\n",
        "p, r, _ = precision_recall_curve(y_true, prob)\n",
        "auc = np.trapz(p[::-1],r[::-1])\n",
        "ax.plot(r,p,label='XGB AUC={:.5f}'.format(auc))\n",
        "\n",
        "#y = [enrichment_factor_neg(y_true, df.F+T*df.S_canonical, percentage=p) for p in x]\n",
        "#ax.plot(x,y,label='$\\\\langle U \\\\rangle$')\n",
        "\n",
        "ax.legend(frameon=False,\n",
        "         title='N={}, active = AC50 < {:.2f}$\\mu$M'.format(len(df),\n",
        "                                                                  10**(cutoff+6)))\n",
        "                                                                  #-cutoff,\n",
        "                                                                  #df['CONC{}_M_'.format(conc_idx)].values[0]/1e-6))\n",
        "\n",
        "ax.set_ylim(0,1)\n",
        "ax.set_xlabel('recall',fontsize=16)\n",
        "ax.set_ylabel('precision',fontsize=16)\n",
        "fig.show()"
      ],
      "execution_count": null,
      "outputs": [
        {
          "output_type": "display_data",
          "data": {
            "image/png": "[encoded data removed]",
            "text/plain": [
              "<Figure size 648x432 with 1 Axes>"
            ]
          },
          "metadata": {
            "tags": [],
            "needs_background": "light"
          }
        }
      ]
    },
    {
      "cell_type": "code",
      "metadata": {
        "colab": {
          "base_uri": "https://localhost:8080/",
          "height": 282
        },
        "id": "xW9aUY20CRuw",
        "outputId": "063e5a90-cff3-4559-d6dd-656b3f4c8e5a"
      },
      "source": [
        "df['vs_dude_v2'].hist()"
      ],
      "execution_count": null,
      "outputs": [
        {
          "output_type": "execute_result",
          "data": {
            "text/plain": [
              "<matplotlib.axes._subplots.AxesSubplot at 0x7f32bdb36fd0>"
            ]
          },
          "metadata": {
            "tags": []
          },
          "execution_count": 457
        },
        {
          "output_type": "display_data",
          "data": {
            "image/png": "[encoded data removed]",
            "text/plain": [
              "<Figure size 432x288 with 1 Axes>"
            ]
          },
          "metadata": {
            "tags": [],
            "needs_background": "light"
          }
        }
      ]
    },
    {
      "cell_type": "markdown",
      "metadata": {
        "id": "O-XBf--MKcQe"
      },
      "source": [
        "# Spike"
      ]
    },
    {
      "cell_type": "code",
      "metadata": {
        "id": "2tvywDXENMDG"
      },
      "source": [
        "%%bigquery --project $project_id df_spike_assay\n",
        "SELECT * from spike_ncats.assay"
      ],
      "execution_count": 11,
      "outputs": []
    },
    {
      "cell_type": "code",
      "metadata": {
        "id": "Auv_R4l3Nk-B"
      },
      "source": [
        "T = 2.479\n",
        "q = f\"\"\"\n",
        "SELECT name, STDDEV_SAMP(score) AS score_std, AVG(score) AS score_avg, MIN(score) AS score_min,\n",
        "        SUM(EXP(-score/{T})*score/{T})/SUM(EXP(-score/{T})) + LOG(AVG(EXP(-score/{T}))) as S_canonical,\n",
        "        -{T}*LOG(AVG(EXP(-score/{T}))) as F,\n",
        "FROM spike_ncats.docked\n",
        "GROUP BY name\n",
        "\"\"\"\n",
        "from google.cloud import bigquery\n",
        "client = bigquery.Client(project=project_id)\n",
        "df_score = client.query(q).to_dataframe()"
      ],
      "execution_count": 12,
      "outputs": []
    },
    {
      "cell_type": "code",
      "metadata": {
        "id": "bhKsPp0k2J-I"
      },
      "source": [
        "%%bigquery --project $project_id df_rescore\n",
        "SELECT *\n",
        "FROM spike_ncats.scores\n",
        "WHERE scores.rank = 0"
      ],
      "execution_count": 13,
      "outputs": []
    },
    {
      "cell_type": "code",
      "metadata": {
        "id": "ygpWXoqriIA6"
      },
      "source": [
        "%%bigquery --project $project_id df_rescore_avg\n",
        "SELECT name, AVG(rf2) as rf2_avg, MAX(rf2) as rf2_max,\n",
        "             AVG(vs_dude_v2) as vs_dude_v2_avg, MAX(vs_dude_v2) AS vs_dude_v2_max,\n",
        "             AVG(dcoid) AS dcoid_avg, MAX(dcoid) AS dcoid_max\n",
        "FROM spike_ncats.scores\n",
        "GROUP BY name"
      ],
      "execution_count": 14,
      "outputs": []
    },
    {
      "cell_type": "code",
      "metadata": {
        "id": "Sr0OIWmXYT6s"
      },
      "source": [
        "df_spike = df_spike_assay.merge(df_score,left_on='SAMPLE_ID',right_on='name')\n",
        "df_spike = df_spike.merge(df_rescore,left_on='SAMPLE_ID',right_on='name')\n",
        "df_spike = df_spike.merge(df_rescore_avg,left_on='SAMPLE_ID',right_on='name')"
      ],
      "execution_count": 15,
      "outputs": []
    },
    {
      "cell_type": "code",
      "metadata": {
        "colab": {
          "base_uri": "https://localhost:8080/",
          "height": 283
        },
        "id": "P6xDx3AYYIis",
        "outputId": "5bb056b9-1a8e-479a-d354-893fa50e8b75"
      },
      "source": [
        "import matplotlib.pyplot as plt\n",
        "from scipy.stats import linregress\n",
        "import numpy as np\n",
        "fig, ax = plt.subplots()\n",
        "conc_idx = 5\n",
        "\n",
        "from scipy.stats import gaussian_kde\n",
        "ens = gaussian_kde(df_spike['F'],weights=np.exp(-df_spike['F']))\n",
        "#x = df_spike['F']\n",
        "#x = T*df_spike['S_canonical']\n",
        "#x = df_spike['score_min']\n",
        "#x = np.exp(-df_spike['F'])/np.mean(np.exp(-df_spike['F']))\n",
        "#x = df_spike['F']-np.average(df_spike['F'],weights=np.exp(-df_spike['F']))\n",
        "x = df_spike.vs_dude_v2\n",
        "y = -df_spike['DATA'+str(conc_idx)]\n",
        "#y = df_spike['score_avg']\n",
        "#y = ens(df_spike['F'])\n",
        "#y = df['LOG_AC50']\n",
        "#y = df_spike['rf2']\n",
        "ax.scatter(x,y)\n",
        "slope, intercept, _, _, stderr = linregress(x[y.notnull()],y[y.notnull()])\n",
        "x = np.linspace(min(x),max(x),100)\n",
        "y = slope*x+intercept\n",
        "ax.plot(x,y,'r',label='${:.1f}(\\pm {:.1f}) x+{:.2f}$'.format(slope, stderr, intercept))\n",
        "ax.legend()\n",
        "ax.set_xlabel(\"F\",fontsize=14)\n",
        "ax.set_ylabel(\"inhibition at {}uM\".format(df_spike['CONC{}_M_'.format(conc_idx)].values[0]/1e-6),fontsize=14)\n",
        "fig.show()"
      ],
      "execution_count": 16,
      "outputs": [
        {
          "output_type": "display_data",
          "data": {
            "image/png": "[encoded data removed]",
            "text/plain": [
              "<Figure size 432x288 with 1 Axes>"
            ]
          },
          "metadata": {
            "tags": [],
            "needs_background": "light"
          }
        }
      ]
    },
    {
      "cell_type": "code",
      "metadata": {
        "colab": {
          "base_uri": "https://localhost:8080/",
          "height": 285
        },
        "id": "UgM7-_OpFY4E",
        "outputId": "4c483d0d-5471-4b1c-ca1b-5e5f09a79f1b"
      },
      "source": [
        "df_spike['vs_dude_v2'].hist(bins=100)"
      ],
      "execution_count": null,
      "outputs": [
        {
          "output_type": "execute_result",
          "data": {
            "text/plain": [
              "<matplotlib.axes._subplots.AxesSubplot at 0x7f6dc51c68d0>"
            ]
          },
          "metadata": {
            "tags": []
          },
          "execution_count": 28
        },
        {
          "output_type": "display_data",
          "data": {
            "image/png": "[encoded data removed]",
            "text/plain": [
              "<Figure size 432x288 with 1 Axes>"
            ]
          },
          "metadata": {
            "tags": [],
            "needs_background": "light"
          }
        }
      ]
    },
    {
      "cell_type": "code",
      "metadata": {
        "id": "POn3whdYKXHD"
      },
      "source": [
        "import xgboost as xgb"
      ],
      "execution_count": 17,
      "outputs": []
    },
    {
      "cell_type": "code",
      "metadata": {
        "colab": {
          "base_uri": "https://localhost:8080/"
        },
        "id": "_xFKdmb2aw_O",
        "outputId": "f1a4a32f-2ea6-4c3c-e322-c4c4c652e553"
      },
      "source": [
        "from scipy import stats\n",
        "from xgboost import XGBClassifier\n",
        "from sklearn.model_selection import RandomizedSearchCV, KFold\n",
        "from sklearn.metrics import f1_score\n",
        "\n",
        "X = df_spike[['score_avg','rf2_avg','vs_dude_v2_avg','score_min','rf2_max','vs_dude_v2_max','S_canonical','F']]\n",
        "y = df_spike['LOG_AC50'] <  -6 + np.log(5)/np.log(10)\n",
        "\n",
        "param_dist = {'n_estimators': stats.randint(100, 500),\n",
        "              'learning_rate': stats.uniform(0.01, 0.07),\n",
        "              'subsample': stats.uniform(0.3, 0.7),\n",
        "              'max_depth': [3, 4, 5, 6, 7, 8, 9],\n",
        "              'colsample_bytree': stats.uniform(0.5, 0.45),\n",
        "              'min_child_weight': [1, 2, 3]\n",
        "             }\n",
        "\n",
        "clf_xgb = xgb.XGBClassifier(objective='binary:logistic')\n",
        "clf = RandomizedSearchCV(clf_xgb, param_distributions = param_dist, n_iter = 25, scoring = 'f1', error_score = 0, verbose = 3, n_jobs = -1)\n",
        "\n",
        "numFolds = 5\n",
        "folds = KFold(n_splits = numFolds, shuffle = True)\n",
        "\n",
        "estimators = []\n",
        "results = np.zeros(len(X))\n",
        "score = 0.0\n",
        "y_real = []\n",
        "y_proba = []\n",
        "for train_index, test_index in folds.split(X):\n",
        "    X_train, X_test = X.iloc[train_index,:], X.iloc[test_index,:]\n",
        "    y_train, y_test = y.iloc[train_index].values.ravel(), y.iloc[test_index].values.ravel()\n",
        "    clf.fit(X_train, y_train)\n",
        "\n",
        "    estimators.append(clf.best_estimator_)\n",
        "    results[test_index] = clf.predict(X_test)\n",
        "    pred_proba = clf.predict_proba(X_test)\n",
        "    y_real.append(y_test)\n",
        "    y_proba.append(pred_proba[:,1])\n",
        "    score += f1_score(y_test, results[test_index])\n",
        "score /= numFolds\n",
        "\n",
        "# train on entire data set\n",
        "clf.fit(X,y)\n",
        "model = clf.best_estimator_"
      ],
      "execution_count": 44,
      "outputs": [
        {
          "output_type": "stream",
          "text": [
            "Fitting 5 folds for each of 25 candidates, totalling 125 fits\n"
          ],
          "name": "stdout"
        },
        {
          "output_type": "stream",
          "text": [
            "[Parallel(n_jobs=-1)]: Using backend LokyBackend with 2 concurrent workers.\n",
            "[Parallel(n_jobs=-1)]: Done  28 tasks      | elapsed:   10.3s\n",
            "[Parallel(n_jobs=-1)]: Done 125 out of 125 | elapsed:   47.4s finished\n"
          ],
          "name": "stderr"
        },
        {
          "output_type": "stream",
          "text": [
            "Fitting 5 folds for each of 25 candidates, totalling 125 fits\n"
          ],
          "name": "stdout"
        },
        {
          "output_type": "stream",
          "text": [
            "[Parallel(n_jobs=-1)]: Using backend LokyBackend with 2 concurrent workers.\n",
            "[Parallel(n_jobs=-1)]: Done  28 tasks      | elapsed:   10.2s\n",
            "[Parallel(n_jobs=-1)]: Done 125 out of 125 | elapsed:   43.6s finished\n"
          ],
          "name": "stderr"
        },
        {
          "output_type": "stream",
          "text": [
            "Fitting 5 folds for each of 25 candidates, totalling 125 fits\n"
          ],
          "name": "stdout"
        },
        {
          "output_type": "stream",
          "text": [
            "[Parallel(n_jobs=-1)]: Using backend LokyBackend with 2 concurrent workers.\n",
            "[Parallel(n_jobs=-1)]: Done  28 tasks      | elapsed:   10.4s\n",
            "[Parallel(n_jobs=-1)]: Done 125 out of 125 | elapsed:   49.8s finished\n"
          ],
          "name": "stderr"
        },
        {
          "output_type": "stream",
          "text": [
            "Fitting 5 folds for each of 25 candidates, totalling 125 fits\n"
          ],
          "name": "stdout"
        },
        {
          "output_type": "stream",
          "text": [
            "[Parallel(n_jobs=-1)]: Using backend LokyBackend with 2 concurrent workers.\n",
            "[Parallel(n_jobs=-1)]: Done  28 tasks      | elapsed:    8.7s\n",
            "[Parallel(n_jobs=-1)]: Done 125 out of 125 | elapsed:   48.0s finished\n"
          ],
          "name": "stderr"
        },
        {
          "output_type": "stream",
          "text": [
            "Fitting 5 folds for each of 25 candidates, totalling 125 fits\n"
          ],
          "name": "stdout"
        },
        {
          "output_type": "stream",
          "text": [
            "[Parallel(n_jobs=-1)]: Using backend LokyBackend with 2 concurrent workers.\n",
            "[Parallel(n_jobs=-1)]: Done  28 tasks      | elapsed:    5.8s\n",
            "[Parallel(n_jobs=-1)]: Done 125 out of 125 | elapsed:   48.8s finished\n"
          ],
          "name": "stderr"
        },
        {
          "output_type": "stream",
          "text": [
            "Fitting 5 folds for each of 25 candidates, totalling 125 fits\n"
          ],
          "name": "stdout"
        },
        {
          "output_type": "stream",
          "text": [
            "[Parallel(n_jobs=-1)]: Using backend LokyBackend with 2 concurrent workers.\n",
            "[Parallel(n_jobs=-1)]: Done  28 tasks      | elapsed:   14.9s\n",
            "[Parallel(n_jobs=-1)]: Done 125 out of 125 | elapsed:  1.0min finished\n"
          ],
          "name": "stderr"
        }
      ]
    },
    {
      "cell_type": "code",
      "metadata": {
        "colab": {
          "base_uri": "https://localhost:8080/"
        },
        "id": "YG9zuU2KoMaV",
        "outputId": "3b46f392-858d-4224-e038-62b3fd2e700e"
      },
      "source": [
        "model"
      ],
      "execution_count": 29,
      "outputs": [
        {
          "output_type": "execute_result",
          "data": {
            "text/plain": [
              "XGBClassifier(base_score=0.5, booster='gbtree', colsample_bylevel=1,\n",
              "              colsample_bynode=1, colsample_bytree=0.5292514788688676, gamma=0,\n",
              "              learning_rate=0.07154097180652505, max_delta_step=0, max_depth=7,\n",
              "              min_child_weight=1, missing=None, n_estimators=331, n_jobs=1,\n",
              "              nthread=None, objective='binary:logistic', random_state=0,\n",
              "              reg_alpha=0, reg_lambda=1, scale_pos_weight=1, seed=None,\n",
              "              silent=None, subsample=0.3308558927403308, verbosity=1)"
            ]
          },
          "metadata": {
            "tags": []
          },
          "execution_count": 29
        }
      ]
    },
    {
      "cell_type": "code",
      "metadata": {
        "colab": {
          "base_uri": "https://localhost:8080/",
          "height": 32
        },
        "id": "Ti8MQgxroB1g",
        "outputId": "de1820fa-807c-4ce9-b21b-f145af5827a5"
      },
      "source": [
        "active_uM = 5.0\n",
        "q = f\"\"\"\n",
        "CREATE OR REPLACE MODEL spike_ncats.xgbmodel\n",
        "OPTIONS(MODEL_TYPE='BOOSTED_TREE_CLASSIFIER',\n",
        "        DATA_SPLIT_METHOD = 'NO_SPLIT',\n",
        "        BOOSTER_TYPE = 'GBTREE',\n",
        "        MIN_TREE_CHILD_WEIGHT = 3,\n",
        "        MAX_TREE_DEPTH = 8,\n",
        "        MIN_SPLIT_LOSS=0,\n",
        "        NUM_PARALLEL_TREE = 1,\n",
        "        LEARN_RATE=0.06261011091255603,\n",
        "        MAX_ITERATIONS = 354,\n",
        "        TREE_METHOD = 'AUTO',\n",
        "        EARLY_STOP = FALSE,\n",
        "        SUBSAMPLE = 0.912030456838556,\n",
        "        COLSAMPLE_BYTREE = 0.7719967928416738,\n",
        "        INPUT_LABEL_COLS = ['active'])\n",
        "AS SELECT LOG_AC50 < (-6 + LOG({active_uM})/LOG(10)) AS active,\n",
        "          score_avg, score_min, S_canonical, F, rf2_avg, rf2_max, vs_dude_v2_avg, vs_dude_v2_max\n",
        "   FROM spike_ncats.assay\n",
        "   INNER JOIN ( SELECT docked.name,\n",
        "          AVG(docked.score) AS score_avg,\n",
        "          MIN(docked.score) AS score_min,\n",
        "          SUM(EXP(-docked.score/{T})*docked.score/{T})/SUM(EXP(-docked.score/{T})) + LOG(AVG(EXP(-docked.score/{T}))) as S_canonical,\n",
        "          -{T}*LOG(AVG(EXP(-docked.score/{T}))) as F,\n",
        "          AVG(rf2) as rf2_avg,\n",
        "          MAX(rf2) as rf2_max,\n",
        "          AVG(vs_dude_v2) as vs_dude_v2_avg,\n",
        "          MAX(vs_dude_v2) AS vs_dude_v2_max\n",
        "   FROM spike_ncats.docked\n",
        "   INNER JOIN spike_ncats.scores ON docked.name = scores.name AND docked.rank = scores.rank\n",
        "   GROUP BY docked.name\n",
        "  ) AS A ON assay.SAMPLE_ID = A.name\n",
        "  WHERE NOT IFNULL(LOG_AC50,0)=0\n",
        "\"\"\"\n",
        "from google.cloud import bigquery\n",
        "client = bigquery.Client(project=project_id)\n",
        "#client.query(q).to_dataframe()"
      ],
      "execution_count": null,
      "outputs": [
        {
          "output_type": "execute_result",
          "data": {
            "text/html": [
              "<div>\n",
              "<style scoped>\n",
              "    .dataframe tbody tr th:only-of-type {\n",
              "        vertical-align: middle;\n",
              "    }\n",
              "\n",
              "    .dataframe tbody tr th {\n",
              "        vertical-align: top;\n",
              "    }\n",
              "\n",
              "    .dataframe thead th {\n",
              "        text-align: right;\n",
              "    }\n",
              "</style>\n",
              "<table border=\"1\" class=\"dataframe\">\n",
              "  <thead>\n",
              "    <tr style=\"text-align: right;\">\n",
              "      <th></th>\n",
              "    </tr>\n",
              "  </thead>\n",
              "  <tbody>\n",
              "  </tbody>\n",
              "</table>\n",
              "</div>"
            ],
            "text/plain": [
              "Empty DataFrame\n",
              "Columns: []\n",
              "Index: []"
            ]
          },
          "metadata": {
            "tags": []
          },
          "execution_count": 622
        }
      ]
    },
    {
      "cell_type": "code",
      "metadata": {
        "id": "86Fd4aCvKejN"
      },
      "source": [
        "# model = xgb.XGBClassifier(n_estimators=5)\n",
        "# X = df_spike[['score_avg','rf2_avg','vs_dude_v2_avg','score_min','rf2_max','vs_dude_v2_max','S_canonical','F']].to_numpy()\n",
        "# Y = df_spike['LOG_AC50'] <  -6 + np.log(5)/np.log(10)\n",
        "# #X = df_moonshot[['score_avg','rf2_avg','vs_dude_v2_avg','score_min','rf2_max','vs_dude_v2_max','S_canonical','F']].to_numpy()\n",
        "# #Y = df_moonshot['f_avg_IC50'] <  5\n",
        "# model.fit(X,Y)"
      ],
      "execution_count": null,
      "outputs": []
    },
    {
      "cell_type": "code",
      "metadata": {
        "id": "c9_j1xRCLQlk"
      },
      "source": [
        "from sklearn.metrics import precision_recall_curve"
      ],
      "execution_count": 25,
      "outputs": []
    },
    {
      "cell_type": "code",
      "metadata": {
        "id": "2pZ1YUPL0ZC7"
      },
      "source": [
        "q = f\"\"\"SELECT name, predicted_active_probs[OFFSET(0)].prob AS prob_true FROM ML.PREDICT(MODEL `spike_ncats.xgbmodel`,\n",
        "    (\n",
        "    SELECT docked.name, AVG(docked.score) AS score_avg,\n",
        "          MIN(docked.score) AS score_min,\n",
        "          SUM(EXP(-docked.score/{T})*docked.score/{T})/SUM(EXP(-docked.score/{T})) + LOG(AVG(EXP(-docked.score/{T}))) as S_canonical,\n",
        "          -{T}*LOG(AVG(EXP(-docked.score/{T}))) as F,\n",
        "          AVG(rf2) as rf2_avg,\n",
        "          MAX(rf2) as rf2_max,\n",
        "          AVG(vs_dude_v2) as vs_dude_v2_avg,\n",
        "          MAX(vs_dude_v2) AS vs_dude_v2_max\n",
        "   FROM spike_ncats.docked\n",
        "   INNER JOIN spike_ncats.scores ON docked.name = scores.name AND docked.rank = scores.rank\n",
        "   GROUP BY docked.name\n",
        "   ))\n",
        "\"\"\"\n",
        "from google.cloud import bigquery\n",
        "client = bigquery.Client(project=project_id)\n",
        "df_predict = client.query(q).to_dataframe()"
      ],
      "execution_count": 24,
      "outputs": []
    },
    {
      "cell_type": "code",
      "metadata": {
        "id": "z6rfvB6D1xPs"
      },
      "source": [
        "df_predict = df_predict.merge(df_spike,on='name')"
      ],
      "execution_count": 26,
      "outputs": []
    },
    {
      "cell_type": "code",
      "metadata": {
        "colab": {
          "base_uri": "https://localhost:8080/",
          "height": 397
        },
        "id": "e7dkRtshkXMM",
        "outputId": "e31653d4-a593-41c8-dc3c-bbb5870107a5"
      },
      "source": [
        "import numpy as np\n",
        "x = np.linspace(0,100,100)\n",
        "\n",
        "cutoff = -50\n",
        "fig, ax = plt.subplots()\n",
        "fig.set_size_inches(9,6)\n",
        "conc_idx = 5\n",
        "c = 'DATA'+str(conc_idx)\n",
        "\n",
        "cutoff = -6 + np.log(5)/np.log(10)\n",
        "c = 'LOG_AC50'\n",
        "y_true = df_spike[c] <= cutoff\n",
        "\n",
        "\n",
        "# y = [recall(y_true, df_spike.S_canonical, percentage=p) for p in x]\n",
        "# ax.plot(x,y,label='$S_{\\\\mathrm{canonical}}$')\n",
        "\n",
        "p = [precision_neg(y_true, df_spike.score_min, percentage=p) for p in x]\n",
        "r = [recall_neg(y_true, df_spike.score_min, percentage=p) for p in x]\n",
        "auc = np.trapz(p,r)\n",
        "ax.plot(r,p,label='score AUC={:.5f}'.format(auc))\n",
        "\n",
        "# y = [recall_neg(y_true, df_spike.F, percentage=p) for p in x]\n",
        "# ax.plot(x,y,label='$F$')\n",
        "\n",
        "p = [precision(y_true, df_spike.rf2, percentage=p) for p in x]\n",
        "r = [recall(y_true, df_spike.rf2, percentage=p) for p in x]\n",
        "auc = np.trapz(p,r)\n",
        "ax.plot(r,p,label='rf2 AUC={:.5f}'.format(auc))\n",
        "\n",
        "# r = [recall(y_true, df_spike.rf2_avg, percentage=p) for p in x]\n",
        "# p = [precision(y_true, df_spike.rf2_avg, percentage=p) for p in x]\n",
        "# auc = np.trapz(p,r)\n",
        "# ax.plot(r,p,label='rf2_avg AUC={:.5f}'.format(auc))\n",
        "\n",
        "r = [recall(y_true, df_spike.vs_dude_v2, percentage=p) for p in x]\n",
        "p = [precision(y_true, df_spike.vs_dude_v2, percentage=p) for p in x]\n",
        "auc = np.trapz(p,r)\n",
        "ax.plot(r,p,label='VS DUD-E AUC={:.5f}'.format(auc))\n",
        "\n",
        "\n",
        "r = np.array([recall2(y_true, df_spike.vs_dude_v2_avg, df_spike.rf2_avg, percentage=p) for p in x])\n",
        "p = np.array([precision2(y_true, df_spike.vs_dude_v2_avg, df_spike.rf2_avg, percentage=p) for p in x])\n",
        "auc = np.trapz(p[p>0],r[p>0])\n",
        "ax.plot(r,p,label='VS DUD-E + RF2 AUC={:.5f}'.format(auc))\n",
        "\n",
        "\n",
        "dude_cutoff = 6.05\n",
        "filter = df_spike['vs_dude_v2'] > dude_cutoff\n",
        "r = [recall(y_true, filter*df_spike.rf2_avg, percentage=p) for p in x]\n",
        "p = [precision(y_true, filter*df_spike.rf2_avg, percentage=p) for p in x]\n",
        "auc = np.trapz(p,r)\n",
        "ax.plot(r,p,label='rf2_avg and VS DUD-E > {} AUC={:.5f}'.format(dude_cutoff,auc))\n",
        "\n",
        "dcoid_cutoff = 0.25\n",
        "filter = (df_spike['dcoid_avg'] > dcoid_cutoff)\n",
        "r = [recall(y_true, filter*df_spike.rf2_avg, percentage=p) for p in x]\n",
        "p = [precision(y_true, filter*df_spike.rf2_avg, percentage=p) for p in x]\n",
        "auc = np.trapz(p,r)\n",
        "ax.plot(r,p,label='rf2_avg and DCOID > {} AUC={:.5f}'.format(dcoid_cutoff,auc))\n",
        "\n",
        "p, r, _ = precision_recall_curve(np.concatenate(y_real), np.concatenate(y_proba))\n",
        "auc = np.trapz(p[::-1],r[::-1])\n",
        "ax.plot(r,p,label='XGBoost AUC={:.5f}'.format(auc))\n",
        "\n",
        "# y_true = df_predict[c] <= cutoff\n",
        "# prob = df_predict.prob_true\n",
        "# p, r, _ = precision_recall_curve(y_true, prob)\n",
        "# auc = np.trapz(p[::-1],r[::-1])\n",
        "# ax.plot(r,p,label='BQ XGB AUC={:.5f}'.format(auc))\n",
        "\n",
        "ax.legend(frameon=False, ncol=1,\n",
        "          title='Spike N={}, active = AC 50 < {:.2f}'.format(len(df_spike),\n",
        "                                                                10**(cutoff+6),\n",
        "                                                                df_spike['CONC{}_M_'.format(conc_idx)].values[0]/1e-6),\n",
        "          prop={'size': 12})\n",
        "\n",
        "ax.set_xlabel('recall',fontsize=20)\n",
        "ax.set_ylabel('precision',fontsize=20)\n",
        "fig.savefig('spike_pr.pdf')\n",
        "#from google.colab import files\n",
        "#files.download('spike_pr.pdf')\n",
        "fig.show()"
      ],
      "execution_count": 70,
      "outputs": [
        {
          "output_type": "display_data",
          "data": {
            "application/javascript": [
              "\n",
              "    async function download(id, filename, size) {\n",
              "      if (!google.colab.kernel.accessAllowed) {\n",
              "        return;\n",
              "      }\n",
              "      const div = document.createElement('div');\n",
              "      const label = document.createElement('label');\n",
              "      label.textContent = `Downloading \"${filename}\": `;\n",
              "      div.appendChild(label);\n",
              "      const progress = document.createElement('progress');\n",
              "      progress.max = size;\n",
              "      div.appendChild(progress);\n",
              "      document.body.appendChild(div);\n",
              "\n",
              "      const buffers = [];\n",
              "      let downloaded = 0;\n",
              "\n",
              "      const channel = await google.colab.kernel.comms.open(id);\n",
              "      // Send a message to notify the kernel that we're ready.\n",
              "      channel.send({})\n",
              "\n",
              "      for await (const message of channel.messages) {\n",
              "        // Send a message to notify the kernel that we're ready.\n",
              "        channel.send({})\n",
              "        if (message.buffers) {\n",
              "          for (const buffer of message.buffers) {\n",
              "            buffers.push(buffer);\n",
              "            downloaded += buffer.byteLength;\n",
              "            progress.value = downloaded;\n",
              "          }\n",
              "        }\n",
              "      }\n",
              "      const blob = new Blob(buffers, {type: 'application/binary'});\n",
              "      const a = document.createElement('a');\n",
              "      a.href = window.URL.createObjectURL(blob);\n",
              "      a.download = filename;\n",
              "      div.appendChild(a);\n",
              "      a.click();\n",
              "      div.remove();\n",
              "    }\n",
              "  "
            ],
            "text/plain": [
              "<IPython.core.display.Javascript object>"
            ]
          },
          "metadata": {
            "tags": []
          }
        },
        {
          "output_type": "display_data",
          "data": {
            "application/javascript": [
              "download(\"download_ed91da72-cc19-423e-ae49-62eb215c953c\", \"spike_pr.pdf\", 22948)"
            ],
            "text/plain": [
              "<IPython.core.display.Javascript object>"
            ]
          },
          "metadata": {
            "tags": []
          }
        },
        {
          "output_type": "display_data",
          "data": {
            "image/png": "[encoded data removed]",
            "text/plain": [
              "<Figure size 648x432 with 1 Axes>"
            ]
          },
          "metadata": {
            "tags": [],
            "needs_background": "light"
          }
        }
      ]
    },
    {
      "cell_type": "markdown",
      "metadata": {
        "id": "rCwLEeBCr_8X"
      },
      "source": [
        "## Moonshot"
      ]
    },
    {
      "cell_type": "code",
      "metadata": {
        "id": "I6OSs3JWxH-B"
      },
      "source": [
        "%%bigquery --project $project_id df_moonshot_assay\n",
        "SELECT * from moonshot.activities"
      ],
      "execution_count": 31,
      "outputs": []
    },
    {
      "cell_type": "code",
      "metadata": {
        "id": "1I9icSLAxH-K"
      },
      "source": [
        "%%bigquery --project $project_id df_moonshot_rescore\n",
        "SELECT *\n",
        "FROM moonshot.scores\n",
        "WHERE scores.rank = 0"
      ],
      "execution_count": 32,
      "outputs": []
    },
    {
      "cell_type": "code",
      "metadata": {
        "id": "jEIyiH5gxH-K"
      },
      "source": [
        "%%bigquery --project $project_id df_moonshot_rescore_avg\n",
        "SELECT name, AVG(rf2) as rf2_avg, MAX(rf2) as rf2_max, AVG(vs_dude_v2) as vs_dude_v2_avg, MAX(vs_dude_v2) AS vs_dude_v2_max\n",
        "FROM moonshot.scores\n",
        "GROUP BY name"
      ],
      "execution_count": 33,
      "outputs": []
    },
    {
      "cell_type": "code",
      "metadata": {
        "id": "WvYxp17QxH-L"
      },
      "source": [
        "T = 2.479\n",
        "q = f\"\"\"\n",
        "SELECT name, STDDEV_SAMP(score) AS score_std, AVG(score) AS score_avg, MIN(score) AS score_min,\n",
        "        SUM(EXP(-score/{T})*score/{T})/SUM(EXP(-score/{T})) + LOG(AVG(EXP(-score/{T}))) as S_canonical,\n",
        "        -{T}*LOG(AVG(EXP(-score/{T}))) as F,\n",
        "FROM moonshot.docked\n",
        "GROUP BY name\n",
        "\"\"\"\n",
        "from google.cloud import bigquery\n",
        "client = bigquery.Client(project=project_id)\n",
        "df_moonshot_score = client.query(q).to_dataframe()"
      ],
      "execution_count": 34,
      "outputs": []
    },
    {
      "cell_type": "code",
      "metadata": {
        "id": "loAr80LPva4a"
      },
      "source": [
        "df_moonshot = df_moonshot_assay.merge(df_moonshot_score,left_on='CID',right_on='name')\n",
        "df_moonshot = df_moonshot.merge(df_moonshot_rescore,left_on='CID',right_on='name')\n",
        "df_moonshot = df_moonshot.merge(df_moonshot_rescore_avg,left_on='CID',right_on='name')"
      ],
      "execution_count": 35,
      "outputs": []
    },
    {
      "cell_type": "code",
      "metadata": {
        "colab": {
          "base_uri": "https://localhost:8080/"
        },
        "id": "HHNtkbgExbgN",
        "outputId": "a99cbcbf-81ec-4d4a-939e-0531d48ce3c1"
      },
      "source": [
        "len(df_moonshot)"
      ],
      "execution_count": 36,
      "outputs": [
        {
          "output_type": "execute_result",
          "data": {
            "text/plain": [
              "1688"
            ]
          },
          "metadata": {
            "tags": []
          },
          "execution_count": 36
        }
      ]
    },
    {
      "cell_type": "code",
      "metadata": {
        "colab": {
          "base_uri": "https://localhost:8080/",
          "height": 283
        },
        "id": "C1HhZLP2xJuJ",
        "outputId": "a317feec-af54-4941-8d89-0b9f0a0692e8"
      },
      "source": [
        "import matplotlib.pyplot as plt\n",
        "from scipy.stats import linregress\n",
        "import numpy as np\n",
        "fig, ax = plt.subplots()\n",
        "idx = 2\n",
        "#x = df_moonshot['rf2']\n",
        "#x = df['score_avg']\n",
        "x = df_moonshot['F']\n",
        "y = df_moonshot['f_inhibition_at_20_uM']\n",
        "#y = df['score_avg']\n",
        "#y = df['LOG_AC50']\n",
        "ax.scatter(x,y)\n",
        "slope, intercept, _, _, stderr = linregress(x[y.notnull()],y[y.notnull()])\n",
        "x = np.linspace(min(x),max(x),100)\n",
        "y = slope*x+intercept\n",
        "ax.plot(x,y,'r',label='${:.1f}(\\pm {:.1f}) x+{:.2f}$'.format(slope, stderr, intercept))\n",
        "ax.legend()\n",
        "ax.set_xlabel(\"RF2\",fontsize=14)\n",
        "ax.set_ylabel(\"inhibition at 20uM\",fontsize=14)\n",
        "fig.show()"
      ],
      "execution_count": 37,
      "outputs": [
        {
          "output_type": "display_data",
          "data": {
            "image/png": "[encoded data removed]",
            "text/plain": [
              "<Figure size 432x288 with 1 Axes>"
            ]
          },
          "metadata": {
            "tags": [],
            "needs_background": "light"
          }
        }
      ]
    },
    {
      "cell_type": "code",
      "metadata": {
        "id": "Orr7gB3k4ihr"
      },
      "source": [
        "q = f\"\"\"SELECT name, predicted_active_probs[OFFSET(0)].prob AS prob_true FROM ML.PREDICT(MODEL `spike_ncats.xgbmodel`,\n",
        "    (\n",
        "    SELECT docked.name, AVG(docked.score) AS score_avg,\n",
        "          MIN(docked.score) AS score_min,\n",
        "          SUM(EXP(-docked.score/{T})*docked.score/{T})/SUM(EXP(-docked.score/{T})) + LOG(AVG(EXP(-docked.score/{T}))) as S_canonical,\n",
        "          -{T}*LOG(AVG(EXP(-docked.score/{T}))) as F,\n",
        "          AVG(rf2) as rf2_avg,\n",
        "          MAX(rf2) as rf2_max,\n",
        "          AVG(vs_dude_v2) as vs_dude_v2_avg,\n",
        "          MAX(vs_dude_v2) AS vs_dude_v2_max\n",
        "   FROM moonshot.docked\n",
        "   INNER JOIN moonshot.scores ON docked.name = scores.name AND docked.rank = scores.rank\n",
        "   GROUP BY docked.name\n",
        "   ))\n",
        "\"\"\"\n",
        "from google.cloud import bigquery\n",
        "client = bigquery.Client(project=project_id)\n",
        "df_predict = client.query(q).to_dataframe()"
      ],
      "execution_count": 38,
      "outputs": []
    },
    {
      "cell_type": "code",
      "metadata": {
        "id": "O8x4yWEW4uXl"
      },
      "source": [
        "df_predict = df_predict.merge(df_moonshot,on='name')"
      ],
      "execution_count": 39,
      "outputs": []
    },
    {
      "cell_type": "code",
      "metadata": {
        "colab": {
          "base_uri": "https://localhost:8080/",
          "height": 401
        },
        "id": "CStSRM7rxdg0",
        "outputId": "9b33a4ae-1224-428e-c80e-bfc067356f58"
      },
      "source": [
        "import numpy as np\n",
        "x = np.linspace(0,100,100)\n",
        "\n",
        "#cutoff = 50\n",
        "#c = 'f_inhibition_at_20_uM'\n",
        "\n",
        "cutoff = 5\n",
        "c = 'f_avg_IC50'\n",
        "y_true = (df_moonshot[c] <= cutoff)\n",
        "\n",
        "fig,ax = plt.subplots()\n",
        "fig.set_size_inches(9,6)\n",
        "\n",
        "\n",
        "p = [precision_neg(y_true, df_moonshot.score_min, percentage=p) for p in x]\n",
        "r = [recall_neg(y_true, df_moonshot.score_min, percentage=p) for p in x]\n",
        "auc = np.trapz(p,r)\n",
        "ax.plot(r,p,label='score AUC={:.5f}'.format(auc))\n",
        "\n",
        "# p = [precision(y_true, df_moonshot.S_canonical, percentage=p) for p in x]\n",
        "# r = [recall(y_true, df_moonshot.S_canonical, percentage=p) for p in x]\n",
        "# auc = np.trapz(p,r)\n",
        "# ax.plot(r,p,label='$S$ AUC={:.5f}'.format(auc))\n",
        "\n",
        "p = [precision(y_true, df_moonshot.rf2, percentage=p) for p in x]\n",
        "r = [recall(y_true, df_moonshot.rf2, percentage=p) for p in x]\n",
        "auc = np.trapz(p,r)\n",
        "ax.plot(r,p,label='rf2 AUC={:.5f}'.format(auc))\n",
        "\n",
        "r = [recall(y_true, df_moonshot.rf2_avg, percentage=p) for p in x]\n",
        "p = [precision(y_true, df_moonshot.rf2_avg, percentage=p) for p in x]\n",
        "auc = np.trapz(p,r)\n",
        "ax.plot(r,p,label='rf2_avg AUC={:.5f}'.format(auc))\n",
        "\n",
        "r = [recall(y_true, df_moonshot.vs_dude_v2, percentage=p) for p in x]\n",
        "p = [precision(y_true, df_moonshot.vs_dude_v2, percentage=p) for p in x]\n",
        "auc = np.trapz(p,r)\n",
        "ax.plot(r,p,label='VS DUD-E AUC={:.5f}'.format(auc))\n",
        "\n",
        "\n",
        "r = np.array([recall2(y_true, df_moonshot.vs_dude_v2_avg, df_moonshot.rf2_avg, percentage=p) for p in x])\n",
        "p = np.array([precision2(y_true, df_moonshot.vs_dude_v2_avg, df_moonshot.rf2_avg, percentage=p) for p in x])\n",
        "auc = np.trapz(p[p>0],r[p>0])\n",
        "ax.plot(r,p,label='VS DUD-E + RF2 AUC={:.5f}'.format(auc))\n",
        "\n",
        "dude_cutoff = 6.05\n",
        "filter = df_moonshot['vs_dude_v2'] > dude_cutoff\n",
        "r = [recall(y_true, filter*df_moonshot.rf2_avg, percentage=p) for p in x]\n",
        "p = [precision(y_true, filter*df_moonshot.rf2_avg, percentage=p) for p in x]\n",
        "auc = np.trapz(p,r)\n",
        "ax.plot(r,p,label='rf2_avg with VS DUD-E > {} AUC={:.5f}'.format(dude_cutoff,auc))\n",
        "\n",
        "\n",
        "X = df_moonshot[['score_avg','rf2_avg','vs_dude_v2_avg','score_min','rf2_max','vs_dude_v2_max','S_canonical','F']]\n",
        "prob = model.predict_proba(X)[:,1]\n",
        "p, r, _ = precision_recall_curve(y_true, prob)\n",
        "auc = np.trapz(p[::-1],r[::-1])\n",
        "ax.plot(r,p,label='XGB AUC={:.5f}'.format(auc))\n",
        "\n",
        "\n",
        "# y_true = df_predict[c] <= cutoff\n",
        "# prob = df_predict.prob_true\n",
        "# p, r, _ = precision_recall_curve(y_true, prob)\n",
        "# auc = np.trapz(p[::-1],r[::-1])\n",
        "# ax.plot(r,p,label='BQ XGB AUC={:.5f}'.format(auc))\n",
        "\n",
        "# dude_cutoff = 6\n",
        "# filter = df_moonshot['vs_dude_v2'] > dude_cutoff\n",
        "# y = [enrichment_factor(y_true[filter], df_moonshot[filter].rf2_avg, percentage=p) for p in x]\n",
        "# ax.plot(x,y,label='rf2_avg with VS DUD-E > {}'.format(dude_cutoff))\n",
        "\n",
        "# y = [enrichment_factor_neg(y_true, df_moonshot.F+T*df_moonshot.S_canonical, percentage=p) for p in x]\n",
        "# ax.plot(x,y,label='$\\\\langle U \\\\rangle$')\n",
        "\n",
        "ax.legend(frameon=False,ncol=1,\n",
        "         title='N={}, active = IC50 <{}$\\\\mu$M'.format(len(df_moonshot[df_moonshot[c].notnull()]),cutoff))\n",
        "\n",
        "ax.set_ylim(0,1)\n",
        "ax.set_xlabel('recall',fontsize=20)\n",
        "ax.set_ylabel('precision',fontsize=20)\n",
        "fig.savefig('mpro_postera_pr.pdf')\n",
        "from google.colab import files\n",
        "files.download('mpro_postera_pr.pdf')\n",
        "fig.show()"
      ],
      "execution_count": 81,
      "outputs": [
        {
          "output_type": "display_data",
          "data": {
            "application/javascript": [
              "\n",
              "    async function download(id, filename, size) {\n",
              "      if (!google.colab.kernel.accessAllowed) {\n",
              "        return;\n",
              "      }\n",
              "      const div = document.createElement('div');\n",
              "      const label = document.createElement('label');\n",
              "      label.textContent = `Downloading \"${filename}\": `;\n",
              "      div.appendChild(label);\n",
              "      const progress = document.createElement('progress');\n",
              "      progress.max = size;\n",
              "      div.appendChild(progress);\n",
              "      document.body.appendChild(div);\n",
              "\n",
              "      const buffers = [];\n",
              "      let downloaded = 0;\n",
              "\n",
              "      const channel = await google.colab.kernel.comms.open(id);\n",
              "      // Send a message to notify the kernel that we're ready.\n",
              "      channel.send({})\n",
              "\n",
              "      for await (const message of channel.messages) {\n",
              "        // Send a message to notify the kernel that we're ready.\n",
              "        channel.send({})\n",
              "        if (message.buffers) {\n",
              "          for (const buffer of message.buffers) {\n",
              "            buffers.push(buffer);\n",
              "            downloaded += buffer.byteLength;\n",
              "            progress.value = downloaded;\n",
              "          }\n",
              "        }\n",
              "      }\n",
              "      const blob = new Blob(buffers, {type: 'application/binary'});\n",
              "      const a = document.createElement('a');\n",
              "      a.href = window.URL.createObjectURL(blob);\n",
              "      a.download = filename;\n",
              "      div.appendChild(a);\n",
              "      a.click();\n",
              "      div.remove();\n",
              "    }\n",
              "  "
            ],
            "text/plain": [
              "<IPython.core.display.Javascript object>"
            ]
          },
          "metadata": {
            "tags": []
          }
        },
        {
          "output_type": "display_data",
          "data": {
            "application/javascript": [
              "download(\"download_4a48b682-04f9-4045-a719-80df7e155dde\", \"mpro_postera_pr.pdf\", 26652)"
            ],
            "text/plain": [
              "<IPython.core.display.Javascript object>"
            ]
          },
          "metadata": {
            "tags": []
          }
        },
        {
          "output_type": "display_data",
          "data": {
            "image/png": "[encoded data removed]",
            "text/plain": [
              "<Figure size 648x432 with 1 Axes>"
            ]
          },
          "metadata": {
            "tags": [],
            "needs_background": "light"
          }
        }
      ]
    },
    {
      "cell_type": "code",
      "metadata": {
        "colab": {
          "base_uri": "https://localhost:8080/"
        },
        "id": "oWGUQ_dhZxVM",
        "outputId": "587cbe21-ec58-4da3-d53d-cb523d763a92"
      },
      "source": [
        "np.count_nonzero(pred), np.count_nonzero(y_true)"
      ],
      "execution_count": null,
      "outputs": [
        {
          "output_type": "execute_result",
          "data": {
            "text/plain": [
              "(93, 198)"
            ]
          },
          "metadata": {
            "tags": []
          },
          "execution_count": 575
        }
      ]
    },
    {
      "cell_type": "code",
      "metadata": {
        "colab": {
          "base_uri": "https://localhost:8080/",
          "height": 282
        },
        "id": "zUAZtaeC4LU0",
        "outputId": "4a29f1d2-a17e-4363-b01a-501b603a2ce5"
      },
      "source": [
        "df_moonshot['vs_dude_v2'].hist()"
      ],
      "execution_count": null,
      "outputs": [
        {
          "output_type": "execute_result",
          "data": {
            "text/plain": [
              "<matplotlib.axes._subplots.AxesSubplot at 0x7f32b6998080>"
            ]
          },
          "metadata": {
            "tags": []
          },
          "execution_count": 463
        },
        {
          "output_type": "display_data",
          "data": {
            "image/png": "[encoded data removed]",
            "text/plain": [
              "<Figure size 432x288 with 1 Axes>"
            ]
          },
          "metadata": {
            "tags": [],
            "needs_background": "light"
          }
        }
      ]
    },
    {
      "cell_type": "markdown",
      "metadata": {
        "id": "yBrC3XEUDX__"
      },
      "source": [
        "# Primary screen"
      ]
    },
    {
      "cell_type": "code",
      "metadata": {
        "id": "n3AkaWgtUJVh"
      },
      "source": [
        "q = f\"\"\"\n",
        "SELECT * FROM\n",
        "(\n",
        "  SELECT name_first, AVG(rf2) AS rf2_avg, MAX(rf2) AS rf2_max,\n",
        "    AVG(vs_dude_v2) AS vs_dude_v2_avg, MAX(vs_dude_v2) AS vs_dude_v2_max,\n",
        "    AVG(dcoid) AS dcoid_avg, MAX(dcoid) AS dcoid_max,\n",
        "    AVG(score) AS score_avg, MIN(score) AS score_min,\n",
        "    SUM(EXP(-score/{T})*score/{T})/SUM(EXP(-score/{T})) + LOG(AVG(EXP(-score/{T}))) as S_canonical,\n",
        "    -{T}*LOG(AVG(EXP(-score/{T}))) as F,\n",
        "  FROM  (SELECT *,SPLIT(name,\"_\")[OFFSET(0)] as name_first FROM `cmb-covid19-discovery-collab.mpro_5r84.scores` WHERE score < 0)\n",
        "  GROUP BY name_first\n",
        ") AS A RIGHT JOIN mpro_exp.primary_screen_sep_2020 AS B ON A.name_first = B.compound\"\"\"\n",
        "\n",
        "from google.cloud import bigquery\n",
        "client = bigquery.Client(project=project_id)\n",
        "df_primary = client.query(q).to_dataframe()"
      ],
      "execution_count": null,
      "outputs": []
    },
    {
      "cell_type": "code",
      "metadata": {
        "id": "dK3TX6usYAVt"
      },
      "source": [
        "df_primary_nn = df_primary[~df_primary.score_avg.isna()]"
      ],
      "execution_count": null,
      "outputs": []
    },
    {
      "cell_type": "code",
      "metadata": {
        "colab": {
          "base_uri": "https://localhost:8080/",
          "height": 235
        },
        "id": "HfWdFi-sVusJ",
        "outputId": "6151fa5c-56d8-4b22-9f34-f2e0a6f30c54"
      },
      "source": [
        "import numpy as np\n",
        "x = np.linspace(0,100,100)\n",
        "\n",
        "cutoff = 65\n",
        "c = '__residual_activity'\n",
        "y_true = (df_primary_nn[c] <= cutoff)\n",
        "\n",
        "fig,ax = plt.subplots()\n",
        "fig.set_size_inches(9,6)\n",
        "\n",
        "\n",
        "p = [precision_neg(y_true, df_primary_nn.score_avg, percentage=p) for p in x]\n",
        "r = [recall_neg(y_true, df_primary_nn.score_avg, percentage=p) for p in x]\n",
        "auc = np.trapz(p,r)\n",
        "ax.plot(r,p,label='score AUC={:.5f}'.format(auc))\n",
        "\n",
        "# p = [precision(y_true, df_primary.S_canonical, percentage=p) for p in x]\n",
        "# r = [recall(y_true, df_primary.S_canonical, percentage=p) for p in x]\n",
        "# auc = np.trapz(p,r)\n",
        "# ax.plot(r,p,label='$S$ AUC={:.5f}'.format(auc))\n",
        "\n",
        "# p = [precision(y_true, df_primary.rf2, percentage=p) for p in x]\n",
        "# r = [recall(y_true, df_primary.rf2, percentage=p) for p in x]\n",
        "# auc = np.trapz(p,r)\n",
        "# ax.plot(r,p,label='rf2 AUC={:.5f}'.format(auc))\n",
        "\n",
        "r = [recall(y_true, df_primary_nn.rf2_avg, percentage=p) for p in x]\n",
        "p = [precision(y_true, df_primary_nn.rf2_avg, percentage=p) for p in x]\n",
        "auc = np.trapz(p,r)\n",
        "ax.plot(r,p,label='rf2_avg AUC={:.5f}'.format(auc))\n",
        "\n",
        "r = [recall(y_true, df_primary_nn.vs_dude_v2_avg, percentage=p) for p in x]\n",
        "p = [precision(y_true, df_primary_nn.vs_dude_v2_avg, percentage=p) for p in x]\n",
        "auc = np.trapz(p,r)\n",
        "ax.plot(r,p,label='VS DUD-E AUC={:.5f}'.format(auc))\n",
        "\n",
        "\n",
        "r = np.array([recall2(y_true, df_primary_nn.vs_dude_v2_avg, df_primary_nn.rf2_avg, percentage=p) for p in x])\n",
        "p = np.array([precision2(y_true, df_primary_nn.vs_dude_v2_avg, df_primary_nn.rf2_avg, percentage=p) for p in x])\n",
        "auc = np.trapz(p[p>0],r[p>0])\n",
        "ax.plot(r,p,label='VS DUD-E + RF2 AUC={:.5f}'.format(auc))\n",
        "\n",
        "dude_cutoff = 6.05\n",
        "filter = df_primary_nn['vs_dude_v2'] > dude_cutoff\n",
        "r = [recall(y_true, filter*df_primary_nn.rf2_avg, percentage=p) for p in x]\n",
        "p = [precision(y_true, filter*df_primary_nn.rf2_avg, percentage=p) for p in x]\n",
        "auc = np.trapz(p,r)\n",
        "ax.plot(r,p,label='rf2_avg with VS DUD-E > {} AUC={:.5f}'.format(dude_cutoff,auc))\n",
        "\n",
        "\n",
        "X = df_primary_nn[['score_avg','rf2_avg','vs_dude_v2_avg','score_min','rf2_max','vs_dude_v2_max','S_canonical','F']]\n",
        "prob = model.predict_proba(X)[:,1]\n",
        "p, r, _ = precision_recall_curve(y_true, prob)\n",
        "auc = np.trapz(p[::-1],r[::-1])\n",
        "ax.plot(r,p,label='XGB AUC={:.5f}'.format(auc))\n",
        "\n",
        "# dude_cutoff = 6\n",
        "# filter = df_primary['vs_dude_v2'] > dude_cutoff\n",
        "# y = [enrichment_factor(y_true[filter], df_primary[filter].rf2_avg, percentage=p) for p in x]\n",
        "# ax.plot(x,y,label='rf2_avg with VS DUD-E > {}'.format(dude_cutoff))\n",
        "\n",
        "# y = [enrichment_factor_neg(y_true, df_primary.F+T*df_primary.S_canonical, percentage=p) for p in x]\n",
        "# ax.plot(x,y,label='$\\\\langle U \\\\rangle$')\n",
        "\n",
        "ax.legend(frameon=False,ncol=2,\n",
        "         title='N={}, active = IC50 <{}$\\\\mu$M'.format(len(df_primary[df_primary[c].notnull()]),cutoff))\n",
        "\n",
        "ax.set_ylim(0,1)\n",
        "ax.set_xlabel('recall',fontsize=16)\n",
        "ax.set_ylabel('precision',fontsize=16)\n",
        "fig.show()"
      ],
      "execution_count": 50,
      "outputs": [
        {
          "output_type": "error",
          "ename": "NameError",
          "evalue": "ignored",
          "traceback": [
            "\u001b[0;31m---------------------------------------------------------------------------\u001b[0m",
            "\u001b[0;31mNameError\u001b[0m                                 Traceback (most recent call last)",
            "\u001b[0;32m<ipython-input-50-e2c97ad77923>\u001b[0m in \u001b[0;36m<module>\u001b[0;34m()\u001b[0m\n\u001b[1;32m      4\u001b[0m \u001b[0mcutoff\u001b[0m \u001b[0;34m=\u001b[0m \u001b[0;36m65\u001b[0m\u001b[0;34m\u001b[0m\u001b[0;34m\u001b[0m\u001b[0m\n\u001b[1;32m      5\u001b[0m \u001b[0mc\u001b[0m \u001b[0;34m=\u001b[0m \u001b[0;34m'__residual_activity'\u001b[0m\u001b[0;34m\u001b[0m\u001b[0;34m\u001b[0m\u001b[0m\n\u001b[0;32m----> 6\u001b[0;31m \u001b[0my_true\u001b[0m \u001b[0;34m=\u001b[0m \u001b[0;34m(\u001b[0m\u001b[0mdf_primary_nn\u001b[0m\u001b[0;34m[\u001b[0m\u001b[0mc\u001b[0m\u001b[0;34m]\u001b[0m \u001b[0;34m<=\u001b[0m \u001b[0mcutoff\u001b[0m\u001b[0;34m)\u001b[0m\u001b[0;34m\u001b[0m\u001b[0;34m\u001b[0m\u001b[0m\n\u001b[0m\u001b[1;32m      7\u001b[0m \u001b[0;34m\u001b[0m\u001b[0m\n\u001b[1;32m      8\u001b[0m \u001b[0mfig\u001b[0m\u001b[0;34m,\u001b[0m\u001b[0max\u001b[0m \u001b[0;34m=\u001b[0m \u001b[0mplt\u001b[0m\u001b[0;34m.\u001b[0m\u001b[0msubplots\u001b[0m\u001b[0;34m(\u001b[0m\u001b[0;34m)\u001b[0m\u001b[0;34m\u001b[0m\u001b[0;34m\u001b[0m\u001b[0m\n",
            "\u001b[0;31mNameError\u001b[0m: name 'df_primary_nn' is not defined"
          ]
        }
      ]
    },
    {
      "cell_type": "code",
      "metadata": {
        "colab": {
          "base_uri": "https://localhost:8080/"
        },
        "id": "AvZiNDU9WAjL",
        "outputId": "a3761112-b31b-4370-bed3-c42fe95ac14d"
      },
      "source": [
        "np.count_nonzero(pred)"
      ],
      "execution_count": null,
      "outputs": [
        {
          "output_type": "execute_result",
          "data": {
            "text/plain": [
              "93"
            ]
          },
          "metadata": {
            "tags": []
          },
          "execution_count": 577
        }
      ]
    },
    {
      "cell_type": "code",
      "metadata": {
        "id": "L6RLedMHl9St"
      },
      "source": [
        ""
      ],
      "execution_count": null,
      "outputs": []
    }
  ]
}
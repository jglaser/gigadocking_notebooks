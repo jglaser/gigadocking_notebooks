{
  "nbformat": 4,
  "nbformat_minor": 0,
  "metadata": {
    "colab": {
      "name": "ML.ipynb",
      "provenance": [],
      "collapsed_sections": [],
      "include_colab_link": true
    },
    "kernelspec": {
      "display_name": "Python 3",
      "language": "python",
      "name": "python3"
    },
    "language_info": {
      "codemirror_mode": {
        "name": "ipython",
        "version": 3
      },
      "file_extension": ".py",
      "mimetype": "text/x-python",
      "name": "python",
      "nbconvert_exporter": "python",
      "pygments_lexer": "ipython3",
      "version": "3.7.8"
    }
  },
  "cells": [
    {
      "cell_type": "markdown",
      "metadata": {
        "id": "view-in-github",
        "colab_type": "text"
      },
      "source": [
        "<a href=\"https://colab.research.google.com/github/jglaser/gigadocking_notebooks/blob/main/ML.ipynb\" target=\"_parent\"><img src=\"https://colab.research.google.com/assets/colab-badge.svg\" alt=\"Open In Colab\"/></a>"
      ]
    },
    {
      "cell_type": "code",
      "metadata": {
        "id": "l_TfqKWp3q6C"
      },
      "source": [
        "import numpy as np\n",
        "import pandas as pd\n",
        "#import os\n",
        "\n",
        "import matplotlib.pyplot as plt\n",
        "import seaborn as sns\n",
        "\n",
        "# Normalizer\n",
        "from sklearn.preprocessing import Normalizer\n",
        "\n",
        "# ML classificator\n",
        "from scipy import stats\n",
        "from xgboost import XGBClassifier\n",
        "from sklearn.model_selection import RandomizedSearchCV, KFold\n",
        "from sklearn.metrics import f1_score, confusion_matrix, precision_recall_fscore_support, precision_recall_curve \n",
        "\n",
        "import xgboost as xgb\n",
        "\n",
        "#import openbabel \n",
        "#import pybel "
      ],
      "execution_count": 2,
      "outputs": []
    },
    {
      "cell_type": "markdown",
      "metadata": {
        "id": "n3Jiu9JWJLHz"
      },
      "source": [
        "## Train BigQuery XGB"
      ]
    },
    {
      "cell_type": "code",
      "metadata": {
        "id": "CTpccgVsJaWl"
      },
      "source": [
        "project_id = 'cmb-covid19-discovery-collab'"
      ],
      "execution_count": 3,
      "outputs": []
    },
    {
      "cell_type": "code",
      "metadata": {
        "colab": {
          "base_uri": "https://localhost:8080/"
        },
        "id": "uoOqOkTaJcn8",
        "outputId": "d04857e6-fb25-4e25-b9a3-21e2d6690052"
      },
      "source": [
        "from google.colab import auth\n",
        "auth.authenticate_user()\n",
        "print('Authenticated')"
      ],
      "execution_count": 4,
      "outputs": [
        {
          "output_type": "stream",
          "text": [
            "Authenticated\n"
          ],
          "name": "stdout"
        }
      ]
    },
    {
      "cell_type": "code",
      "metadata": {
        "id": "Ub-2qOwsoAPC"
      },
      "source": [
        "%%bigquery --project $project_id df\n",
        "SELECT * FROM moonshot.mpro_features LIMIT 10"
      ],
      "execution_count": null,
      "outputs": []
    },
    {
      "cell_type": "code",
      "metadata": {
        "id": "5HYHxCucoGq1"
      },
      "source": [
        "import numpy as np\n",
        "columns_moonshot = sorted([c for c in df.columns if c != 'string_field_0' and c.split('_')[-1] != 'tr'], key=lambda x: int(x.split('_')[1]))\n",
        "columns_moonshot_tr = sorted([c for c in df.columns if c != 'string_field_0'], key=lambda x: int(x.split('_')[1]))\n"
      ],
      "execution_count": null,
      "outputs": []
    },
    {
      "cell_type": "code",
      "metadata": {
        "id": "t47YOYCWpDmI"
      },
      "source": [
        "q = \"SELECT activities.f_avg_IC50,\"+','.join(columns_moonshot) + \\\n",
        "f\"\"\" FROM moonshot.mpro_features\n",
        "INNER JOIN moonshot.activities\n",
        "ON activities.CID = mpro_features.string_field_0\n",
        "\"\"\"\n",
        "from google.cloud import bigquery\n",
        "client = bigquery.Client(project=project_id)\n",
        "df_features = client.query(q).to_dataframe()"
      ],
      "execution_count": null,
      "outputs": []
    },
    {
      "cell_type": "code",
      "metadata": {
        "colab": {
          "base_uri": "https://localhost:8080/"
        },
        "id": "lMUZTTWbqVcU",
        "outputId": "ae9d9e8e-04a5-4d1b-fd2c-f18c2465e642"
      },
      "source": [
        "X = df_features[ columns_moonshot ]\n",
        "y = df_features['f_avg_IC50'] < 5. \n",
        "\n",
        "param_dist = {'n_estimators': stats.randint(100, 500),\n",
        "              'learning_rate': stats.uniform(0.01, 0.07),\n",
        "              'subsample': stats.uniform(0.3, 0.7),\n",
        "              'max_depth': [3, 4, 5, 6, 7, 8, 9],\n",
        "              'colsample_bytree': stats.uniform(0.5, 0.45),\n",
        "              'min_child_weight': [1, 2, 3]\n",
        "             }\n",
        "\n",
        "from sklearn.metrics import make_scorer\n",
        "\n",
        "def my_scorer(clf, X, y_true):\n",
        "    y_pred_proba = clf.predict_proba(X)[:,1]\n",
        "    p, r, _ = precision_recall_curve(y_true, y_pred_proba)\n",
        "    auc = np.trapz(p[::-1],r[::-1])\n",
        "    return auc\n",
        "\n",
        "clf_xgb = xgb.XGBClassifier(objective='binary:logistic', use_label_encoder=False)\n",
        "# custom scoring function doesn't work with n_jobs = -1\n",
        "clf = RandomizedSearchCV(clf_xgb, param_distributions = param_dist, n_iter = 100, scoring = my_scorer, error_score = 'raise', verbose=1)\n",
        "\n",
        "numFolds = 5\n",
        "folds = KFold(n_splits = numFolds, shuffle = True)\n",
        "\n",
        "estimators = []\n",
        "results = np.zeros(len(X))\n",
        "scores = []\n",
        "y_real = []\n",
        "y_proba = []\n",
        "for train_index, test_index in folds.split(X):\n",
        "    X_train, X_test = X.iloc[train_index,:], X.iloc[test_index,:]\n",
        "    y_train, y_test = y.iloc[train_index].values.ravel(), y.iloc[test_index].values.ravel()\n",
        "    clf.fit(X_train, y_train)\n",
        "\n",
        "    estimators.append(clf.best_estimator_)\n",
        "    results[test_index] = clf.predict(X_test)\n",
        "    pred_proba = clf.predict_proba(X_test)\n",
        "    y_real.append(y_test)\n",
        "    y_proba.append(pred_proba[:,1])\n",
        "    #score += f1_score(y_test, results[test_index])\n",
        "    scores.append(my_scorer(clf.best_estimator_,X_test,y_test))\n",
        "\n",
        "# train on entire data set\n",
        "clf.fit(X,y)\n",
        "model_notr = clf.best_estimator_"
      ],
      "execution_count": null,
      "outputs": [
        {
          "output_type": "stream",
          "text": [
            "Fitting 5 folds for each of 100 candidates, totalling 500 fits\n"
          ],
          "name": "stdout"
        },
        {
          "output_type": "stream",
          "text": [
            "[Parallel(n_jobs=1)]: Using backend SequentialBackend with 1 concurrent workers.\n",
            "[Parallel(n_jobs=1)]: Done 500 out of 500 | elapsed:   56.5s finished\n"
          ],
          "name": "stderr"
        },
        {
          "output_type": "stream",
          "text": [
            "Fitting 5 folds for each of 100 candidates, totalling 500 fits\n"
          ],
          "name": "stdout"
        },
        {
          "output_type": "stream",
          "text": [
            "[Parallel(n_jobs=1)]: Using backend SequentialBackend with 1 concurrent workers.\n",
            "[Parallel(n_jobs=1)]: Done 500 out of 500 | elapsed:   59.8s finished\n"
          ],
          "name": "stderr"
        },
        {
          "output_type": "stream",
          "text": [
            "Fitting 5 folds for each of 100 candidates, totalling 500 fits\n"
          ],
          "name": "stdout"
        },
        {
          "output_type": "stream",
          "text": [
            "[Parallel(n_jobs=1)]: Using backend SequentialBackend with 1 concurrent workers.\n",
            "[Parallel(n_jobs=1)]: Done 500 out of 500 | elapsed:   57.5s finished\n",
            "[Parallel(n_jobs=1)]: Using backend SequentialBackend with 1 concurrent workers.\n"
          ],
          "name": "stderr"
        },
        {
          "output_type": "stream",
          "text": [
            "Fitting 5 folds for each of 100 candidates, totalling 500 fits\n"
          ],
          "name": "stdout"
        },
        {
          "output_type": "stream",
          "text": [
            "[Parallel(n_jobs=1)]: Done 500 out of 500 | elapsed:   53.9s finished\n",
            "[Parallel(n_jobs=1)]: Using backend SequentialBackend with 1 concurrent workers.\n"
          ],
          "name": "stderr"
        },
        {
          "output_type": "stream",
          "text": [
            "Fitting 5 folds for each of 100 candidates, totalling 500 fits\n"
          ],
          "name": "stdout"
        },
        {
          "output_type": "stream",
          "text": [
            "[Parallel(n_jobs=1)]: Done 500 out of 500 | elapsed:   59.1s finished\n"
          ],
          "name": "stderr"
        },
        {
          "output_type": "stream",
          "text": [
            "Fitting 5 folds for each of 100 candidates, totalling 500 fits\n"
          ],
          "name": "stdout"
        },
        {
          "output_type": "stream",
          "text": [
            "[Parallel(n_jobs=1)]: Using backend SequentialBackend with 1 concurrent workers.\n",
            "[Parallel(n_jobs=1)]: Done 500 out of 500 | elapsed:  1.1min finished\n"
          ],
          "name": "stderr"
        }
      ]
    },
    {
      "cell_type": "code",
      "metadata": {
        "id": "sES0R8EruTjp"
      },
      "source": [
        "q = \"SELECT activities.f_avg_IC50,\"+','.join(columns_moonshot_tr) + \\\n",
        "f\"\"\",string_field_0 AS CID FROM moonshot.mpro_features\n",
        "INNER JOIN moonshot.activities\n",
        "ON activities.CID = mpro_features.string_field_0\n",
        "\"\"\"\n",
        "from google.cloud import bigquery\n",
        "client = bigquery.Client(project=project_id)\n",
        "df_features_tr = client.query(q).to_dataframe()"
      ],
      "execution_count": null,
      "outputs": []
    },
    {
      "cell_type": "code",
      "metadata": {
        "colab": {
          "base_uri": "https://localhost:8080/"
        },
        "id": "6f83llh4ueE7",
        "outputId": "fdce812e-4f52-498f-de26-3453c7bc51ca"
      },
      "source": [
        "X = df_features_tr[ columns_moonshot_tr ]\n",
        "y = df_features_tr['f_avg_IC50'] < 5. \n",
        "\n",
        "param_dist = {'n_estimators': stats.randint(100, 500),\n",
        "              'learning_rate': stats.uniform(0.01, 0.07),\n",
        "              'subsample': stats.uniform(0.3, 0.7),\n",
        "              'max_depth': [3, 4, 5, 6, 7, 8, 9],\n",
        "              'colsample_bytree': stats.uniform(0.5, 0.45),\n",
        "              'min_child_weight': [1, 2, 3]\n",
        "             }\n",
        "\n",
        "def my_scorer(clf, X, y_true):\n",
        "    y_pred_proba = clf.predict_proba(X)[:,1]\n",
        "    p, r, _ = precision_recall_curve(y_true, y_pred_proba)\n",
        "    auc = np.trapz(p[::-1],r[::-1])\n",
        "    return auc\n",
        "\n",
        "clf_xgb = xgb.XGBClassifier(objective='binary:logistic', use_label_encoder=False)\n",
        "# custom scoring function doesn't work with n_jobs = -1\n",
        "clf = RandomizedSearchCV(clf_xgb, param_distributions = param_dist, n_iter = 100, scoring = my_scorer, error_score = 'raise', verbose=1)\n",
        "\n",
        "numFolds = 5\n",
        "folds = KFold(n_splits = numFolds, shuffle = True)\n",
        "\n",
        "estimators_tr = []\n",
        "results = np.zeros(len(X))\n",
        "scores_tr = []\n",
        "y_real_tr = []\n",
        "y_proba_tr = []\n",
        "for train_index, test_index in folds.split(X):\n",
        "    X_train, X_test = X.iloc[train_index,:], X.iloc[test_index,:]\n",
        "    y_train, y_test = y.iloc[train_index].values.ravel(), y.iloc[test_index].values.ravel()\n",
        "    clf.fit(X_train, y_train)\n",
        "\n",
        "    estimators_tr.append(clf.best_estimator_)\n",
        "    results[test_index] = clf.predict(X_test)\n",
        "    pred_proba = clf.predict_proba(X_test)\n",
        "    y_real_tr.append(y_test)\n",
        "    y_proba_tr.append(pred_proba[:,1])\n",
        "    #score_tr += f1_score(y_test, results[test_index])\n",
        "    scores_tr.append(my_scorer(clf.best_estimator_,X_test,y_test))\n",
        "\n",
        "# train on entire data set\n",
        "clf.fit(X,y)\n",
        "model_tr = clf.best_estimator_"
      ],
      "execution_count": null,
      "outputs": [
        {
          "output_type": "stream",
          "text": [
            "Fitting 5 folds for each of 100 candidates, totalling 500 fits\n"
          ],
          "name": "stdout"
        },
        {
          "output_type": "stream",
          "text": [
            "[Parallel(n_jobs=1)]: Using backend SequentialBackend with 1 concurrent workers.\n",
            "[Parallel(n_jobs=1)]: Done 500 out of 500 | elapsed:  1.1min finished\n",
            "[Parallel(n_jobs=1)]: Using backend SequentialBackend with 1 concurrent workers.\n"
          ],
          "name": "stderr"
        },
        {
          "output_type": "stream",
          "text": [
            "Fitting 5 folds for each of 100 candidates, totalling 500 fits\n"
          ],
          "name": "stdout"
        },
        {
          "output_type": "stream",
          "text": [
            "[Parallel(n_jobs=1)]: Done 500 out of 500 | elapsed:  1.1min finished\n",
            "[Parallel(n_jobs=1)]: Using backend SequentialBackend with 1 concurrent workers.\n"
          ],
          "name": "stderr"
        },
        {
          "output_type": "stream",
          "text": [
            "Fitting 5 folds for each of 100 candidates, totalling 500 fits\n"
          ],
          "name": "stdout"
        },
        {
          "output_type": "stream",
          "text": [
            "[Parallel(n_jobs=1)]: Done 500 out of 500 | elapsed:  1.1min finished\n"
          ],
          "name": "stderr"
        },
        {
          "output_type": "stream",
          "text": [
            "Fitting 5 folds for each of 100 candidates, totalling 500 fits\n"
          ],
          "name": "stdout"
        },
        {
          "output_type": "stream",
          "text": [
            "[Parallel(n_jobs=1)]: Using backend SequentialBackend with 1 concurrent workers.\n",
            "[Parallel(n_jobs=1)]: Done 500 out of 500 | elapsed:  1.2min finished\n"
          ],
          "name": "stderr"
        },
        {
          "output_type": "stream",
          "text": [
            "Fitting 5 folds for each of 100 candidates, totalling 500 fits\n"
          ],
          "name": "stdout"
        },
        {
          "output_type": "stream",
          "text": [
            "[Parallel(n_jobs=1)]: Using backend SequentialBackend with 1 concurrent workers.\n",
            "[Parallel(n_jobs=1)]: Done 500 out of 500 | elapsed:  1.2min finished\n",
            "[Parallel(n_jobs=1)]: Using backend SequentialBackend with 1 concurrent workers.\n"
          ],
          "name": "stderr"
        },
        {
          "output_type": "stream",
          "text": [
            "Fitting 5 folds for each of 100 candidates, totalling 500 fits\n"
          ],
          "name": "stdout"
        },
        {
          "output_type": "stream",
          "text": [
            "[Parallel(n_jobs=1)]: Done 500 out of 500 | elapsed:  1.6min finished\n"
          ],
          "name": "stderr"
        }
      ]
    },
    {
      "cell_type": "code",
      "metadata": {
        "colab": {
          "base_uri": "https://localhost:8080/",
          "height": 385
        },
        "id": "9Vc2ruonU8HI",
        "outputId": "92050f0a-c816-4d70-987e-880ab33682dd"
      },
      "source": [
        "fig, ax = plt.subplots()\n",
        "fig.set_size_inches(6,6)\n",
        "x = [np.mean(scores), np.mean(scores_tr)]\n",
        "ax.bar([0],[x[0]],width=0.4,label='no tr',yerr=np.std(scores)/np.sqrt(len(scores)),capsize=5)\n",
        "ax.bar([0.5],[x[1]],width=0.4,label='w/tr',yerr=np.std(scores_tr)/np.sqrt(len(scores_tr)),capsize=5)\n",
        "ax.set_ylim(0,1)\n",
        "ax.legend(frameon=False,fontsize=24)\n",
        "ax.set_ylabel('precision-recall AUC',fontsize=18)\n",
        "ax.set_xticks([])"
      ],
      "execution_count": null,
      "outputs": [
        {
          "output_type": "execute_result",
          "data": {
            "text/plain": [
              "[]"
            ]
          },
          "metadata": {
            "tags": []
          },
          "execution_count": 190
        },
        {
          "output_type": "display_data",
          "data": {
            "image/png": "[encoded data removed]",
            "text/plain": [
              "<Figure size 432x432 with 1 Axes>"
            ]
          },
          "metadata": {
            "tags": [],
            "needs_background": "light"
          }
        }
      ]
    },
    {
      "cell_type": "code",
      "metadata": {
        "colab": {
          "base_uri": "https://localhost:8080/",
          "height": 279
        },
        "id": "NaOGgl3Dr_dF",
        "outputId": "b0af9511-bf50-45a8-c553-4d78a4df4d25"
      },
      "source": [
        "fig = plt.figure()\n",
        "ax = fig.subplots()\n",
        "\n",
        "yreal = np.concatenate(y_real)\n",
        "yproba = np.concatenate(y_proba)\n",
        "p, r, _ = precision_recall_curve(yreal, yproba)\n",
        "auc = np.trapz(p[::-1],r[::-1])\n",
        "ax.plot(r,p,label='XGB no_tr AUC={:.5f}'.format(auc))\n",
        "\n",
        "\n",
        "yreal = np.concatenate(y_real_tr)\n",
        "yproba = np.concatenate(y_proba_tr)\n",
        "p, r, _ = precision_recall_curve(yreal, yproba)\n",
        "auc = np.trapz(p[::-1],r[::-1])\n",
        "ax.plot(r,p,label='XGB w/tr AUC={:.5f}'.format(auc))\n",
        "\n",
        "ax.set_xlabel('recall')\n",
        "ax.set_ylabel('precision')\n",
        "ax.legend()\n",
        "plt.show()\n",
        "#fig.savefig('AUC_test.png')"
      ],
      "execution_count": null,
      "outputs": [
        {
          "output_type": "display_data",
          "data": {
            "image/png": "[encoded data removed]",
            "text/plain": [
              "<Figure size 432x288 with 1 Axes>"
            ]
          },
          "metadata": {
            "tags": []
          }
        }
      ]
    },
    {
      "cell_type": "code",
      "metadata": {
        "colab": {
          "base_uri": "https://localhost:8080/"
        },
        "id": "fCRyG3jL1eKF",
        "outputId": "d2fc92ad-5514-4661-f1c6-c3e22fcfe631"
      },
      "source": [
        "model = model_tr\n",
        "model"
      ],
      "execution_count": null,
      "outputs": [
        {
          "output_type": "execute_result",
          "data": {
            "text/plain": [
              "XGBClassifier(base_score=0.5, booster='gbtree', colsample_bylevel=1,\n",
              "              colsample_bynode=1, colsample_bytree=0.5255383009693526, gamma=0,\n",
              "              learning_rate=0.061658177798448524, max_delta_step=0, max_depth=3,\n",
              "              min_child_weight=1, missing=None, n_estimators=253, n_jobs=1,\n",
              "              nthread=None, objective='binary:logistic', random_state=0,\n",
              "              reg_alpha=0, reg_lambda=1, scale_pos_weight=1, seed=None,\n",
              "              silent=None, subsample=0.8779782890904051,\n",
              "              use_label_encoder=False, verbosity=1)"
            ]
          },
          "metadata": {
            "tags": []
          },
          "execution_count": 177
        }
      ]
    },
    {
      "cell_type": "code",
      "metadata": {
        "colab": {
          "base_uri": "https://localhost:8080/",
          "height": 32
        },
        "id": "_76KJSzaJGQo",
        "outputId": "9003031e-909e-424c-9f1f-27a819250928"
      },
      "source": [
        "active_uM = 5.0\n",
        "f_str = ','.join(columns_moonshot_tr)\n",
        "q = f\"\"\"\n",
        "CREATE OR REPLACE MODEL moonshot.xgbmodel\n",
        "OPTIONS(MODEL_TYPE='BOOSTED_TREE_CLASSIFIER',\n",
        "        DATA_SPLIT_METHOD = 'NO_SPLIT',\n",
        "        BOOSTER_TYPE = '{model.booster}',\n",
        "        MIN_TREE_CHILD_WEIGHT = {model.min_child_weight},\n",
        "        MAX_TREE_DEPTH = {model.max_depth},\n",
        "        MIN_SPLIT_LOSS={model.gamma},\n",
        "        NUM_PARALLEL_TREE = 1,\n",
        "        LEARN_RATE={model.learning_rate},\n",
        "        MAX_ITERATIONS = {model.n_estimators},\n",
        "        TREE_METHOD = 'AUTO',\n",
        "        EARLY_STOP = FALSE,\n",
        "        SUBSAMPLE = {model.subsample},\n",
        "        COLSAMPLE_BYTREE = {model.colsample_bytree},\n",
        "        INPUT_LABEL_COLS = ['active'])\n",
        "AS SELECT (f_avg_IC50 < {active_uM}) AS active,\n",
        "          {f_str}\n",
        "FROM moonshot.mpro_features\n",
        "INNER JOIN moonshot.activities\n",
        "ON activities.CID = mpro_features.string_field_0\n",
        "WHERE f_avg_IC50 IS NOT NULL\n",
        "\"\"\"\n",
        "from google.cloud import bigquery\n",
        "client = bigquery.Client(project=project_id)\n",
        "client.query(q).to_dataframe()"
      ],
      "execution_count": null,
      "outputs": [
        {
          "output_type": "execute_result",
          "data": {
            "text/html": [
              "<div>\n",
              "<style scoped>\n",
              "    .dataframe tbody tr th:only-of-type {\n",
              "        vertical-align: middle;\n",
              "    }\n",
              "\n",
              "    .dataframe tbody tr th {\n",
              "        vertical-align: top;\n",
              "    }\n",
              "\n",
              "    .dataframe thead th {\n",
              "        text-align: right;\n",
              "    }\n",
              "</style>\n",
              "<table border=\"1\" class=\"dataframe\">\n",
              "  <thead>\n",
              "    <tr style=\"text-align: right;\">\n",
              "      <th></th>\n",
              "    </tr>\n",
              "  </thead>\n",
              "  <tbody>\n",
              "  </tbody>\n",
              "</table>\n",
              "</div>"
            ],
            "text/plain": [
              "Empty DataFrame\n",
              "Columns: []\n",
              "Index: []"
            ]
          },
          "metadata": {
            "tags": []
          },
          "execution_count": 178
        }
      ]
    },
    {
      "cell_type": "code",
      "metadata": {
        "colab": {
          "base_uri": "https://localhost:8080/"
        },
        "id": "_yRWNJg13q6L",
        "outputId": "137802ba-98cb-46b6-d9f1-5c56b70bc345"
      },
      "source": [
        "feat = pd.DataFrame(model.feature_importances_, index=columns_moonshot_tr, columns=['importance'])\n",
        "with pd.option_context('display.max_rows', None):  # more options can be specified also\n",
        "    print(feat.sort_values(by='importance', ascending=False))"
      ],
      "execution_count": null,
      "outputs": [
        {
          "output_type": "stream",
          "text": [
            "            importance\n",
            "SER_144_PB    0.079609\n",
            "THR_25_AB     0.069595\n",
            "SER_144_tr    0.065462\n",
            "CYS_145_PB    0.058191\n",
            "ASN_142_AB    0.056008\n",
            "CYS_145_tr    0.049868\n",
            "HSD_41_PB     0.039649\n",
            "GLN_189_AB    0.037348\n",
            "ASP_187_AB    0.037216\n",
            "ARG_188_PB    0.037068\n",
            "GLN_189_PB    0.034200\n",
            "GLU_166_AB    0.033462\n",
            "MET_165_AB    0.031400\n",
            "ASN_142_tr    0.030791\n",
            "PHE_140_PB    0.030230\n",
            "HSE_164_PB    0.030139\n",
            "HSD_41_AB     0.029566\n",
            "MET_49_AB     0.028417\n",
            "ASP_187_PB    0.027566\n",
            "CYS_44_PB     0.026704\n",
            "GLY_143_PB    0.025147\n",
            "ASN_142_PB    0.024672\n",
            "GLU_166_PB    0.024547\n",
            "TYR_54_PB     0.023374\n",
            "THR_190_PB    0.022377\n",
            "GLU_166_tr    0.020410\n",
            "MET_165_PB    0.018655\n",
            "THR_25_PB     0.008331\n",
            "ASN_119_AB    0.000000\n",
            "ASP_187_tr    0.000000\n",
            "LEU_167_AB    0.000000\n",
            "LEU_167_tr    0.000000\n",
            "PRO_168_PB    0.000000\n",
            "PRO_168_AB    0.000000\n",
            "PRO_168_tr    0.000000\n",
            "HSE_172_PB    0.000000\n",
            "HSE_172_AB    0.000000\n",
            "HSE_172_tr    0.000000\n",
            "PHE_185_PB    0.000000\n",
            "PHE_185_AB    0.000000\n",
            "PHE_185_tr    0.000000\n",
            "LEU_27_AB     0.000000\n",
            "LEU_27_PB     0.000000\n",
            "THR_26_tr     0.000000\n",
            "ASN_119_tr    0.000000\n",
            "ARG_188_AB    0.000000\n",
            "ARG_188_tr    0.000000\n",
            "THR_26_AB     0.000000\n",
            "THR_26_PB     0.000000\n",
            "GLN_189_tr    0.000000\n",
            "THR_25_tr     0.000000\n",
            "THR_190_AB    0.000000\n",
            "THR_190_tr    0.000000\n",
            "ALA_191_PB    0.000000\n",
            "ALA_191_AB    0.000000\n",
            "ALA_191_tr    0.000000\n",
            "GLN_192_PB    0.000000\n",
            "GLN_192_AB    0.000000\n",
            "LEU_167_PB    0.000000\n",
            "LEU_27_tr     0.000000\n",
            "HSD_41_tr     0.000000\n",
            "VAL_42_PB     0.000000\n",
            "ASN_119_PB    0.000000\n",
            "PHE_140_AB    0.000000\n",
            "PHE_140_tr    0.000000\n",
            "LEU_141_PB    0.000000\n",
            "LEU_141_AB    0.000000\n",
            "LEU_141_tr    0.000000\n",
            "TYR_54_tr     0.000000\n",
            "TYR_54_AB     0.000000\n",
            "PRO_52_tr     0.000000\n",
            "PRO_52_AB     0.000000\n",
            "GLY_143_AB    0.000000\n",
            "GLY_143_tr    0.000000\n",
            "PRO_52_PB     0.000000\n",
            "SER_144_AB    0.000000\n",
            "MET_49_tr     0.000000\n",
            "MET_49_PB     0.000000\n",
            "CYS_145_AB    0.000000\n",
            "CYS_44_tr     0.000000\n",
            "HSE_163_PB    0.000000\n",
            "HSE_163_AB    0.000000\n",
            "HSE_163_tr    0.000000\n",
            "CYS_44_AB     0.000000\n",
            "HSE_164_AB    0.000000\n",
            "HSE_164_tr    0.000000\n",
            "VAL_42_tr     0.000000\n",
            "VAL_42_AB     0.000000\n",
            "MET_165_tr    0.000000\n",
            "GLN_192_tr    0.000000\n"
          ],
          "name": "stdout"
        }
      ]
    },
    {
      "cell_type": "code",
      "metadata": {
        "id": "E41vrhOPJHdO"
      },
      "source": [
        "%%bigquery --project $project_id df_exp\n",
        "SELECT A.*, exp.__residual_activity FROM mpro_5r84.mpro_features_new AS A\n",
        "   INNER JOIN mpro_exp.hit_expansion AS exp\n",
        "   ON STARTS_WITH(A.name,exp.Inhibitor)"
      ],
      "execution_count": null,
      "outputs": []
    },
    {
      "cell_type": "code",
      "metadata": {
        "colab": {
          "base_uri": "https://localhost:8080/",
          "height": 279
        },
        "id": "WMaytLy9KdwL",
        "outputId": "99d9640a-e1a3-4068-8924-49ee9b10b657"
      },
      "source": [
        "y_real_exp = df_xgboost.__residual_activity < .25\n",
        "y_proba_exp = model_tr.predict(df_exp[columns_moonshot_tr])\n",
        "\n",
        "fig = plt.figure()\n",
        "ax = fig.subplots()\n",
        "\n",
        "p, r, _ = precision_recall_curve(y_real_exp, y_proba_exp)\n",
        "auc = np.trapz(p[::-1],r[::-1])\n",
        "ax.plot(r,p,label='hit expansion AUC={:.5f}'.format(auc))\n",
        "\n",
        "ax.set_xlabel('recall')\n",
        "ax.set_ylabel('precision')\n",
        "ax.legend()\n",
        "plt.show()\n",
        "#fig.savefig('AUC_test.png')"
      ],
      "execution_count": null,
      "outputs": [
        {
          "output_type": "display_data",
          "data": {
            "image/png": "[encoded data removed]",
            "text/plain": [
              "<Figure size 432x288 with 1 Axes>"
            ]
          },
          "metadata": {
            "tags": [],
            "needs_background": "light"
          }
        }
      ]
    },
    {
      "cell_type": "code",
      "metadata": {
        "id": "d5RKwbjcm8Na"
      },
      "source": [
        "%%bigquery --project $project_id df_xgboost\n",
        "SELECT enamine_id, AVG(__residual_activity) as residual_activity, AVG(predicted_active_probs[OFFSET(0)].prob) AS xgb_score\n",
        "FROM ML.PREDICT(MODEL `moonshot.xgbmodel`,\n",
        "  (SELECT A.*, exp.__residual_activity, exp.Inhibitor as enamine_id FROM mpro_5r84.mpro_features_new AS A\n",
        "   INNER JOIN mpro_exp.hit_expansion AS exp\n",
        "   ON STARTS_WITH(A.name,exp.Inhibitor)))\n",
        "GROUP BY enamine_id\n",
        "ORDER BY xgb_score DESC"
      ],
      "execution_count": null,
      "outputs": []
    },
    {
      "cell_type": "code",
      "metadata": {
        "colab": {
          "base_uri": "https://localhost:8080/",
          "height": 407
        },
        "id": "trV3WBLnIvLz",
        "outputId": "710bd34c-b6d6-4d92-e0b3-af673611973c"
      },
      "source": [
        "df_xgboost.sort_values(by='residual_activity')"
      ],
      "execution_count": null,
      "outputs": [
        {
          "output_type": "execute_result",
          "data": {
            "text/html": [
              "<div>\n",
              "<style scoped>\n",
              "    .dataframe tbody tr th:only-of-type {\n",
              "        vertical-align: middle;\n",
              "    }\n",
              "\n",
              "    .dataframe tbody tr th {\n",
              "        vertical-align: top;\n",
              "    }\n",
              "\n",
              "    .dataframe thead th {\n",
              "        text-align: right;\n",
              "    }\n",
              "</style>\n",
              "<table border=\"1\" class=\"dataframe\">\n",
              "  <thead>\n",
              "    <tr style=\"text-align: right;\">\n",
              "      <th></th>\n",
              "      <th>enamine_id</th>\n",
              "      <th>residual_activity</th>\n",
              "      <th>xgb_score</th>\n",
              "    </tr>\n",
              "  </thead>\n",
              "  <tbody>\n",
              "    <tr>\n",
              "      <th>85</th>\n",
              "      <td>Z1530718726</td>\n",
              "      <td>0.09</td>\n",
              "      <td>0.016973</td>\n",
              "    </tr>\n",
              "    <tr>\n",
              "      <th>46</th>\n",
              "      <td>Z1530724963</td>\n",
              "      <td>0.09</td>\n",
              "      <td>0.144322</td>\n",
              "    </tr>\n",
              "    <tr>\n",
              "      <th>78</th>\n",
              "      <td>Z1530724813</td>\n",
              "      <td>0.10</td>\n",
              "      <td>0.031390</td>\n",
              "    </tr>\n",
              "    <tr>\n",
              "      <th>12</th>\n",
              "      <td>Z1530725178</td>\n",
              "      <td>0.10</td>\n",
              "      <td>0.414585</td>\n",
              "    </tr>\n",
              "    <tr>\n",
              "      <th>36</th>\n",
              "      <td>Z1927517858</td>\n",
              "      <td>0.10</td>\n",
              "      <td>0.200490</td>\n",
              "    </tr>\n",
              "    <tr>\n",
              "      <th>...</th>\n",
              "      <td>...</td>\n",
              "      <td>...</td>\n",
              "      <td>...</td>\n",
              "    </tr>\n",
              "    <tr>\n",
              "      <th>18</th>\n",
              "      <td>PV-001922393904</td>\n",
              "      <td>1.02</td>\n",
              "      <td>0.308011</td>\n",
              "    </tr>\n",
              "    <tr>\n",
              "      <th>5</th>\n",
              "      <td>Z2255124682</td>\n",
              "      <td>1.07</td>\n",
              "      <td>0.506311</td>\n",
              "    </tr>\n",
              "    <tr>\n",
              "      <th>52</th>\n",
              "      <td>Z1427837125</td>\n",
              "      <td>1.09</td>\n",
              "      <td>0.123641</td>\n",
              "    </tr>\n",
              "    <tr>\n",
              "      <th>62</th>\n",
              "      <td>Z2101329443</td>\n",
              "      <td>1.11</td>\n",
              "      <td>0.102842</td>\n",
              "    </tr>\n",
              "    <tr>\n",
              "      <th>8</th>\n",
              "      <td>Z1426602181</td>\n",
              "      <td>1.14</td>\n",
              "      <td>0.453246</td>\n",
              "    </tr>\n",
              "  </tbody>\n",
              "</table>\n",
              "<p>86 rows × 3 columns</p>\n",
              "</div>"
            ],
            "text/plain": [
              "         enamine_id  residual_activity  xgb_score\n",
              "85      Z1530718726               0.09   0.016973\n",
              "46      Z1530724963               0.09   0.144322\n",
              "78      Z1530724813               0.10   0.031390\n",
              "12      Z1530725178               0.10   0.414585\n",
              "36      Z1927517858               0.10   0.200490\n",
              "..              ...                ...        ...\n",
              "18  PV-001922393904               1.02   0.308011\n",
              "5       Z2255124682               1.07   0.506311\n",
              "52      Z1427837125               1.09   0.123641\n",
              "62      Z2101329443               1.11   0.102842\n",
              "8       Z1426602181               1.14   0.453246\n",
              "\n",
              "[86 rows x 3 columns]"
            ]
          },
          "metadata": {
            "tags": []
          },
          "execution_count": 53
        }
      ]
    },
    {
      "cell_type": "code",
      "metadata": {
        "colab": {
          "base_uri": "https://localhost:8080/"
        },
        "id": "f6BzJAdIObEy",
        "outputId": "4f882d4b-83f7-462f-bc34-1555654b4b68"
      },
      "source": [
        "model_tr.predict_proba(df_features_tr[df_features_tr.CID.str.startswith('ADA-UCB-6c2cb422-1')][columns_moonshot_tr])"
      ],
      "execution_count": null,
      "outputs": [
        {
          "output_type": "execute_result",
          "data": {
            "text/plain": [
              "array([[0.30830932, 0.6916907 ]], dtype=float32)"
            ]
          },
          "metadata": {
            "tags": []
          },
          "execution_count": 69
        }
      ]
    },
    {
      "cell_type": "code",
      "metadata": {
        "colab": {
          "base_uri": "https://localhost:8080/",
          "height": 351
        },
        "id": "T71DgvXZPh-2",
        "outputId": "22bb80f9-3106-43bc-99bf-2d15b325984c"
      },
      "source": [
        "fig, ax = plt.subplots()\n",
        "ax.hist(model_tr.predict_proba(df_features_tr[columns_moonshot_tr])[:,1])"
      ],
      "execution_count": null,
      "outputs": [
        {
          "output_type": "execute_result",
          "data": {
            "text/plain": [
              "(array([144.,  63.,  13.,  10.,   5.,  11.,  11.,  11.,   5.,   4.]),\n",
              " array([0.00872679, 0.10338567, 0.19804455, 0.29270342, 0.3873623 ,\n",
              "        0.48202118, 0.57668006, 0.671339  , 0.7659978 , 0.86065674,\n",
              "        0.9553156 ], dtype=float32),\n",
              " <a list of 10 Patch objects>)"
            ]
          },
          "metadata": {
            "tags": []
          },
          "execution_count": 79
        },
        {
          "output_type": "display_data",
          "data": {
            "image/png": "[encoded data removed]",
            "text/plain": [
              "<Figure size 432x288 with 1 Axes>"
            ]
          },
          "metadata": {
            "tags": [],
            "needs_background": "light"
          }
        }
      ]
    },
    {
      "cell_type": "code",
      "metadata": {
        "colab": {
          "base_uri": "https://localhost:8080/"
        },
        "id": "OHs-gUSfPzY1",
        "outputId": "66872f46-8d5c-4202-b4a2-8ce6deee8c23"
      },
      "source": [
        "df_exp[df_exp.name.str.startswith('Z1530724813')][columns_moonshot_tr].to_numpy()"
      ],
      "execution_count": null,
      "outputs": [
        {
          "output_type": "execute_result",
          "data": {
            "text/plain": [
              "array([[0., 0., 0., 0., 0., 0., 0., 0., 0., 0., 2., 0., 0., 0., 0., 0.,\n",
              "        0., 0., 1., 0., 0., 0., 0., 0., 2., 0., 0., 0., 0., 0., 0., 0.,\n",
              "        0., 0., 0., 0., 0., 0., 0., 0., 0., 0., 0., 0., 0., 0., 0., 0.,\n",
              "        0., 0., 0., 1., 0., 0., 0., 5., 0., 3., 0., 0., 0., 1., 0., 0.,\n",
              "        1., 0., 0., 0., 0., 0., 0., 0., 2., 2., 0., 2., 0., 0., 0., 0.,\n",
              "        3., 3., 0., 0., 0., 0., 0., 0., 0., 0.],\n",
              "       [0., 0., 0., 0., 0., 0., 0., 0., 0., 0., 2., 0., 0., 0., 0., 0.,\n",
              "        0., 0., 1., 0., 0., 0., 0., 0., 2., 0., 0., 0., 0., 0., 0., 0.,\n",
              "        0., 0., 0., 0., 0., 0., 0., 0., 0., 0., 0., 0., 0., 0., 0., 0.,\n",
              "        0., 0., 0., 1., 0., 0., 0., 5., 0., 3., 0., 0., 0., 1., 0., 0.,\n",
              "        1., 0., 0., 0., 0., 0., 0., 0., 2., 2., 0., 2., 0., 0., 0., 0.,\n",
              "        3., 3., 0., 0., 0., 0., 0., 0., 0., 0.],\n",
              "       [0., 0., 0., 0., 0., 0., 0., 0., 0., 0., 2., 0., 0., 0., 0., 0.,\n",
              "        0., 0., 1., 0., 0., 0., 0., 0., 2., 0., 0., 0., 0., 0., 0., 0.,\n",
              "        0., 0., 0., 0., 0., 0., 0., 0., 0., 0., 0., 0., 0., 0., 0., 0.,\n",
              "        0., 0., 0., 1., 0., 0., 0., 5., 0., 3., 0., 0., 0., 1., 0., 0.,\n",
              "        1., 0., 0., 0., 0., 0., 0., 0., 2., 2., 0., 2., 0., 0., 0., 0.,\n",
              "        3., 3., 0., 0., 0., 0., 0., 0., 0., 0.],\n",
              "       [0., 0., 0., 0., 0., 0., 0., 0., 0., 0., 2., 0., 0., 0., 0., 0.,\n",
              "        0., 0., 1., 0., 0., 0., 0., 0., 2., 0., 0., 0., 0., 0., 0., 0.,\n",
              "        0., 0., 0., 0., 0., 0., 0., 0., 0., 0., 0., 0., 0., 0., 0., 0.,\n",
              "        0., 0., 0., 1., 0., 0., 0., 5., 0., 3., 0., 0., 0., 1., 0., 0.,\n",
              "        1., 0., 0., 0., 0., 0., 0., 0., 2., 2., 0., 2., 0., 0., 0., 0.,\n",
              "        3., 3., 0., 0., 0., 0., 0., 0., 0., 0.]])"
            ]
          },
          "metadata": {
            "tags": []
          },
          "execution_count": 86
        }
      ]
    },
    {
      "cell_type": "code",
      "metadata": {
        "colab": {
          "base_uri": "https://localhost:8080/"
        },
        "id": "k726Xy1pQ6s6",
        "outputId": "35f1d11e-4cbc-46ce-ba9b-7d57ccc1008f"
      },
      "source": [
        "tmp=df_exp[df_exp.name.str.startswith('Z1530724813')].iloc[0][columns_moonshot_tr]\n",
        "tmp[tmp>0]"
      ],
      "execution_count": null,
      "outputs": [
        {
          "output_type": "execute_result",
          "data": {
            "text/plain": [
              "HSD_41_AB     2\n",
              "MET_49_PB     1\n",
              "TYR_54_PB     2\n",
              "HSE_164_PB    1\n",
              "MET_165_AB    5\n",
              "GLU_166_PB    3\n",
              "LEU_167_AB    1\n",
              "PRO_168_AB    1\n",
              "ASP_187_PB    2\n",
              "ASP_187_AB    2\n",
              "ARG_188_PB    2\n",
              "GLN_189_tr    3\n",
              "THR_190_PB    3\n",
              "Name: 253, dtype: object"
            ]
          },
          "metadata": {
            "tags": []
          },
          "execution_count": 89
        }
      ]
    },
    {
      "cell_type": "code",
      "metadata": {
        "colab": {
          "base_uri": "https://localhost:8080/"
        },
        "id": "PZgunQCHP-HD",
        "outputId": "bf37507d-0a4f-410f-943a-d839dbfcaaa9"
      },
      "source": [
        "tmp=df_features_tr[df_features_tr.CID.str.startswith('ADA-UCB-6c2cb422-1')][columns_moonshot_tr].iloc[0]\n",
        "tmp[tmp>0]"
      ],
      "execution_count": null,
      "outputs": [
        {
          "output_type": "execute_result",
          "data": {
            "text/plain": [
              "ASN_142_AB    2.0\n",
              "SER_144_PB    1.0\n",
              "SER_144_tr    1.0\n",
              "HSE_164_PB    2.0\n",
              "GLU_166_PB    2.0\n",
              "GLU_166_AB    1.0\n",
              "Name: 50, dtype: float64"
            ]
          },
          "metadata": {
            "tags": []
          },
          "execution_count": 95
        }
      ]
    },
    {
      "cell_type": "code",
      "metadata": {
        "colab": {
          "base_uri": "https://localhost:8080/"
        },
        "id": "MBIrh8ptPPmG",
        "outputId": "20181da6-be47-46fa-a592-ffef150b44a6"
      },
      "source": [
        "model_tr.predict_proba(df_exp[df_exp.name.startswith('Z1530724813')][columns_moonshot_tr])"
      ],
      "execution_count": null,
      "outputs": [
        {
          "output_type": "execute_result",
          "data": {
            "text/plain": [
              "array([[0.96433955, 0.03566047],\n",
              "       [0.96433955, 0.03566047],\n",
              "       [0.96433955, 0.03566047],\n",
              "       [0.96433955, 0.03566047]], dtype=float32)"
            ]
          },
          "metadata": {
            "tags": []
          },
          "execution_count": 73
        }
      ]
    },
    {
      "cell_type": "code",
      "metadata": {
        "id": "v6Lv0U-5m-TU",
        "colab": {
          "base_uri": "https://localhost:8080/",
          "height": 279
        },
        "outputId": "2e20a19d-42c2-4172-e268-3d0c3b7f296c"
      },
      "source": [
        "fig = plt.figure()\n",
        "ax = fig.subplots()\n",
        "\n",
        "yreal = df_xgboost.residual_activity < .25\n",
        "yproba = df_xgboost.xgb_score\n",
        "p, r, _ = precision_recall_curve(yreal, yproba)\n",
        "auc = np.trapz(p[::-1],r[::-1])\n",
        "ax.plot(r,p,label='hit expansion AUC={:.5f}'.format(auc))\n",
        "\n",
        "ax.set_xlabel('recall')\n",
        "ax.set_ylabel('precision')\n",
        "ax.legend()\n",
        "plt.show()\n",
        "#fig.savefig('AUC_test.png')"
      ],
      "execution_count": null,
      "outputs": [
        {
          "output_type": "display_data",
          "data": {
            "image/png": "[encoded data removed]",
            "text/plain": [
              "<Figure size 432x288 with 1 Axes>"
            ]
          },
          "metadata": {
            "tags": [],
            "needs_background": "light"
          }
        }
      ]
    },
    {
      "cell_type": "code",
      "metadata": {
        "id": "wLuVEi6qIEld"
      },
      "source": [
        "%%bigquery --project $project_id df_xgboost_all\n",
        "SELECT enamine_id, __residual_activity as residual_activity, predicted_active_probs[OFFSET(0)].prob AS xgb_score\n",
        "FROM ML.PREDICT(MODEL `moonshot.xgbmodel`,\n",
        "  (SELECT A.*, exp.__residual_activity, exp.Inhibitor as enamine_id FROM mpro_5r84.mpro_features_new_all AS A\n",
        "   INNER JOIN mpro_exp.hit_expansion AS exp\n",
        "   ON STARTS_WITH(A.name,exp.Inhibitor)))\n",
        "ORDER BY xgb_score DESC"
      ],
      "execution_count": null,
      "outputs": []
    },
    {
      "cell_type": "code",
      "metadata": {
        "id": "j7aD14_3gocL"
      },
      "source": [
        "df_xgboost_all_grouped = df_xgboost_all.groupby('enamine_id').max('xgb_score').reset_index()"
      ],
      "execution_count": null,
      "outputs": []
    },
    {
      "cell_type": "code",
      "metadata": {
        "id": "j3E_dyI_l7IG",
        "colab": {
          "base_uri": "https://localhost:8080/",
          "height": 438
        },
        "outputId": "b7daf846-a14d-410f-df14-670ee4c96ba1"
      },
      "source": [
        "df_xgboost_all_grouped.sort_values(by='xgb_score',ascending=False)"
      ],
      "execution_count": null,
      "outputs": [
        {
          "output_type": "execute_result",
          "data": {
            "text/html": [
              "<div>\n",
              "<style scoped>\n",
              "    .dataframe tbody tr th:only-of-type {\n",
              "        vertical-align: middle;\n",
              "    }\n",
              "\n",
              "    .dataframe tbody tr th {\n",
              "        vertical-align: top;\n",
              "    }\n",
              "\n",
              "    .dataframe thead th {\n",
              "        text-align: right;\n",
              "    }\n",
              "</style>\n",
              "<table border=\"1\" class=\"dataframe\">\n",
              "  <thead>\n",
              "    <tr style=\"text-align: right;\">\n",
              "      <th></th>\n",
              "      <th>enamine_id</th>\n",
              "      <th>residual_activity</th>\n",
              "      <th>xgb_score</th>\n",
              "    </tr>\n",
              "  </thead>\n",
              "  <tbody>\n",
              "    <tr>\n",
              "      <th>12</th>\n",
              "      <td>Z2958605212</td>\n",
              "      <td>0.51</td>\n",
              "      <td>0.991497</td>\n",
              "    </tr>\n",
              "    <tr>\n",
              "      <th>10</th>\n",
              "      <td>Z18886707</td>\n",
              "      <td>0.43</td>\n",
              "      <td>0.971465</td>\n",
              "    </tr>\n",
              "    <tr>\n",
              "      <th>0</th>\n",
              "      <td>PV-001947954016</td>\n",
              "      <td>0.47</td>\n",
              "      <td>0.971294</td>\n",
              "    </tr>\n",
              "    <tr>\n",
              "      <th>1</th>\n",
              "      <td>Z1083297490</td>\n",
              "      <td>0.58</td>\n",
              "      <td>0.964839</td>\n",
              "    </tr>\n",
              "    <tr>\n",
              "      <th>7</th>\n",
              "      <td>Z1530800272</td>\n",
              "      <td>0.31</td>\n",
              "      <td>0.954117</td>\n",
              "    </tr>\n",
              "    <tr>\n",
              "      <th>5</th>\n",
              "      <td>Z1530717425</td>\n",
              "      <td>0.59</td>\n",
              "      <td>0.938127</td>\n",
              "    </tr>\n",
              "    <tr>\n",
              "      <th>8</th>\n",
              "      <td>Z1743649707</td>\n",
              "      <td>0.38</td>\n",
              "      <td>0.898928</td>\n",
              "    </tr>\n",
              "    <tr>\n",
              "      <th>3</th>\n",
              "      <td>Z1426602181</td>\n",
              "      <td>1.14</td>\n",
              "      <td>0.881180</td>\n",
              "    </tr>\n",
              "    <tr>\n",
              "      <th>9</th>\n",
              "      <td>Z1832772406</td>\n",
              "      <td>0.55</td>\n",
              "      <td>0.879408</td>\n",
              "    </tr>\n",
              "    <tr>\n",
              "      <th>11</th>\n",
              "      <td>Z2101329443</td>\n",
              "      <td>1.11</td>\n",
              "      <td>0.822674</td>\n",
              "    </tr>\n",
              "    <tr>\n",
              "      <th>2</th>\n",
              "      <td>Z1096224331</td>\n",
              "      <td>0.42</td>\n",
              "      <td>0.761643</td>\n",
              "    </tr>\n",
              "    <tr>\n",
              "      <th>4</th>\n",
              "      <td>Z151962138</td>\n",
              "      <td>0.29</td>\n",
              "      <td>0.715447</td>\n",
              "    </tr>\n",
              "    <tr>\n",
              "      <th>6</th>\n",
              "      <td>Z1530718726</td>\n",
              "      <td>0.09</td>\n",
              "      <td>0.526863</td>\n",
              "    </tr>\n",
              "  </tbody>\n",
              "</table>\n",
              "</div>"
            ],
            "text/plain": [
              "         enamine_id  residual_activity  xgb_score\n",
              "12      Z2958605212               0.51   0.991497\n",
              "10        Z18886707               0.43   0.971465\n",
              "0   PV-001947954016               0.47   0.971294\n",
              "1       Z1083297490               0.58   0.964839\n",
              "7       Z1530800272               0.31   0.954117\n",
              "5       Z1530717425               0.59   0.938127\n",
              "8       Z1743649707               0.38   0.898928\n",
              "3       Z1426602181               1.14   0.881180\n",
              "9       Z1832772406               0.55   0.879408\n",
              "11      Z2101329443               1.11   0.822674\n",
              "2       Z1096224331               0.42   0.761643\n",
              "4        Z151962138               0.29   0.715447\n",
              "6       Z1530718726               0.09   0.526863"
            ]
          },
          "metadata": {
            "tags": []
          },
          "execution_count": 123
        }
      ]
    },
    {
      "cell_type": "code",
      "metadata": {
        "id": "iNkHzj5Ih1nG",
        "colab": {
          "base_uri": "https://localhost:8080/",
          "height": 279
        },
        "outputId": "338dcac9-c72f-4871-8cfe-84c703aaceff"
      },
      "source": [
        "fig = plt.figure()\n",
        "ax = fig.subplots()\n",
        "\n",
        "yreal = df_xgboost_all_grouped.residual_activity < .25\n",
        "yproba = df_xgboost_all_grouped.xgb_score\n",
        "p, r, _ = precision_recall_curve(yreal, yproba)\n",
        "auc = np.trapz(p[::-1],r[::-1])\n",
        "ax.plot(r,p,label='hit expansion AUC={:.5f}'.format(auc))\n",
        "\n",
        "ax.set_xlabel('recall')\n",
        "ax.set_ylabel('precision')\n",
        "ax.legend()\n",
        "plt.show()"
      ],
      "execution_count": null,
      "outputs": [
        {
          "output_type": "display_data",
          "data": {
            "image/png": "[encoded data removed]",
            "text/plain": [
              "<Figure size 432x288 with 1 Axes>"
            ]
          },
          "metadata": {
            "tags": [],
            "needs_background": "light"
          }
        }
      ]
    },
    {
      "cell_type": "code",
      "metadata": {
        "id": "Y7uQfbOfiWNx"
      },
      "source": [
        "%%bigquery --project $project_id df_rf3\n",
        "SELECT Inhibitor AS enamine_id, __residual_activity as residual_activity, rf3\n",
        "FROM mpro_5r84.scores_rank0 AS A\n",
        "INNER JOIN mpro_exp.hit_expansion AS exp\n",
        "ON STARTS_WITH(A.name,exp.Inhibitor)"
      ],
      "execution_count": null,
      "outputs": []
    },
    {
      "cell_type": "code",
      "metadata": {
        "id": "8PNvQrazcRoq"
      },
      "source": [
        "df_rf3_grouped = df_rf3.groupby('enamine_id').mean('rf3').reset_index()"
      ],
      "execution_count": null,
      "outputs": []
    },
    {
      "cell_type": "code",
      "metadata": {
        "id": "3Il2-RmFchUx"
      },
      "source": [
        "%%bigquery --project $project_id df_rf2\n",
        "SELECT Inhibitor AS enamine_id, __residual_activity as residual_activity, rf2, dcoid, vs_dude_v2\n",
        "FROM mpro_5r84.scores AS A\n",
        "INNER JOIN mpro_exp.hit_expansion AS exp\n",
        "ON STARTS_WITH(A.name,exp.Inhibitor)"
      ],
      "execution_count": null,
      "outputs": []
    },
    {
      "cell_type": "code",
      "metadata": {
        "id": "aPZx2nUrdhvq"
      },
      "source": [
        "df_rf2_grouped = df_rf2.groupby('enamine_id').mean(['rf2','dcoid','vs_dude_v2']).reset_index()"
      ],
      "execution_count": null,
      "outputs": []
    },
    {
      "cell_type": "code",
      "metadata": {
        "colab": {
          "base_uri": "https://localhost:8080/",
          "height": 279
        },
        "id": "RNZUe4Kidxfg",
        "outputId": "2f6e37f0-979b-4635-f1ac-ca8dbc0bfd0d"
      },
      "source": [
        "fig = plt.figure()\n",
        "ax = fig.subplots()\n",
        "\n",
        "yreal = df_rf3_grouped.residual_activity < .25\n",
        "yproba = df_rf3_grouped.rf3\n",
        "p, r, _ = precision_recall_curve(yreal, yproba)\n",
        "auc = np.trapz(p[::-1],r[::-1])\n",
        "ax.plot(r,p,label='RF3 AUC={:.5f}'.format(auc))\n",
        "\n",
        "\n",
        "yreal = df_rf2_grouped.residual_activity < .25\n",
        "yproba = df_rf2_grouped.rf2\n",
        "p, r, _ = precision_recall_curve(yreal, yproba)\n",
        "auc = np.trapz(p[::-1],r[::-1])\n",
        "ax.plot(r,p,label='RF2 AUC={:.5f}'.format(auc))\n",
        "\n",
        "ax.set_xlabel('recall')\n",
        "ax.set_ylabel('precision')\n",
        "ax.legend(frameon=False,title='hit expansion')\n",
        "plt.show()"
      ],
      "execution_count": null,
      "outputs": [
        {
          "output_type": "display_data",
          "data": {
            "image/png": "[encoded data removed]",
            "text/plain": [
              "<Figure size 432x288 with 1 Axes>"
            ]
          },
          "metadata": {
            "tags": [],
            "needs_background": "light"
          }
        }
      ]
    },
    {
      "cell_type": "markdown",
      "metadata": {
        "id": "YTYxCa3dkXFT"
      },
      "source": [
        "## Train on RF2 descriptors"
      ]
    },
    {
      "cell_type": "code",
      "metadata": {
        "id": "5_xkhSaokczb"
      },
      "source": [
        "q = \"\"\"SELECT activities.f_avg_IC50, diamond_descriptors_v2.*\n",
        "FROM moonshot.diamond_descriptors_v2\n",
        "INNER JOIN moonshot.activities\n",
        "ON activities.frag_id = diamond_descriptors_v2.name\n",
        "\"\"\"\n",
        "from google.cloud import bigquery\n",
        "client = bigquery.Client(project=project_id)\n",
        "df_rf2_features = client.query(q).to_dataframe()"
      ],
      "execution_count": null,
      "outputs": []
    },
    {
      "cell_type": "code",
      "metadata": {
        "colab": {
          "base_uri": "https://localhost:8080/"
        },
        "id": "3aczulbUzKK-",
        "outputId": "189645e8-19ef-4b14-aa16-7ac2fcfda087"
      },
      "source": [
        "len(df_rf2_features)"
      ],
      "execution_count": null,
      "outputs": [
        {
          "output_type": "execute_result",
          "data": {
            "text/plain": [
              "212"
            ]
          },
          "metadata": {
            "tags": []
          },
          "execution_count": 86
        }
      ]
    },
    {
      "cell_type": "code",
      "metadata": {
        "id": "k7xSSRSjlnF5"
      },
      "source": [
        "columns_rf2 = [c for c in df_rf2_features.columns if c != 'name' and c != 'f_avg_IC50']"
      ],
      "execution_count": null,
      "outputs": []
    },
    {
      "cell_type": "code",
      "metadata": {
        "colab": {
          "base_uri": "https://localhost:8080/"
        },
        "id": "a_tksAq6egty",
        "outputId": "3f7ecb51-6669-4eb1-f682-9ede646cd624"
      },
      "source": [
        "X = df_rf2_features[ columns_rf2 ]\n",
        "y = df_rf2_features['f_avg_IC50'] < 5. \n",
        "\n",
        "param_dist = {'n_estimators': stats.randint(100, 500),\n",
        "              'learning_rate': stats.uniform(0.01, 0.07),\n",
        "              'subsample': stats.uniform(0.3, 0.7),\n",
        "              'max_depth': [3, 4, 5, 6, 7, 8, 9],\n",
        "              'colsample_bytree': stats.uniform(0.5, 0.45),\n",
        "              'min_child_weight': [1, 2, 3]\n",
        "             }\n",
        "\n",
        "from sklearn.metrics import make_scorer\n",
        "\n",
        "def my_scorer(clf, X, y_true):\n",
        "    y_pred_proba = clf.predict_proba(X)[:,1]\n",
        "    p, r, _ = precision_recall_curve(y_true, y_pred_proba)\n",
        "    auc = np.trapz(p[::-1],r[::-1])\n",
        "    return auc\n",
        "\n",
        "clf_xgb = xgb.XGBClassifier(objective='binary:logistic', use_label_encoder=False)\n",
        "# custom scoring function doesn't work with n_jobs = -1\n",
        "clf = RandomizedSearchCV(clf_xgb, param_distributions = param_dist, n_iter = 100, scoring = my_scorer, error_score = 'raise', verbose=1)\n",
        "\n",
        "numFolds = 5\n",
        "folds = KFold(n_splits = numFolds, shuffle = True)\n",
        "\n",
        "estimators = []\n",
        "results = np.zeros(len(X))\n",
        "scores = []\n",
        "y_real = []\n",
        "y_proba = []\n",
        "for train_index, test_index in folds.split(X):\n",
        "    X_train, X_test = X.iloc[train_index,:], X.iloc[test_index,:]\n",
        "    y_train, y_test = y.iloc[train_index].values.ravel(), y.iloc[test_index].values.ravel()\n",
        "    clf.fit(X_train, y_train)\n",
        "\n",
        "    estimators.append(clf.best_estimator_)\n",
        "    results[test_index] = clf.predict(X_test)\n",
        "    pred_proba = clf.predict_proba(X_test)\n",
        "    y_real.append(y_test)\n",
        "    y_proba.append(pred_proba[:,1])\n",
        "    #score += f1_score(y_test, results[test_index])\n",
        "    scores.append(my_scorer(clf.best_estimator_,X_test,y_test))\n",
        "\n",
        "# train on entire data set\n",
        "clf.fit(X,y)\n",
        "model_rf2 = clf.best_estimator_"
      ],
      "execution_count": null,
      "outputs": [
        {
          "output_type": "stream",
          "text": [
            "Fitting 5 folds for each of 100 candidates, totalling 500 fits\n"
          ],
          "name": "stdout"
        },
        {
          "output_type": "stream",
          "text": [
            "[Parallel(n_jobs=1)]: Using backend SequentialBackend with 1 concurrent workers.\n",
            "[Parallel(n_jobs=1)]: Done 500 out of 500 | elapsed:  1.6min finished\n"
          ],
          "name": "stderr"
        },
        {
          "output_type": "stream",
          "text": [
            "Fitting 5 folds for each of 100 candidates, totalling 500 fits\n"
          ],
          "name": "stdout"
        },
        {
          "output_type": "stream",
          "text": [
            "[Parallel(n_jobs=1)]: Using backend SequentialBackend with 1 concurrent workers.\n",
            "[Parallel(n_jobs=1)]: Done 500 out of 500 | elapsed:  1.7min finished\n",
            "[Parallel(n_jobs=1)]: Using backend SequentialBackend with 1 concurrent workers.\n"
          ],
          "name": "stderr"
        },
        {
          "output_type": "stream",
          "text": [
            "Fitting 5 folds for each of 100 candidates, totalling 500 fits\n"
          ],
          "name": "stdout"
        },
        {
          "output_type": "stream",
          "text": [
            "[Parallel(n_jobs=1)]: Done 500 out of 500 | elapsed:  1.8min finished\n"
          ],
          "name": "stderr"
        },
        {
          "output_type": "stream",
          "text": [
            "Fitting 5 folds for each of 100 candidates, totalling 500 fits\n"
          ],
          "name": "stdout"
        },
        {
          "output_type": "stream",
          "text": [
            "[Parallel(n_jobs=1)]: Using backend SequentialBackend with 1 concurrent workers.\n",
            "[Parallel(n_jobs=1)]: Done 500 out of 500 | elapsed:  1.7min finished\n"
          ],
          "name": "stderr"
        },
        {
          "output_type": "stream",
          "text": [
            "Fitting 5 folds for each of 100 candidates, totalling 500 fits\n"
          ],
          "name": "stdout"
        },
        {
          "output_type": "stream",
          "text": [
            "[Parallel(n_jobs=1)]: Using backend SequentialBackend with 1 concurrent workers.\n",
            "[Parallel(n_jobs=1)]: Done 500 out of 500 | elapsed:  1.6min finished\n"
          ],
          "name": "stderr"
        },
        {
          "output_type": "stream",
          "text": [
            "Fitting 5 folds for each of 100 candidates, totalling 500 fits\n"
          ],
          "name": "stdout"
        },
        {
          "output_type": "stream",
          "text": [
            "[Parallel(n_jobs=1)]: Using backend SequentialBackend with 1 concurrent workers.\n",
            "[Parallel(n_jobs=1)]: Done 500 out of 500 | elapsed:  2.2min finished\n"
          ],
          "name": "stderr"
        }
      ]
    },
    {
      "cell_type": "code",
      "metadata": {
        "colab": {
          "base_uri": "https://localhost:8080/",
          "height": 351
        },
        "id": "eMYcj5LP7tSb",
        "outputId": "cbafab59-496e-403a-f873-3786d2b1edb9"
      },
      "source": [
        "fig, ax = plt.subplots()\n",
        "ax.hist(np.concatenate(y_proba))"
      ],
      "execution_count": null,
      "outputs": [
        {
          "output_type": "execute_result",
          "data": {
            "text/plain": [
              "(array([121.,  45.,   9.,   5.,   6.,  11.,   4.,   6.,   0.,   5.]),\n",
              " array([0.00615863, 0.10069826, 0.19523789, 0.28977752, 0.38431713,\n",
              "        0.47885677, 0.5733964 , 0.667936  , 0.76247567, 0.85701525,\n",
              "        0.9515549 ], dtype=float32),\n",
              " <a list of 10 Patch objects>)"
            ]
          },
          "metadata": {
            "tags": []
          },
          "execution_count": 132
        },
        {
          "output_type": "display_data",
          "data": {
            "image/png": "[encoded data removed]",
            "text/plain": [
              "<Figure size 432x288 with 1 Axes>"
            ]
          },
          "metadata": {
            "tags": [],
            "needs_background": "light"
          }
        }
      ]
    },
    {
      "cell_type": "code",
      "metadata": {
        "colab": {
          "base_uri": "https://localhost:8080/",
          "height": 279
        },
        "id": "-VS3qGIFpPVf",
        "outputId": "e04fe4b1-5342-4038-b9b1-d2481ea0998b"
      },
      "source": [
        "fig = plt.figure()\n",
        "ax = fig.subplots()\n",
        "\n",
        "yreal = np.concatenate(y_real)\n",
        "yproba = np.concatenate(y_proba)\n",
        "p, r, _ = precision_recall_curve(yreal, yproba)\n",
        "\n",
        "auc = np.trapz(p[::-1],r[::-1])\n",
        "ax.plot(r,p,label='XGB no_tr AUC={:.5f}'.format(auc))\n",
        "\n",
        "ax.set_xlabel('recall')\n",
        "ax.set_ylabel('precision')\n",
        "ax.legend()\n",
        "plt.show()\n",
        "#fig.savefig('AUC_test.png')"
      ],
      "execution_count": null,
      "outputs": [
        {
          "output_type": "display_data",
          "data": {
            "image/png": "[encoded data removed]",
            "text/plain": [
              "<Figure size 432x288 with 1 Axes>"
            ]
          },
          "metadata": {
            "tags": [],
            "needs_background": "light"
          }
        }
      ]
    },
    {
      "cell_type": "code",
      "metadata": {
        "colab": {
          "base_uri": "https://localhost:8080/",
          "height": 69
        },
        "id": "jfVLsAy2tCv2",
        "outputId": "dbd38d21-bfc7-4e25-e151-1a5df944cbd4"
      },
      "source": [
        "model = model_rf2\n",
        "active_uM = 5.0\n",
        "f_str = ','.join(columns_rf2)\n",
        "#DATA_SPLIT_METHOD = 'NO_SPLIT',\n",
        "q = f\"\"\"\n",
        "CREATE OR REPLACE MODEL moonshot.xgbmodel_rf2\n",
        "OPTIONS(MODEL_TYPE='BOOSTED_TREE_CLASSIFIER',       \n",
        "        BOOSTER_TYPE = '{model.booster}',\n",
        "        MIN_TREE_CHILD_WEIGHT = {model.min_child_weight},\n",
        "        MAX_TREE_DEPTH = {model.max_depth},\n",
        "        MIN_SPLIT_LOSS={model.gamma},\n",
        "        NUM_PARALLEL_TREE = 1,\n",
        "        LEARN_RATE={model.learning_rate},\n",
        "        MAX_ITERATIONS = {model.n_estimators},\n",
        "        TREE_METHOD = 'AUTO',\n",
        "        EARLY_STOP = FALSE,\n",
        "        SUBSAMPLE = {model.subsample},\n",
        "        COLSAMPLE_BYTREE = {model.colsample_bytree},\n",
        "        INPUT_LABEL_COLS = ['active'])\n",
        "AS SELECT (f_avg_IC50 < {active_uM}) AS active,\n",
        "          {f_str}\n",
        "FROM moonshot.diamond_descriptors_v2\n",
        "INNER JOIN moonshot.activities\n",
        "ON activities.frag_id = diamond_descriptors_v2.name\n",
        "WHERE f_avg_IC50 IS NOT NULL\n",
        "\"\"\"\n",
        "from google.cloud import bigquery\n",
        "client = bigquery.Client(project=project_id)\n",
        "client.query(q).to_dataframe()"
      ],
      "execution_count": null,
      "outputs": [
        {
          "output_type": "stream",
          "text": [
            "WARNING:google.auth._default:No project ID could be determined. Consider running `gcloud config set project` or setting the GOOGLE_CLOUD_PROJECT environment variable\n"
          ],
          "name": "stderr"
        },
        {
          "output_type": "execute_result",
          "data": {
            "text/html": [
              "<div>\n",
              "<style scoped>\n",
              "    .dataframe tbody tr th:only-of-type {\n",
              "        vertical-align: middle;\n",
              "    }\n",
              "\n",
              "    .dataframe tbody tr th {\n",
              "        vertical-align: top;\n",
              "    }\n",
              "\n",
              "    .dataframe thead th {\n",
              "        text-align: right;\n",
              "    }\n",
              "</style>\n",
              "<table border=\"1\" class=\"dataframe\">\n",
              "  <thead>\n",
              "    <tr style=\"text-align: right;\">\n",
              "      <th></th>\n",
              "    </tr>\n",
              "  </thead>\n",
              "  <tbody>\n",
              "  </tbody>\n",
              "</table>\n",
              "</div>"
            ],
            "text/plain": [
              "Empty DataFrame\n",
              "Columns: []\n",
              "Index: []"
            ]
          },
          "metadata": {
            "tags": []
          },
          "execution_count": 134
        }
      ]
    },
    {
      "cell_type": "code",
      "metadata": {
        "id": "1cWV0PtP2S8G"
      },
      "source": [
        "%%bigquery --project $project_id df_xgboost_rf2\n",
        "SELECT enamine_id, rank, __residual_activity as residual_activity, predicted_active_probs[OFFSET(0)].prob AS xgb_score\n",
        "FROM ML.PREDICT(MODEL `moonshot.xgbmodel_rf2`,\n",
        "  (SELECT A.*, exp.__residual_activity, exp.Inhibitor as enamine_id FROM mpro_5r84.rf2_descriptors AS A\n",
        "   INNER JOIN mpro_exp.hit_expansion AS exp\n",
        "   ON STARTS_WITH(A.name,exp.Inhibitor)))\n",
        "ORDER BY xgb_score DESC"
      ],
      "execution_count": null,
      "outputs": []
    },
    {
      "cell_type": "code",
      "metadata": {
        "id": "TmlZ1m563iw_"
      },
      "source": [
        "#df_xgboost_rf2_grouped = df_xgboost_rf2.groupby(['enamine_id','residual_activity']).max(['xgb_score']).reset_index()\n",
        "#df_xgboost_rf2_grouped = df_xgboost_rf2.groupby(['enamine_id','residual_activity']).apply(\n",
        "#    lambda x: x.sort_values(by='rank').head(1)).reset_index(drop=True)\n",
        "df_xgboost_rf2_grouped = df_xgboost_rf2.groupby(['enamine_id','residual_activity']).apply(\n",
        "    lambda x: x.sort_values(by='xgb_score',ascending=True).reset_index(drop=True).iloc[0]).reset_index(drop=True)"
      ],
      "execution_count": null,
      "outputs": []
    },
    {
      "cell_type": "code",
      "metadata": {
        "colab": {
          "base_uri": "https://localhost:8080/",
          "height": 407
        },
        "id": "stQSDyDH5vjw",
        "outputId": "09e31ac8-a753-4410-ae49-4283bb3d471c"
      },
      "source": [
        "df_xgboost_rf2_grouped.sort_values(by='xgb_score',ascending=False)"
      ],
      "execution_count": null,
      "outputs": [
        {
          "output_type": "execute_result",
          "data": {
            "text/html": [
              "<div>\n",
              "<style scoped>\n",
              "    .dataframe tbody tr th:only-of-type {\n",
              "        vertical-align: middle;\n",
              "    }\n",
              "\n",
              "    .dataframe tbody tr th {\n",
              "        vertical-align: top;\n",
              "    }\n",
              "\n",
              "    .dataframe thead th {\n",
              "        text-align: right;\n",
              "    }\n",
              "</style>\n",
              "<table border=\"1\" class=\"dataframe\">\n",
              "  <thead>\n",
              "    <tr style=\"text-align: right;\">\n",
              "      <th></th>\n",
              "      <th>enamine_id</th>\n",
              "      <th>rank</th>\n",
              "      <th>residual_activity</th>\n",
              "      <th>xgb_score</th>\n",
              "    </tr>\n",
              "  </thead>\n",
              "  <tbody>\n",
              "    <tr>\n",
              "      <th>50</th>\n",
              "      <td>Z1593752786</td>\n",
              "      <td>15</td>\n",
              "      <td>0.70</td>\n",
              "      <td>0.383911</td>\n",
              "    </tr>\n",
              "    <tr>\n",
              "      <th>1</th>\n",
              "      <td>PV-001801306793</td>\n",
              "      <td>10</td>\n",
              "      <td>0.42</td>\n",
              "      <td>0.298979</td>\n",
              "    </tr>\n",
              "    <tr>\n",
              "      <th>38</th>\n",
              "      <td>Z1530791178</td>\n",
              "      <td>11</td>\n",
              "      <td>0.90</td>\n",
              "      <td>0.289642</td>\n",
              "    </tr>\n",
              "    <tr>\n",
              "      <th>59</th>\n",
              "      <td>Z1743649707</td>\n",
              "      <td>17</td>\n",
              "      <td>0.38</td>\n",
              "      <td>0.285384</td>\n",
              "    </tr>\n",
              "    <tr>\n",
              "      <th>53</th>\n",
              "      <td>Z1651778988</td>\n",
              "      <td>10</td>\n",
              "      <td>0.55</td>\n",
              "      <td>0.284260</td>\n",
              "    </tr>\n",
              "    <tr>\n",
              "      <th>...</th>\n",
              "      <td>...</td>\n",
              "      <td>...</td>\n",
              "      <td>...</td>\n",
              "      <td>...</td>\n",
              "    </tr>\n",
              "    <tr>\n",
              "      <th>81</th>\n",
              "      <td>Z243430052</td>\n",
              "      <td>19</td>\n",
              "      <td>0.48</td>\n",
              "      <td>0.095983</td>\n",
              "    </tr>\n",
              "    <tr>\n",
              "      <th>41</th>\n",
              "      <td>Z1530800067</td>\n",
              "      <td>9</td>\n",
              "      <td>0.68</td>\n",
              "      <td>0.094954</td>\n",
              "    </tr>\n",
              "    <tr>\n",
              "      <th>74</th>\n",
              "      <td>Z2077732466</td>\n",
              "      <td>2</td>\n",
              "      <td>0.90</td>\n",
              "      <td>0.091641</td>\n",
              "    </tr>\n",
              "    <tr>\n",
              "      <th>11</th>\n",
              "      <td>Z1096224331</td>\n",
              "      <td>13</td>\n",
              "      <td>0.42</td>\n",
              "      <td>0.086849</td>\n",
              "    </tr>\n",
              "    <tr>\n",
              "      <th>44</th>\n",
              "      <td>Z1547596525</td>\n",
              "      <td>8</td>\n",
              "      <td>0.68</td>\n",
              "      <td>0.084378</td>\n",
              "    </tr>\n",
              "  </tbody>\n",
              "</table>\n",
              "<p>90 rows × 4 columns</p>\n",
              "</div>"
            ],
            "text/plain": [
              "0        enamine_id  rank  residual_activity  xgb_score\n",
              "50      Z1593752786    15               0.70   0.383911\n",
              "1   PV-001801306793    10               0.42   0.298979\n",
              "38      Z1530791178    11               0.90   0.289642\n",
              "59      Z1743649707    17               0.38   0.285384\n",
              "53      Z1651778988    10               0.55   0.284260\n",
              "..              ...   ...                ...        ...\n",
              "81       Z243430052    19               0.48   0.095983\n",
              "41      Z1530800067     9               0.68   0.094954\n",
              "74      Z2077732466     2               0.90   0.091641\n",
              "11      Z1096224331    13               0.42   0.086849\n",
              "44      Z1547596525     8               0.68   0.084378\n",
              "\n",
              "[90 rows x 4 columns]"
            ]
          },
          "metadata": {
            "tags": []
          },
          "execution_count": 322
        }
      ]
    },
    {
      "cell_type": "code",
      "metadata": {
        "colab": {
          "base_uri": "https://localhost:8080/",
          "height": 282
        },
        "id": "Xi7Bq5rp79yb",
        "outputId": "c1d95d4a-db1e-4a0d-c1c8-5387da1e5c9f"
      },
      "source": [
        "df_xgboost_rf2_grouped['xgb_score'].hist()"
      ],
      "execution_count": null,
      "outputs": [
        {
          "output_type": "execute_result",
          "data": {
            "text/plain": [
              "<matplotlib.axes._subplots.AxesSubplot at 0x7fbc7c2bd7d0>"
            ]
          },
          "metadata": {
            "tags": []
          },
          "execution_count": 323
        },
        {
          "output_type": "display_data",
          "data": {
            "image/png": "[encoded data removed]",
            "text/plain": [
              "<Figure size 432x288 with 1 Axes>"
            ]
          },
          "metadata": {
            "tags": [],
            "needs_background": "light"
          }
        }
      ]
    },
    {
      "cell_type": "code",
      "metadata": {
        "colab": {
          "base_uri": "https://localhost:8080/",
          "height": 235
        },
        "id": "z9riNBoH3fGN",
        "outputId": "2bb35043-2c21-41f0-fb8c-0d2940fdc744"
      },
      "source": [
        "fig = plt.figure()\n",
        "ax = fig.subplots()\n",
        "\n",
        "yreal = df_xgboost_rf2_grouped.residual_activity < .25\n",
        "yproba = df_xgboost_rf2_grouped.xgb_score\n",
        "p, r, _ = precision_recall_curve(yreal, yproba)\n",
        "auc = np.trapz(p[::-1],r[::-1])\n",
        "ax.plot(r,p,label='RF3 AUC={:.5f}'.format(auc))\n",
        "\n",
        "\n",
        "ax.set_xlabel('recall')\n",
        "ax.set_ylabel('precision')\n",
        "ax.legend(frameon=False,title='hit expansion')\n",
        "plt.show()"
      ],
      "execution_count": null,
      "outputs": [
        {
          "output_type": "error",
          "ename": "NameError",
          "evalue": "ignored",
          "traceback": [
            "\u001b[0;31m---------------------------------------------------------------------------\u001b[0m",
            "\u001b[0;31mNameError\u001b[0m                                 Traceback (most recent call last)",
            "\u001b[0;32m<ipython-input-1-6f3794b09288>\u001b[0m in \u001b[0;36m<module>\u001b[0;34m()\u001b[0m\n\u001b[0;32m----> 1\u001b[0;31m \u001b[0mfig\u001b[0m \u001b[0;34m=\u001b[0m \u001b[0mplt\u001b[0m\u001b[0;34m.\u001b[0m\u001b[0mfigure\u001b[0m\u001b[0;34m(\u001b[0m\u001b[0;34m)\u001b[0m\u001b[0;34m\u001b[0m\u001b[0;34m\u001b[0m\u001b[0m\n\u001b[0m\u001b[1;32m      2\u001b[0m \u001b[0max\u001b[0m \u001b[0;34m=\u001b[0m \u001b[0mfig\u001b[0m\u001b[0;34m.\u001b[0m\u001b[0msubplots\u001b[0m\u001b[0;34m(\u001b[0m\u001b[0;34m)\u001b[0m\u001b[0;34m\u001b[0m\u001b[0;34m\u001b[0m\u001b[0m\n\u001b[1;32m      3\u001b[0m \u001b[0;34m\u001b[0m\u001b[0m\n\u001b[1;32m      4\u001b[0m \u001b[0myreal\u001b[0m \u001b[0;34m=\u001b[0m \u001b[0mdf_xgboost_rf2_grouped\u001b[0m\u001b[0;34m.\u001b[0m\u001b[0mresidual_activity\u001b[0m \u001b[0;34m<\u001b[0m \u001b[0;36m.25\u001b[0m\u001b[0;34m\u001b[0m\u001b[0;34m\u001b[0m\u001b[0m\n\u001b[1;32m      5\u001b[0m \u001b[0myproba\u001b[0m \u001b[0;34m=\u001b[0m \u001b[0mdf_xgboost_rf2_grouped\u001b[0m\u001b[0;34m.\u001b[0m\u001b[0mxgb_score\u001b[0m\u001b[0;34m\u001b[0m\u001b[0;34m\u001b[0m\u001b[0m\n",
            "\u001b[0;31mNameError\u001b[0m: name 'plt' is not defined"
          ]
        }
      ]
    },
    {
      "cell_type": "code",
      "metadata": {
        "id": "g7ut_hSm4nnU"
      },
      "source": [
        "%%bigquery --project $project_id df_exp_rf2\n",
        "SELECT A.*, exp.__residual_activity FROM mpro_5r84.rf2_descriptors AS A\n",
        "   INNER JOIN mpro_exp.hit_expansion AS exp\n",
        "   ON STARTS_WITH(A.name,exp.Inhibitor)"
      ],
      "execution_count": null,
      "outputs": []
    },
    {
      "cell_type": "code",
      "metadata": {
        "colab": {
          "base_uri": "https://localhost:8080/",
          "height": 265
        },
        "id": "KC0WZCCh-zLN",
        "outputId": "e55851e1-f957-400b-def4-872353762bf3"
      },
      "source": [
        "df_exp_rf2['proba'] = model_rf2.predict_proba(df_exp_rf2[columns_rf2])[:,1]\n",
        "df_exp_rf2['proba'].hist()\n",
        "df_exp_rf2['enamine_id'] = df_exp_rf2['name'].str.split('_').str[0]"
      ],
      "execution_count": null,
      "outputs": [
        {
          "output_type": "display_data",
          "data": {
            "image/png": "[encoded data removed]",
            "text/plain": [
              "<Figure size 432x288 with 1 Axes>"
            ]
          },
          "metadata": {
            "tags": [],
            "needs_background": "light"
          }
        }
      ]
    },
    {
      "cell_type": "code",
      "metadata": {
        "id": "1vVR7_7pmod-"
      },
      "source": [
        "df_exp_rf2_grouped = df_exp_rf2.groupby(['enamine_id','__residual_activity']).apply(\n",
        "    lambda x: x.sort_values(by='score',ascending=True).iloc[10]).reset_index(drop=True)"
      ],
      "execution_count": null,
      "outputs": []
    },
    {
      "cell_type": "code",
      "metadata": {
        "colab": {
          "base_uri": "https://localhost:8080/",
          "height": 514
        },
        "id": "-r37w1dvnt9l",
        "outputId": "a8f6068d-6781-4566-f56b-9dcba7d1dcad"
      },
      "source": [
        "df_exp_rf2_grouped"
      ],
      "execution_count": null,
      "outputs": [
        {
          "output_type": "execute_result",
          "data": {
            "text/html": [
              "<div>\n",
              "<style scoped>\n",
              "    .dataframe tbody tr th:only-of-type {\n",
              "        vertical-align: middle;\n",
              "    }\n",
              "\n",
              "    .dataframe tbody tr th {\n",
              "        vertical-align: top;\n",
              "    }\n",
              "\n",
              "    .dataframe thead th {\n",
              "        text-align: right;\n",
              "    }\n",
              "</style>\n",
              "<table border=\"1\" class=\"dataframe\">\n",
              "  <thead>\n",
              "    <tr style=\"text-align: right;\">\n",
              "      <th></th>\n",
              "      <th>desc_v2_0</th>\n",
              "      <th>desc_v2_1</th>\n",
              "      <th>desc_v2_2</th>\n",
              "      <th>desc_v2_3</th>\n",
              "      <th>desc_v2_4</th>\n",
              "      <th>desc_v2_5</th>\n",
              "      <th>desc_v2_6</th>\n",
              "      <th>desc_v2_7</th>\n",
              "      <th>desc_v2_8</th>\n",
              "      <th>desc_v2_9</th>\n",
              "      <th>desc_v2_10</th>\n",
              "      <th>desc_v2_11</th>\n",
              "      <th>desc_v2_12</th>\n",
              "      <th>desc_v2_13</th>\n",
              "      <th>desc_v2_14</th>\n",
              "      <th>desc_v2_15</th>\n",
              "      <th>desc_v2_16</th>\n",
              "      <th>desc_v2_17</th>\n",
              "      <th>desc_v2_18</th>\n",
              "      <th>desc_v2_19</th>\n",
              "      <th>desc_v2_20</th>\n",
              "      <th>desc_v2_21</th>\n",
              "      <th>desc_v2_22</th>\n",
              "      <th>desc_v2_23</th>\n",
              "      <th>desc_v2_24</th>\n",
              "      <th>desc_v2_25</th>\n",
              "      <th>desc_v2_26</th>\n",
              "      <th>desc_v2_27</th>\n",
              "      <th>desc_v2_28</th>\n",
              "      <th>desc_v2_29</th>\n",
              "      <th>desc_v2_30</th>\n",
              "      <th>desc_v2_31</th>\n",
              "      <th>desc_v2_32</th>\n",
              "      <th>desc_v2_33</th>\n",
              "      <th>desc_v2_34</th>\n",
              "      <th>desc_v2_35</th>\n",
              "      <th>desc_v2_36</th>\n",
              "      <th>desc_v2_37</th>\n",
              "      <th>desc_v2_38</th>\n",
              "      <th>desc_v2_39</th>\n",
              "      <th>...</th>\n",
              "      <th>desc_v2_182</th>\n",
              "      <th>desc_v2_183</th>\n",
              "      <th>desc_v2_184</th>\n",
              "      <th>desc_v2_185</th>\n",
              "      <th>desc_v2_186</th>\n",
              "      <th>desc_v2_187</th>\n",
              "      <th>desc_v2_188</th>\n",
              "      <th>desc_v2_189</th>\n",
              "      <th>desc_v2_190</th>\n",
              "      <th>desc_v2_191</th>\n",
              "      <th>desc_v2_192</th>\n",
              "      <th>desc_v2_193</th>\n",
              "      <th>desc_v2_194</th>\n",
              "      <th>desc_v2_195</th>\n",
              "      <th>desc_v2_196</th>\n",
              "      <th>desc_v2_197</th>\n",
              "      <th>desc_v2_198</th>\n",
              "      <th>desc_v2_199</th>\n",
              "      <th>desc_v2_200</th>\n",
              "      <th>desc_v2_201</th>\n",
              "      <th>desc_v2_202</th>\n",
              "      <th>desc_v2_203</th>\n",
              "      <th>desc_v2_204</th>\n",
              "      <th>desc_v2_205</th>\n",
              "      <th>desc_v2_206</th>\n",
              "      <th>desc_v2_207</th>\n",
              "      <th>desc_v2_208</th>\n",
              "      <th>desc_v2_209</th>\n",
              "      <th>desc_v2_210</th>\n",
              "      <th>desc_v2_211</th>\n",
              "      <th>desc_v2_212</th>\n",
              "      <th>desc_v2_213</th>\n",
              "      <th>desc_v2_214</th>\n",
              "      <th>desc_v2_215</th>\n",
              "      <th>rank</th>\n",
              "      <th>score</th>\n",
              "      <th>name</th>\n",
              "      <th>__residual_activity</th>\n",
              "      <th>proba</th>\n",
              "      <th>enamine_id</th>\n",
              "    </tr>\n",
              "  </thead>\n",
              "  <tbody>\n",
              "    <tr>\n",
              "      <th>0</th>\n",
              "      <td>0</td>\n",
              "      <td>25</td>\n",
              "      <td>255</td>\n",
              "      <td>479</td>\n",
              "      <td>877</td>\n",
              "      <td>1369</td>\n",
              "      <td>0</td>\n",
              "      <td>14</td>\n",
              "      <td>84</td>\n",
              "      <td>162</td>\n",
              "      <td>251</td>\n",
              "      <td>382</td>\n",
              "      <td>0</td>\n",
              "      <td>18</td>\n",
              "      <td>78</td>\n",
              "      <td>156</td>\n",
              "      <td>252</td>\n",
              "      <td>387</td>\n",
              "      <td>0</td>\n",
              "      <td>1</td>\n",
              "      <td>24</td>\n",
              "      <td>19</td>\n",
              "      <td>19</td>\n",
              "      <td>15</td>\n",
              "      <td>0</td>\n",
              "      <td>7</td>\n",
              "      <td>31</td>\n",
              "      <td>60</td>\n",
              "      <td>94</td>\n",
              "      <td>150</td>\n",
              "      <td>0</td>\n",
              "      <td>1</td>\n",
              "      <td>12</td>\n",
              "      <td>22</td>\n",
              "      <td>26</td>\n",
              "      <td>36</td>\n",
              "      <td>0</td>\n",
              "      <td>5</td>\n",
              "      <td>6</td>\n",
              "      <td>20</td>\n",
              "      <td>...</td>\n",
              "      <td>0</td>\n",
              "      <td>0</td>\n",
              "      <td>0</td>\n",
              "      <td>0</td>\n",
              "      <td>0</td>\n",
              "      <td>0</td>\n",
              "      <td>0</td>\n",
              "      <td>0</td>\n",
              "      <td>0</td>\n",
              "      <td>0</td>\n",
              "      <td>0</td>\n",
              "      <td>0</td>\n",
              "      <td>0</td>\n",
              "      <td>0</td>\n",
              "      <td>0</td>\n",
              "      <td>0</td>\n",
              "      <td>0</td>\n",
              "      <td>0</td>\n",
              "      <td>0</td>\n",
              "      <td>0</td>\n",
              "      <td>0</td>\n",
              "      <td>0</td>\n",
              "      <td>0</td>\n",
              "      <td>0</td>\n",
              "      <td>0</td>\n",
              "      <td>0</td>\n",
              "      <td>0</td>\n",
              "      <td>0</td>\n",
              "      <td>0</td>\n",
              "      <td>0</td>\n",
              "      <td>0</td>\n",
              "      <td>0</td>\n",
              "      <td>0</td>\n",
              "      <td>0</td>\n",
              "      <td>3</td>\n",
              "      <td>-9.07</td>\n",
              "      <td>PV-001792285514_2_T1</td>\n",
              "      <td>0.50</td>\n",
              "      <td>0.496388</td>\n",
              "      <td>PV-001792285514</td>\n",
              "    </tr>\n",
              "    <tr>\n",
              "      <th>1</th>\n",
              "      <td>0</td>\n",
              "      <td>51</td>\n",
              "      <td>276</td>\n",
              "      <td>431</td>\n",
              "      <td>688</td>\n",
              "      <td>959</td>\n",
              "      <td>0</td>\n",
              "      <td>28</td>\n",
              "      <td>102</td>\n",
              "      <td>134</td>\n",
              "      <td>205</td>\n",
              "      <td>266</td>\n",
              "      <td>0</td>\n",
              "      <td>17</td>\n",
              "      <td>70</td>\n",
              "      <td>141</td>\n",
              "      <td>183</td>\n",
              "      <td>250</td>\n",
              "      <td>0</td>\n",
              "      <td>6</td>\n",
              "      <td>7</td>\n",
              "      <td>9</td>\n",
              "      <td>28</td>\n",
              "      <td>20</td>\n",
              "      <td>0</td>\n",
              "      <td>3</td>\n",
              "      <td>18</td>\n",
              "      <td>54</td>\n",
              "      <td>72</td>\n",
              "      <td>112</td>\n",
              "      <td>0</td>\n",
              "      <td>2</td>\n",
              "      <td>14</td>\n",
              "      <td>9</td>\n",
              "      <td>27</td>\n",
              "      <td>33</td>\n",
              "      <td>0</td>\n",
              "      <td>2</td>\n",
              "      <td>5</td>\n",
              "      <td>15</td>\n",
              "      <td>...</td>\n",
              "      <td>0</td>\n",
              "      <td>0</td>\n",
              "      <td>0</td>\n",
              "      <td>0</td>\n",
              "      <td>0</td>\n",
              "      <td>0</td>\n",
              "      <td>0</td>\n",
              "      <td>0</td>\n",
              "      <td>0</td>\n",
              "      <td>0</td>\n",
              "      <td>0</td>\n",
              "      <td>0</td>\n",
              "      <td>0</td>\n",
              "      <td>0</td>\n",
              "      <td>0</td>\n",
              "      <td>0</td>\n",
              "      <td>0</td>\n",
              "      <td>0</td>\n",
              "      <td>0</td>\n",
              "      <td>0</td>\n",
              "      <td>0</td>\n",
              "      <td>0</td>\n",
              "      <td>0</td>\n",
              "      <td>0</td>\n",
              "      <td>0</td>\n",
              "      <td>0</td>\n",
              "      <td>0</td>\n",
              "      <td>0</td>\n",
              "      <td>0</td>\n",
              "      <td>0</td>\n",
              "      <td>0</td>\n",
              "      <td>0</td>\n",
              "      <td>0</td>\n",
              "      <td>0</td>\n",
              "      <td>4</td>\n",
              "      <td>-9.95</td>\n",
              "      <td>PV-001801306793_2_T1</td>\n",
              "      <td>0.42</td>\n",
              "      <td>0.235750</td>\n",
              "      <td>PV-001801306793</td>\n",
              "    </tr>\n",
              "    <tr>\n",
              "      <th>2</th>\n",
              "      <td>0</td>\n",
              "      <td>32</td>\n",
              "      <td>251</td>\n",
              "      <td>403</td>\n",
              "      <td>685</td>\n",
              "      <td>1150</td>\n",
              "      <td>0</td>\n",
              "      <td>21</td>\n",
              "      <td>80</td>\n",
              "      <td>134</td>\n",
              "      <td>215</td>\n",
              "      <td>286</td>\n",
              "      <td>0</td>\n",
              "      <td>34</td>\n",
              "      <td>71</td>\n",
              "      <td>142</td>\n",
              "      <td>207</td>\n",
              "      <td>323</td>\n",
              "      <td>0</td>\n",
              "      <td>1</td>\n",
              "      <td>10</td>\n",
              "      <td>17</td>\n",
              "      <td>18</td>\n",
              "      <td>19</td>\n",
              "      <td>0</td>\n",
              "      <td>3</td>\n",
              "      <td>22</td>\n",
              "      <td>25</td>\n",
              "      <td>81</td>\n",
              "      <td>105</td>\n",
              "      <td>0</td>\n",
              "      <td>1</td>\n",
              "      <td>7</td>\n",
              "      <td>15</td>\n",
              "      <td>23</td>\n",
              "      <td>29</td>\n",
              "      <td>0</td>\n",
              "      <td>1</td>\n",
              "      <td>8</td>\n",
              "      <td>15</td>\n",
              "      <td>...</td>\n",
              "      <td>0</td>\n",
              "      <td>0</td>\n",
              "      <td>0</td>\n",
              "      <td>0</td>\n",
              "      <td>0</td>\n",
              "      <td>0</td>\n",
              "      <td>0</td>\n",
              "      <td>0</td>\n",
              "      <td>0</td>\n",
              "      <td>0</td>\n",
              "      <td>0</td>\n",
              "      <td>0</td>\n",
              "      <td>0</td>\n",
              "      <td>0</td>\n",
              "      <td>0</td>\n",
              "      <td>0</td>\n",
              "      <td>0</td>\n",
              "      <td>0</td>\n",
              "      <td>0</td>\n",
              "      <td>0</td>\n",
              "      <td>0</td>\n",
              "      <td>0</td>\n",
              "      <td>0</td>\n",
              "      <td>0</td>\n",
              "      <td>0</td>\n",
              "      <td>0</td>\n",
              "      <td>0</td>\n",
              "      <td>0</td>\n",
              "      <td>0</td>\n",
              "      <td>0</td>\n",
              "      <td>0</td>\n",
              "      <td>0</td>\n",
              "      <td>0</td>\n",
              "      <td>0</td>\n",
              "      <td>8</td>\n",
              "      <td>-8.96</td>\n",
              "      <td>PV-001841410851_2_T1</td>\n",
              "      <td>0.67</td>\n",
              "      <td>0.191668</td>\n",
              "      <td>PV-001841410851</td>\n",
              "    </tr>\n",
              "    <tr>\n",
              "      <th>3</th>\n",
              "      <td>0</td>\n",
              "      <td>31</td>\n",
              "      <td>273</td>\n",
              "      <td>485</td>\n",
              "      <td>883</td>\n",
              "      <td>1381</td>\n",
              "      <td>0</td>\n",
              "      <td>15</td>\n",
              "      <td>86</td>\n",
              "      <td>167</td>\n",
              "      <td>255</td>\n",
              "      <td>386</td>\n",
              "      <td>0</td>\n",
              "      <td>20</td>\n",
              "      <td>77</td>\n",
              "      <td>162</td>\n",
              "      <td>272</td>\n",
              "      <td>378</td>\n",
              "      <td>0</td>\n",
              "      <td>4</td>\n",
              "      <td>18</td>\n",
              "      <td>24</td>\n",
              "      <td>17</td>\n",
              "      <td>19</td>\n",
              "      <td>0</td>\n",
              "      <td>4</td>\n",
              "      <td>44</td>\n",
              "      <td>90</td>\n",
              "      <td>117</td>\n",
              "      <td>220</td>\n",
              "      <td>0</td>\n",
              "      <td>3</td>\n",
              "      <td>17</td>\n",
              "      <td>26</td>\n",
              "      <td>42</td>\n",
              "      <td>59</td>\n",
              "      <td>0</td>\n",
              "      <td>3</td>\n",
              "      <td>14</td>\n",
              "      <td>26</td>\n",
              "      <td>...</td>\n",
              "      <td>0</td>\n",
              "      <td>0</td>\n",
              "      <td>0</td>\n",
              "      <td>0</td>\n",
              "      <td>0</td>\n",
              "      <td>0</td>\n",
              "      <td>0</td>\n",
              "      <td>0</td>\n",
              "      <td>0</td>\n",
              "      <td>0</td>\n",
              "      <td>0</td>\n",
              "      <td>0</td>\n",
              "      <td>0</td>\n",
              "      <td>0</td>\n",
              "      <td>0</td>\n",
              "      <td>0</td>\n",
              "      <td>0</td>\n",
              "      <td>0</td>\n",
              "      <td>0</td>\n",
              "      <td>0</td>\n",
              "      <td>0</td>\n",
              "      <td>0</td>\n",
              "      <td>0</td>\n",
              "      <td>0</td>\n",
              "      <td>0</td>\n",
              "      <td>0</td>\n",
              "      <td>0</td>\n",
              "      <td>0</td>\n",
              "      <td>0</td>\n",
              "      <td>0</td>\n",
              "      <td>0</td>\n",
              "      <td>0</td>\n",
              "      <td>0</td>\n",
              "      <td>0</td>\n",
              "      <td>4</td>\n",
              "      <td>-8.71</td>\n",
              "      <td>PV-001922393904_1_T1</td>\n",
              "      <td>1.02</td>\n",
              "      <td>0.559758</td>\n",
              "      <td>PV-001922393904</td>\n",
              "    </tr>\n",
              "    <tr>\n",
              "      <th>4</th>\n",
              "      <td>0</td>\n",
              "      <td>39</td>\n",
              "      <td>314</td>\n",
              "      <td>549</td>\n",
              "      <td>998</td>\n",
              "      <td>1378</td>\n",
              "      <td>0</td>\n",
              "      <td>24</td>\n",
              "      <td>104</td>\n",
              "      <td>162</td>\n",
              "      <td>290</td>\n",
              "      <td>416</td>\n",
              "      <td>0</td>\n",
              "      <td>24</td>\n",
              "      <td>79</td>\n",
              "      <td>188</td>\n",
              "      <td>268</td>\n",
              "      <td>451</td>\n",
              "      <td>0</td>\n",
              "      <td>12</td>\n",
              "      <td>14</td>\n",
              "      <td>20</td>\n",
              "      <td>23</td>\n",
              "      <td>29</td>\n",
              "      <td>0</td>\n",
              "      <td>1</td>\n",
              "      <td>32</td>\n",
              "      <td>76</td>\n",
              "      <td>126</td>\n",
              "      <td>248</td>\n",
              "      <td>0</td>\n",
              "      <td>2</td>\n",
              "      <td>14</td>\n",
              "      <td>22</td>\n",
              "      <td>39</td>\n",
              "      <td>73</td>\n",
              "      <td>0</td>\n",
              "      <td>1</td>\n",
              "      <td>12</td>\n",
              "      <td>21</td>\n",
              "      <td>...</td>\n",
              "      <td>0</td>\n",
              "      <td>0</td>\n",
              "      <td>0</td>\n",
              "      <td>0</td>\n",
              "      <td>0</td>\n",
              "      <td>0</td>\n",
              "      <td>0</td>\n",
              "      <td>0</td>\n",
              "      <td>0</td>\n",
              "      <td>0</td>\n",
              "      <td>0</td>\n",
              "      <td>0</td>\n",
              "      <td>0</td>\n",
              "      <td>0</td>\n",
              "      <td>0</td>\n",
              "      <td>0</td>\n",
              "      <td>0</td>\n",
              "      <td>0</td>\n",
              "      <td>0</td>\n",
              "      <td>0</td>\n",
              "      <td>0</td>\n",
              "      <td>0</td>\n",
              "      <td>0</td>\n",
              "      <td>0</td>\n",
              "      <td>0</td>\n",
              "      <td>0</td>\n",
              "      <td>0</td>\n",
              "      <td>0</td>\n",
              "      <td>0</td>\n",
              "      <td>0</td>\n",
              "      <td>0</td>\n",
              "      <td>0</td>\n",
              "      <td>0</td>\n",
              "      <td>0</td>\n",
              "      <td>7</td>\n",
              "      <td>-9.12</td>\n",
              "      <td>PV-001947954016_2_T1</td>\n",
              "      <td>0.47</td>\n",
              "      <td>0.447341</td>\n",
              "      <td>PV-001947954016</td>\n",
              "    </tr>\n",
              "    <tr>\n",
              "      <th>...</th>\n",
              "      <td>...</td>\n",
              "      <td>...</td>\n",
              "      <td>...</td>\n",
              "      <td>...</td>\n",
              "      <td>...</td>\n",
              "      <td>...</td>\n",
              "      <td>...</td>\n",
              "      <td>...</td>\n",
              "      <td>...</td>\n",
              "      <td>...</td>\n",
              "      <td>...</td>\n",
              "      <td>...</td>\n",
              "      <td>...</td>\n",
              "      <td>...</td>\n",
              "      <td>...</td>\n",
              "      <td>...</td>\n",
              "      <td>...</td>\n",
              "      <td>...</td>\n",
              "      <td>...</td>\n",
              "      <td>...</td>\n",
              "      <td>...</td>\n",
              "      <td>...</td>\n",
              "      <td>...</td>\n",
              "      <td>...</td>\n",
              "      <td>...</td>\n",
              "      <td>...</td>\n",
              "      <td>...</td>\n",
              "      <td>...</td>\n",
              "      <td>...</td>\n",
              "      <td>...</td>\n",
              "      <td>...</td>\n",
              "      <td>...</td>\n",
              "      <td>...</td>\n",
              "      <td>...</td>\n",
              "      <td>...</td>\n",
              "      <td>...</td>\n",
              "      <td>...</td>\n",
              "      <td>...</td>\n",
              "      <td>...</td>\n",
              "      <td>...</td>\n",
              "      <td>...</td>\n",
              "      <td>...</td>\n",
              "      <td>...</td>\n",
              "      <td>...</td>\n",
              "      <td>...</td>\n",
              "      <td>...</td>\n",
              "      <td>...</td>\n",
              "      <td>...</td>\n",
              "      <td>...</td>\n",
              "      <td>...</td>\n",
              "      <td>...</td>\n",
              "      <td>...</td>\n",
              "      <td>...</td>\n",
              "      <td>...</td>\n",
              "      <td>...</td>\n",
              "      <td>...</td>\n",
              "      <td>...</td>\n",
              "      <td>...</td>\n",
              "      <td>...</td>\n",
              "      <td>...</td>\n",
              "      <td>...</td>\n",
              "      <td>...</td>\n",
              "      <td>...</td>\n",
              "      <td>...</td>\n",
              "      <td>...</td>\n",
              "      <td>...</td>\n",
              "      <td>...</td>\n",
              "      <td>...</td>\n",
              "      <td>...</td>\n",
              "      <td>...</td>\n",
              "      <td>...</td>\n",
              "      <td>...</td>\n",
              "      <td>...</td>\n",
              "      <td>...</td>\n",
              "      <td>...</td>\n",
              "      <td>...</td>\n",
              "      <td>...</td>\n",
              "      <td>...</td>\n",
              "      <td>...</td>\n",
              "      <td>...</td>\n",
              "      <td>...</td>\n",
              "    </tr>\n",
              "    <tr>\n",
              "      <th>104</th>\n",
              "      <td>0</td>\n",
              "      <td>38</td>\n",
              "      <td>302</td>\n",
              "      <td>549</td>\n",
              "      <td>1015</td>\n",
              "      <td>1505</td>\n",
              "      <td>0</td>\n",
              "      <td>12</td>\n",
              "      <td>111</td>\n",
              "      <td>183</td>\n",
              "      <td>305</td>\n",
              "      <td>389</td>\n",
              "      <td>0</td>\n",
              "      <td>25</td>\n",
              "      <td>93</td>\n",
              "      <td>181</td>\n",
              "      <td>281</td>\n",
              "      <td>445</td>\n",
              "      <td>0</td>\n",
              "      <td>4</td>\n",
              "      <td>23</td>\n",
              "      <td>23</td>\n",
              "      <td>21</td>\n",
              "      <td>17</td>\n",
              "      <td>0</td>\n",
              "      <td>3</td>\n",
              "      <td>7</td>\n",
              "      <td>26</td>\n",
              "      <td>56</td>\n",
              "      <td>71</td>\n",
              "      <td>0</td>\n",
              "      <td>1</td>\n",
              "      <td>3</td>\n",
              "      <td>9</td>\n",
              "      <td>19</td>\n",
              "      <td>11</td>\n",
              "      <td>0</td>\n",
              "      <td>1</td>\n",
              "      <td>4</td>\n",
              "      <td>8</td>\n",
              "      <td>...</td>\n",
              "      <td>0</td>\n",
              "      <td>0</td>\n",
              "      <td>0</td>\n",
              "      <td>0</td>\n",
              "      <td>0</td>\n",
              "      <td>0</td>\n",
              "      <td>0</td>\n",
              "      <td>0</td>\n",
              "      <td>0</td>\n",
              "      <td>0</td>\n",
              "      <td>0</td>\n",
              "      <td>0</td>\n",
              "      <td>0</td>\n",
              "      <td>0</td>\n",
              "      <td>0</td>\n",
              "      <td>0</td>\n",
              "      <td>0</td>\n",
              "      <td>0</td>\n",
              "      <td>0</td>\n",
              "      <td>0</td>\n",
              "      <td>0</td>\n",
              "      <td>0</td>\n",
              "      <td>0</td>\n",
              "      <td>0</td>\n",
              "      <td>0</td>\n",
              "      <td>0</td>\n",
              "      <td>0</td>\n",
              "      <td>0</td>\n",
              "      <td>0</td>\n",
              "      <td>0</td>\n",
              "      <td>0</td>\n",
              "      <td>0</td>\n",
              "      <td>0</td>\n",
              "      <td>0</td>\n",
              "      <td>1</td>\n",
              "      <td>-9.68</td>\n",
              "      <td>Z2717603243_7_T1</td>\n",
              "      <td>0.88</td>\n",
              "      <td>0.816337</td>\n",
              "      <td>Z2717603243</td>\n",
              "    </tr>\n",
              "    <tr>\n",
              "      <th>105</th>\n",
              "      <td>0</td>\n",
              "      <td>45</td>\n",
              "      <td>256</td>\n",
              "      <td>515</td>\n",
              "      <td>927</td>\n",
              "      <td>1445</td>\n",
              "      <td>0</td>\n",
              "      <td>21</td>\n",
              "      <td>74</td>\n",
              "      <td>189</td>\n",
              "      <td>296</td>\n",
              "      <td>360</td>\n",
              "      <td>0</td>\n",
              "      <td>21</td>\n",
              "      <td>75</td>\n",
              "      <td>170</td>\n",
              "      <td>294</td>\n",
              "      <td>438</td>\n",
              "      <td>0</td>\n",
              "      <td>2</td>\n",
              "      <td>23</td>\n",
              "      <td>19</td>\n",
              "      <td>15</td>\n",
              "      <td>34</td>\n",
              "      <td>0</td>\n",
              "      <td>7</td>\n",
              "      <td>39</td>\n",
              "      <td>83</td>\n",
              "      <td>143</td>\n",
              "      <td>216</td>\n",
              "      <td>0</td>\n",
              "      <td>2</td>\n",
              "      <td>14</td>\n",
              "      <td>33</td>\n",
              "      <td>40</td>\n",
              "      <td>50</td>\n",
              "      <td>0</td>\n",
              "      <td>3</td>\n",
              "      <td>15</td>\n",
              "      <td>25</td>\n",
              "      <td>...</td>\n",
              "      <td>0</td>\n",
              "      <td>0</td>\n",
              "      <td>0</td>\n",
              "      <td>0</td>\n",
              "      <td>0</td>\n",
              "      <td>0</td>\n",
              "      <td>0</td>\n",
              "      <td>0</td>\n",
              "      <td>0</td>\n",
              "      <td>0</td>\n",
              "      <td>0</td>\n",
              "      <td>0</td>\n",
              "      <td>0</td>\n",
              "      <td>0</td>\n",
              "      <td>0</td>\n",
              "      <td>0</td>\n",
              "      <td>0</td>\n",
              "      <td>0</td>\n",
              "      <td>0</td>\n",
              "      <td>0</td>\n",
              "      <td>0</td>\n",
              "      <td>0</td>\n",
              "      <td>0</td>\n",
              "      <td>0</td>\n",
              "      <td>0</td>\n",
              "      <td>0</td>\n",
              "      <td>0</td>\n",
              "      <td>0</td>\n",
              "      <td>0</td>\n",
              "      <td>0</td>\n",
              "      <td>0</td>\n",
              "      <td>0</td>\n",
              "      <td>0</td>\n",
              "      <td>0</td>\n",
              "      <td>4</td>\n",
              "      <td>-9.11</td>\n",
              "      <td>Z2958605212_2_T1</td>\n",
              "      <td>0.51</td>\n",
              "      <td>0.748594</td>\n",
              "      <td>Z2958605212</td>\n",
              "    </tr>\n",
              "    <tr>\n",
              "      <th>106</th>\n",
              "      <td>0</td>\n",
              "      <td>24</td>\n",
              "      <td>241</td>\n",
              "      <td>468</td>\n",
              "      <td>896</td>\n",
              "      <td>1336</td>\n",
              "      <td>0</td>\n",
              "      <td>12</td>\n",
              "      <td>78</td>\n",
              "      <td>158</td>\n",
              "      <td>286</td>\n",
              "      <td>360</td>\n",
              "      <td>0</td>\n",
              "      <td>7</td>\n",
              "      <td>70</td>\n",
              "      <td>153</td>\n",
              "      <td>261</td>\n",
              "      <td>413</td>\n",
              "      <td>0</td>\n",
              "      <td>6</td>\n",
              "      <td>22</td>\n",
              "      <td>20</td>\n",
              "      <td>15</td>\n",
              "      <td>27</td>\n",
              "      <td>0</td>\n",
              "      <td>4</td>\n",
              "      <td>31</td>\n",
              "      <td>80</td>\n",
              "      <td>112</td>\n",
              "      <td>211</td>\n",
              "      <td>0</td>\n",
              "      <td>0</td>\n",
              "      <td>13</td>\n",
              "      <td>25</td>\n",
              "      <td>38</td>\n",
              "      <td>59</td>\n",
              "      <td>0</td>\n",
              "      <td>2</td>\n",
              "      <td>11</td>\n",
              "      <td>23</td>\n",
              "      <td>...</td>\n",
              "      <td>0</td>\n",
              "      <td>0</td>\n",
              "      <td>0</td>\n",
              "      <td>0</td>\n",
              "      <td>0</td>\n",
              "      <td>0</td>\n",
              "      <td>0</td>\n",
              "      <td>0</td>\n",
              "      <td>0</td>\n",
              "      <td>0</td>\n",
              "      <td>0</td>\n",
              "      <td>0</td>\n",
              "      <td>0</td>\n",
              "      <td>0</td>\n",
              "      <td>0</td>\n",
              "      <td>0</td>\n",
              "      <td>0</td>\n",
              "      <td>0</td>\n",
              "      <td>0</td>\n",
              "      <td>0</td>\n",
              "      <td>0</td>\n",
              "      <td>0</td>\n",
              "      <td>0</td>\n",
              "      <td>0</td>\n",
              "      <td>0</td>\n",
              "      <td>0</td>\n",
              "      <td>0</td>\n",
              "      <td>0</td>\n",
              "      <td>0</td>\n",
              "      <td>0</td>\n",
              "      <td>0</td>\n",
              "      <td>0</td>\n",
              "      <td>0</td>\n",
              "      <td>0</td>\n",
              "      <td>2</td>\n",
              "      <td>-7.83</td>\n",
              "      <td>Z3204113440_1_T2</td>\n",
              "      <td>0.69</td>\n",
              "      <td>0.704109</td>\n",
              "      <td>Z3204113440</td>\n",
              "    </tr>\n",
              "    <tr>\n",
              "      <th>107</th>\n",
              "      <td>0</td>\n",
              "      <td>31</td>\n",
              "      <td>246</td>\n",
              "      <td>432</td>\n",
              "      <td>719</td>\n",
              "      <td>1118</td>\n",
              "      <td>0</td>\n",
              "      <td>17</td>\n",
              "      <td>88</td>\n",
              "      <td>134</td>\n",
              "      <td>216</td>\n",
              "      <td>304</td>\n",
              "      <td>0</td>\n",
              "      <td>31</td>\n",
              "      <td>65</td>\n",
              "      <td>151</td>\n",
              "      <td>206</td>\n",
              "      <td>312</td>\n",
              "      <td>0</td>\n",
              "      <td>1</td>\n",
              "      <td>14</td>\n",
              "      <td>14</td>\n",
              "      <td>21</td>\n",
              "      <td>15</td>\n",
              "      <td>0</td>\n",
              "      <td>0</td>\n",
              "      <td>0</td>\n",
              "      <td>0</td>\n",
              "      <td>0</td>\n",
              "      <td>0</td>\n",
              "      <td>0</td>\n",
              "      <td>0</td>\n",
              "      <td>0</td>\n",
              "      <td>0</td>\n",
              "      <td>0</td>\n",
              "      <td>0</td>\n",
              "      <td>0</td>\n",
              "      <td>0</td>\n",
              "      <td>0</td>\n",
              "      <td>0</td>\n",
              "      <td>...</td>\n",
              "      <td>0</td>\n",
              "      <td>0</td>\n",
              "      <td>0</td>\n",
              "      <td>0</td>\n",
              "      <td>0</td>\n",
              "      <td>0</td>\n",
              "      <td>0</td>\n",
              "      <td>0</td>\n",
              "      <td>0</td>\n",
              "      <td>0</td>\n",
              "      <td>0</td>\n",
              "      <td>0</td>\n",
              "      <td>0</td>\n",
              "      <td>0</td>\n",
              "      <td>0</td>\n",
              "      <td>0</td>\n",
              "      <td>0</td>\n",
              "      <td>0</td>\n",
              "      <td>0</td>\n",
              "      <td>0</td>\n",
              "      <td>0</td>\n",
              "      <td>0</td>\n",
              "      <td>0</td>\n",
              "      <td>0</td>\n",
              "      <td>0</td>\n",
              "      <td>0</td>\n",
              "      <td>0</td>\n",
              "      <td>0</td>\n",
              "      <td>0</td>\n",
              "      <td>0</td>\n",
              "      <td>0</td>\n",
              "      <td>0</td>\n",
              "      <td>0</td>\n",
              "      <td>0</td>\n",
              "      <td>3</td>\n",
              "      <td>-8.21</td>\n",
              "      <td>Z358982816_1_T2</td>\n",
              "      <td>0.81</td>\n",
              "      <td>0.199940</td>\n",
              "      <td>Z358982816</td>\n",
              "    </tr>\n",
              "    <tr>\n",
              "      <th>108</th>\n",
              "      <td>0</td>\n",
              "      <td>32</td>\n",
              "      <td>244</td>\n",
              "      <td>439</td>\n",
              "      <td>760</td>\n",
              "      <td>1182</td>\n",
              "      <td>0</td>\n",
              "      <td>12</td>\n",
              "      <td>84</td>\n",
              "      <td>146</td>\n",
              "      <td>235</td>\n",
              "      <td>314</td>\n",
              "      <td>0</td>\n",
              "      <td>13</td>\n",
              "      <td>82</td>\n",
              "      <td>135</td>\n",
              "      <td>223</td>\n",
              "      <td>330</td>\n",
              "      <td>0</td>\n",
              "      <td>3</td>\n",
              "      <td>19</td>\n",
              "      <td>21</td>\n",
              "      <td>11</td>\n",
              "      <td>11</td>\n",
              "      <td>0</td>\n",
              "      <td>0</td>\n",
              "      <td>10</td>\n",
              "      <td>24</td>\n",
              "      <td>56</td>\n",
              "      <td>78</td>\n",
              "      <td>0</td>\n",
              "      <td>0</td>\n",
              "      <td>4</td>\n",
              "      <td>9</td>\n",
              "      <td>15</td>\n",
              "      <td>26</td>\n",
              "      <td>0</td>\n",
              "      <td>0</td>\n",
              "      <td>3</td>\n",
              "      <td>8</td>\n",
              "      <td>...</td>\n",
              "      <td>0</td>\n",
              "      <td>0</td>\n",
              "      <td>0</td>\n",
              "      <td>0</td>\n",
              "      <td>0</td>\n",
              "      <td>0</td>\n",
              "      <td>0</td>\n",
              "      <td>0</td>\n",
              "      <td>0</td>\n",
              "      <td>0</td>\n",
              "      <td>0</td>\n",
              "      <td>0</td>\n",
              "      <td>0</td>\n",
              "      <td>0</td>\n",
              "      <td>0</td>\n",
              "      <td>0</td>\n",
              "      <td>0</td>\n",
              "      <td>0</td>\n",
              "      <td>0</td>\n",
              "      <td>0</td>\n",
              "      <td>0</td>\n",
              "      <td>0</td>\n",
              "      <td>0</td>\n",
              "      <td>0</td>\n",
              "      <td>0</td>\n",
              "      <td>0</td>\n",
              "      <td>0</td>\n",
              "      <td>0</td>\n",
              "      <td>0</td>\n",
              "      <td>0</td>\n",
              "      <td>0</td>\n",
              "      <td>0</td>\n",
              "      <td>0</td>\n",
              "      <td>0</td>\n",
              "      <td>10</td>\n",
              "      <td>-8.15</td>\n",
              "      <td>Z45548584_1_T1</td>\n",
              "      <td>0.44</td>\n",
              "      <td>0.183184</td>\n",
              "      <td>Z45548584</td>\n",
              "    </tr>\n",
              "  </tbody>\n",
              "</table>\n",
              "<p>109 rows × 222 columns</p>\n",
              "</div>"
            ],
            "text/plain": [
              "     desc_v2_0  desc_v2_1  ...     proba       enamine_id\n",
              "0            0         25  ...  0.496388  PV-001792285514\n",
              "1            0         51  ...  0.235750  PV-001801306793\n",
              "2            0         32  ...  0.191668  PV-001841410851\n",
              "3            0         31  ...  0.559758  PV-001922393904\n",
              "4            0         39  ...  0.447341  PV-001947954016\n",
              "..         ...        ...  ...       ...              ...\n",
              "104          0         38  ...  0.816337      Z2717603243\n",
              "105          0         45  ...  0.748594      Z2958605212\n",
              "106          0         24  ...  0.704109      Z3204113440\n",
              "107          0         31  ...  0.199940       Z358982816\n",
              "108          0         32  ...  0.183184        Z45548584\n",
              "\n",
              "[109 rows x 222 columns]"
            ]
          },
          "metadata": {
            "tags": []
          },
          "execution_count": 298
        }
      ]
    },
    {
      "cell_type": "code",
      "metadata": {
        "colab": {
          "base_uri": "https://localhost:8080/",
          "height": 296
        },
        "id": "u2YM6r-M_v2A",
        "outputId": "0a908fd7-5e4d-4b6c-c3ba-9597dfb2877b"
      },
      "source": [
        "yr = df_exp_rf2_grouped.__residual_activity < 0.25\n",
        "p, r, _ = precision_recall_curve(yr, df_exp_rf2_grouped.proba)\n",
        "auc = np.trapz(p[::-1],r[::-1])\n",
        "fig, ax = plt.subplots()\n",
        "ax.plot(r,p,label='AUC={:.5f}'.format(auc))\n",
        "\n",
        "ax.set_xlabel('recall')\n",
        "ax.set_ylabel('precision')\n",
        "ax.legend(frameon=False,title='hit expansion')"
      ],
      "execution_count": null,
      "outputs": [
        {
          "output_type": "execute_result",
          "data": {
            "text/plain": [
              "<matplotlib.legend.Legend at 0x7fbc7dc038d0>"
            ]
          },
          "metadata": {
            "tags": []
          },
          "execution_count": 299
        },
        {
          "output_type": "display_data",
          "data": {
            "image/png": "[encoded data removed]",
            "text/plain": [
              "<Figure size 432x288 with 1 Axes>"
            ]
          },
          "metadata": {
            "tags": [],
            "needs_background": "light"
          }
        }
      ]
    },
    {
      "cell_type": "markdown",
      "metadata": {
        "id": "v_hF8ShlhShN"
      },
      "source": [
        "### Compare Vina vs AD GPU"
      ]
    },
    {
      "cell_type": "markdown",
      "metadata": {
        "id": "N2mkzerooCdV"
      },
      "source": [
        "- Using Mpro descriptors"
      ]
    },
    {
      "cell_type": "code",
      "metadata": {
        "id": "cboKo7jC2LqV"
      },
      "source": [
        "%%bigquery --project $project_id df\n",
        "SELECT * FROM moonshot.activities LIMIT 10"
      ],
      "execution_count": 15,
      "outputs": []
    },
    {
      "cell_type": "code",
      "metadata": {
        "id": "dQY2QqUg2Tmk",
        "colab": {
          "base_uri": "https://localhost:8080/"
        },
        "outputId": "9b99fd79-2db6-48f8-f9b7-0a4ca04154d7"
      },
      "source": [
        "df.columns"
      ],
      "execution_count": null,
      "outputs": [
        {
          "output_type": "execute_result",
          "data": {
            "text/plain": [
              "Index(['SMILES', 'CID', 'canonical_CID', 'r_inhibition_at_20_uM',\n",
              "       'r_inhibition_at_50_uM', 'r_avg_IC50', 'f_inhibition_at_20_uM',\n",
              "       'f_inhibition_at_50_uM', 'f_avg_IC50', 'f_avg_pIC50',\n",
              "       'relative_solubility_at_20_uM', 'relative_solubility_at_100_uM',\n",
              "       'trypsin_IC50', 'NMR_std_ratio', 'acrylamide', 'chloroacetamide',\n",
              "       'series', 'frag_id'],\n",
              "      dtype='object')"
            ]
          },
          "metadata": {
            "tags": []
          },
          "execution_count": 98
        }
      ]
    },
    {
      "cell_type": "code",
      "metadata": {
        "id": "A3Qf5JXfCZx_"
      },
      "source": [
        "%%bigquery --project $project_id df_xgboost_vina\n",
        "SELECT name, AVG(f_avg_IC50) AS f_avg_IC50, AVG(f_inhibition_at_20_uM) AS f_inhibition_at_20_uM,\n",
        "  MIN(predicted_active_probs[OFFSET(0)].prob) AS xgb_score\n",
        "FROM ML.PREDICT(MODEL `moonshot.xgbmodel`,\n",
        "  (SELECT A.*, f_avg_IC50, f_inhibition_at_20_uM, activities.frag_id FROM moonshot.mpro_features_vina AS A\n",
        "   INNER JOIN moonshot.activities AS activities\n",
        "   ON STARTS_WITH(A.name,activities.CID)))\n",
        "#INNER JOIN moonshot.diamond_scores AS diamond ON diamond.diamond_id = frag_id\n",
        "#WHERE f_AVG_IC50 IS NOT NULL\n",
        "WHERE f_inhibition_at_20_uM IS NOT NULL\n",
        "GROUP BY name\n",
        "ORDER BY xgb_score DESC"
      ],
      "execution_count": null,
      "outputs": []
    },
    {
      "cell_type": "code",
      "metadata": {
        "id": "Nua1OQf6iwXc"
      },
      "source": [
        "%%bigquery --project $project_id df_xgboost_adgpu\n",
        "SELECT name, AVG(f_avg_IC50) as f_avg_IC50,AVG(f_inhibition_at_20_uM) AS f_inhibition_at_20_uM,\n",
        "   MIN(predicted_active_probs[OFFSET(0)].prob) AS xgb_score\n",
        "FROM ML.PREDICT(MODEL `moonshot.xgbmodel`,\n",
        "  (SELECT A.*, f_avg_IC50, activities.frag_id, f_inhibition_at_20_uM FROM moonshot.mpro_features_redocked_5R84_01 AS A\n",
        "   INNER JOIN moonshot.activities AS activities\n",
        "   ON STARTS_WITH(A.name,activities.CID)))\n",
        "#INNER JOIN moonshot.diamond_scores AS diamond ON diamond.diamond_id = frag_id\n",
        "#WHERE f_AVG_IC50 IS NOT NULL\n",
        "WHERE f_inhibition_at_20_uM IS NOT NULL\n",
        "GROUP BY name\n",
        "ORDER BY xgb_score DESC\n"
      ],
      "execution_count": null,
      "outputs": []
    },
    {
      "cell_type": "code",
      "metadata": {
        "id": "f35Xq_lDjeWb"
      },
      "source": [
        "%%bigquery --project $project_id df_xgboost_diamond\n",
        "SELECT string_field_0 AS name, f_avg_IC50, f_inhibition_at_20_uM,\n",
        "  predicted_active_probs[OFFSET(0)].prob AS xgb_score\n",
        "FROM ML.PREDICT(MODEL `moonshot.xgbmodel`,\n",
        "  (SELECT A.*, f_avg_IC50, f_inhibition_at_20_uM FROM moonshot.mpro_features AS A\n",
        "   INNER JOIN moonshot.activities AS activities\n",
        "   ON STARTS_WITH(A.string_field_0,activities.CID)))\n",
        "WHERE f_inhibition_at_20_uM IS NOT NULL\n",
        "#WHERE f_AVG_IC50 IS NOT NULL\n",
        "ORDER BY xgb_score DESC\n"
      ],
      "execution_count": null,
      "outputs": []
    },
    {
      "cell_type": "code",
      "metadata": {
        "colab": {
          "base_uri": "https://localhost:8080/",
          "height": 279
        },
        "id": "YitQTV6liE6-",
        "outputId": "10821b6c-d93c-434f-a67d-3c7b83b526ee"
      },
      "source": [
        "from sklearn.metrics import precision_recall_curve\n",
        "import matplotlib.pyplot as plt\n",
        "thresh = 5\n",
        "yr = df_xgboost_vina.f_avg_IC50 < thresh\n",
        "yr = df_xgboost_vina.f_inhibition_at_20_uM > 50\n",
        "\n",
        "p, r, _ = precision_recall_curve(yr, df_xgboost_vina.xgb_score)\n",
        "auc = np.trapz(p[::-1],r[::-1])\n",
        "fig, ax = plt.subplots()\n",
        "ax.plot(r,p,label='AutoDock Vina AUC={:.5f}'.format(auc),zorder=1)\n",
        "\n",
        "\n",
        "yr = df_xgboost_adgpu.f_avg_IC50 < thresh\n",
        "yr = df_xgboost_adgpu.f_inhibition_at_20_uM > 50\n",
        "\n",
        "p, r, _ = precision_recall_curve(yr, df_xgboost_adgpu.xgb_score)\n",
        "auc = np.trapz(p[::-1],r[::-1])\n",
        "ax.plot(r,p,label='AutoDock GPU AUC={:.5f}'.format(auc),zorder=0)\n",
        "\n",
        "yr = df_xgboost_diamond.f_avg_IC50 < thresh\n",
        "yr = df_xgboost_diamond.f_inhibition_at_20_uM > 50\n",
        "\n",
        "p, r, _ = precision_recall_curve(yr, df_xgboost_diamond.xgb_score)\n",
        "auc = np.trapz(p[::-1],r[::-1])\n",
        "ax.plot(r,p,label='training set AUC={:.5f}'.format(auc))\n",
        "\n",
        "ax.set_xlabel('recall')\n",
        "ax.set_ylabel('precision')\n",
        "ax.legend(frameon=False,title='Diamond PDBs')\n",
        "fig.savefig('auc_min.pdf')"
      ],
      "execution_count": null,
      "outputs": [
        {
          "output_type": "display_data",
          "data": {
            "image/png": "[encoded data removed]",
            "text/plain": [
              "<Figure size 432x288 with 1 Axes>"
            ]
          },
          "metadata": {
            "tags": [],
            "needs_background": "light"
          }
        }
      ]
    },
    {
      "cell_type": "code",
      "metadata": {
        "colab": {
          "base_uri": "https://localhost:8080/",
          "height": 17
        },
        "id": "9B3j7rzSi6VK",
        "outputId": "632744ef-9165-4535-f31b-e11278f29a3d"
      },
      "source": [
        "from google.colab import files\n",
        "files.download('auc_min.pdf')"
      ],
      "execution_count": null,
      "outputs": [
        {
          "output_type": "display_data",
          "data": {
            "application/javascript": [
              "\n",
              "    async function download(id, filename, size) {\n",
              "      if (!google.colab.kernel.accessAllowed) {\n",
              "        return;\n",
              "      }\n",
              "      const div = document.createElement('div');\n",
              "      const label = document.createElement('label');\n",
              "      label.textContent = `Downloading \"${filename}\": `;\n",
              "      div.appendChild(label);\n",
              "      const progress = document.createElement('progress');\n",
              "      progress.max = size;\n",
              "      div.appendChild(progress);\n",
              "      document.body.appendChild(div);\n",
              "\n",
              "      const buffers = [];\n",
              "      let downloaded = 0;\n",
              "\n",
              "      const channel = await google.colab.kernel.comms.open(id);\n",
              "      // Send a message to notify the kernel that we're ready.\n",
              "      channel.send({})\n",
              "\n",
              "      for await (const message of channel.messages) {\n",
              "        // Send a message to notify the kernel that we're ready.\n",
              "        channel.send({})\n",
              "        if (message.buffers) {\n",
              "          for (const buffer of message.buffers) {\n",
              "            buffers.push(buffer);\n",
              "            downloaded += buffer.byteLength;\n",
              "            progress.value = downloaded;\n",
              "          }\n",
              "        }\n",
              "      }\n",
              "      const blob = new Blob(buffers, {type: 'application/binary'});\n",
              "      const a = document.createElement('a');\n",
              "      a.href = window.URL.createObjectURL(blob);\n",
              "      a.download = filename;\n",
              "      div.appendChild(a);\n",
              "      a.click();\n",
              "      div.remove();\n",
              "    }\n",
              "  "
            ],
            "text/plain": [
              "<IPython.core.display.Javascript object>"
            ]
          },
          "metadata": {
            "tags": []
          }
        },
        {
          "output_type": "display_data",
          "data": {
            "application/javascript": [
              "download(\"download_72fcd0cf-2e77-4b9e-80f5-e6dcb62148cb\", \"auc_min.pdf\", 20589)"
            ],
            "text/plain": [
              "<IPython.core.display.Javascript object>"
            ]
          },
          "metadata": {
            "tags": []
          }
        }
      ]
    },
    {
      "cell_type": "code",
      "metadata": {
        "id": "TPM6iJ6C76L5",
        "colab": {
          "base_uri": "https://localhost:8080/",
          "height": 279
        },
        "outputId": "3444b885-0449-4055-f720-30136e7c02b0"
      },
      "source": [
        "from sklearn.metrics import roc_curve\n",
        "import matplotlib.pyplot as plt\n",
        "thresh = 5\n",
        "yr = df_xgboost_vina.f_avg_IC50 < thresh\n",
        "fpr, tpr, _ = roc_curve(yr, df_xgboost_vina.xgb_score)\n",
        "auc = np.trapz(tpr,fpr)\n",
        "fig, ax = plt.subplots()\n",
        "ax.plot(fpr,tpr,label='AutoDock Vina AUC={:.5f}'.format(auc),zorder=1)\n",
        "\n",
        "\n",
        "yr = df_xgboost_adgpu.f_avg_IC50 < thresh\n",
        "fpr, tpr, _ = roc_curve(yr, df_xgboost_adgpu.xgb_score)\n",
        "auc = np.trapz(tpr,fpr)\n",
        "ax.plot(fpr,tpr,label='AutoDock GPU AUC={:.5f}'.format(auc),zorder=0)\n",
        "\n",
        "yr = df_xgboost_diamond.f_avg_IC50 < thresh\n",
        "fpr, tpr, _ = roc_curve(yr, df_xgboost_diamond.xgb_score)\n",
        "auc = np.trapz(tpr,fpr)\n",
        "ax.plot(fpr,tpr,label='training set AUC={:.5f}'.format(auc))\n",
        "\n",
        "ax.set_xlabel('false positive rate')\n",
        "ax.set_ylabel('true positive rate')\n",
        "ax.legend(frameon=False,title='Diamond PDBs')\n",
        "fig.savefig('roc_min.pdf')"
      ],
      "execution_count": null,
      "outputs": [
        {
          "output_type": "display_data",
          "data": {
            "image/png": "[encoded data removed]",
            "text/plain": [
              "<Figure size 432x288 with 1 Axes>"
            ]
          },
          "metadata": {
            "tags": [],
            "needs_background": "light"
          }
        }
      ]
    },
    {
      "cell_type": "code",
      "metadata": {
        "id": "sADIXMGX8sZI",
        "colab": {
          "base_uri": "https://localhost:8080/",
          "height": 17
        },
        "outputId": "55c39e9b-1d8c-46b2-d133-c4b803318b9c"
      },
      "source": [
        "from google.colab import files\n",
        "files.download('roc_min.pdf')"
      ],
      "execution_count": null,
      "outputs": [
        {
          "output_type": "display_data",
          "data": {
            "application/javascript": [
              "\n",
              "    async function download(id, filename, size) {\n",
              "      if (!google.colab.kernel.accessAllowed) {\n",
              "        return;\n",
              "      }\n",
              "      const div = document.createElement('div');\n",
              "      const label = document.createElement('label');\n",
              "      label.textContent = `Downloading \"${filename}\": `;\n",
              "      div.appendChild(label);\n",
              "      const progress = document.createElement('progress');\n",
              "      progress.max = size;\n",
              "      div.appendChild(progress);\n",
              "      document.body.appendChild(div);\n",
              "\n",
              "      const buffers = [];\n",
              "      let downloaded = 0;\n",
              "\n",
              "      const channel = await google.colab.kernel.comms.open(id);\n",
              "      // Send a message to notify the kernel that we're ready.\n",
              "      channel.send({})\n",
              "\n",
              "      for await (const message of channel.messages) {\n",
              "        // Send a message to notify the kernel that we're ready.\n",
              "        channel.send({})\n",
              "        if (message.buffers) {\n",
              "          for (const buffer of message.buffers) {\n",
              "            buffers.push(buffer);\n",
              "            downloaded += buffer.byteLength;\n",
              "            progress.value = downloaded;\n",
              "          }\n",
              "        }\n",
              "      }\n",
              "      const blob = new Blob(buffers, {type: 'application/binary'});\n",
              "      const a = document.createElement('a');\n",
              "      a.href = window.URL.createObjectURL(blob);\n",
              "      a.download = filename;\n",
              "      div.appendChild(a);\n",
              "      a.click();\n",
              "      div.remove();\n",
              "    }\n",
              "  "
            ],
            "text/plain": [
              "<IPython.core.display.Javascript object>"
            ]
          },
          "metadata": {
            "tags": []
          }
        },
        {
          "output_type": "display_data",
          "data": {
            "application/javascript": [
              "download(\"download_49f860eb-9e45-4da6-b60c-377db6ac06e7\", \"roc_min.pdf\", 20005)"
            ],
            "text/plain": [
              "<IPython.core.display.Javascript object>"
            ]
          },
          "metadata": {
            "tags": []
          }
        }
      ]
    },
    {
      "cell_type": "markdown",
      "metadata": {
        "id": "I8Ti4CGhoIE_"
      },
      "source": [
        "- Using RF2"
      ]
    },
    {
      "cell_type": "code",
      "metadata": {
        "id": "nrs062VzoKDx"
      },
      "source": [
        "%%bigquery --project $project_id df_rf2_vina\n",
        "SELECT A.diamond_id AS name, AVG(f_avg_IC50) AS f_avg_IC50, MIN(A.rfscore_v2) AS rf2\n",
        "FROM moonshot.scores_vina AS A\n",
        "INNER JOIN moonshot.activities AS activities ON STARTS_WITH(A.diamond_id,activities.CID)\n",
        "#INNER JOIN moonshot.diamond_scores AS diamond ON diamond.diamond_id = activities.frag_id\n",
        "WHERE f_AVG_IC50 IS NOT NULL\n",
        "GROUP BY name\n",
        "ORDER BY rf2 DESC\n"
      ],
      "execution_count": 294,
      "outputs": []
    },
    {
      "cell_type": "code",
      "metadata": {
        "id": "Hcl6bI7yoXSI"
      },
      "source": [
        "%%bigquery --project $project_id df_rf2_adgpu\n",
        "SELECT A.diamond_id AS name, AVG(f_avg_IC50) AS f_avg_IC50, MIN(A.rfscore_v2) AS rf2\n",
        "FROM moonshot.scores_adgpu AS A\n",
        "INNER JOIN moonshot.activities AS activities ON STARTS_WITH(A.diamond_id,activities.CID)\n",
        "#INNER JOIN moonshot.diamond_scores AS diamond ON diamond.diamond_id = activities.frag_id \n",
        "WHERE f_AVG_IC50 IS NOT NULL\n",
        "GROUP BY name\n",
        "ORDER BY rf2 DESC"
      ],
      "execution_count": 295,
      "outputs": []
    },
    {
      "cell_type": "code",
      "metadata": {
        "id": "BSJhWMGKpQ6Y"
      },
      "source": [
        "%%bigquery --project $project_id df_rf2_diamond\n",
        "SELECT A.diamond_id as name, AVG(activities.f_avg_IC50) AS f_avg_IC50, MIN(A.rfscore_v2) AS rf2\n",
        "FROM moonshot.diamond_scores AS A\n",
        "INNER JOIN moonshot.activities AS activities ON STARTS_WITH(diamond_id,activities.frag_id)\n",
        "WHERE f_avg_IC50 IS NOT NULL\n",
        "GROUP BY name\n",
        "ORDER BY rf2 DESC"
      ],
      "execution_count": 296,
      "outputs": []
    },
    {
      "cell_type": "code",
      "metadata": {
        "id": "z_l_hOQzpVV5",
        "colab": {
          "base_uri": "https://localhost:8080/",
          "height": 520
        },
        "outputId": "214a025d-11d1-4ff9-84bb-b5ec3d09a0cd"
      },
      "source": [
        "from sklearn.metrics import precision_recall_curve\n",
        "import matplotlib.pyplot as plt\n",
        "\n",
        "fig, ax = plt.subplots()\n",
        "fig.set_size_inches(12,8)\n",
        "thresh = 5\n",
        "nbootstrap = 500\n",
        "samplesize = 250\n",
        "x = np.linspace(0,1,100)\n",
        "\n",
        "alpha_err = 0.15\n",
        "\n",
        "ps = []\n",
        "for i in range(nbootstrap):\n",
        "  df_sample = df_rf2_adgpu.sample(n=samplesize,replace=True)\n",
        "  yr = df_sample.f_avg_IC50 < thresh\n",
        "  p, r, _ = precision_recall_curve(yr, df_sample.rf2)\n",
        "  ps.append(np.interp(x,r[::-1],p[::-1]))\n",
        "ps = np.vstack(ps)\n",
        "pavg = np.mean(ps,axis=0)\n",
        "perr = np.std(ps,axis=0)\n",
        "auc = np.trapz(pavg[::-1],x)\n",
        "ax.plot(x,pavg,label='AutoDock GPU RF2 $\\\\mathit{{min}}$ AUC={:.5f}'.format(auc),zorder=1,color='r')\n",
        "ax.fill_between(x, pavg - perr, pavg + perr, color='r', alpha=alpha_err)\n",
        "\n",
        "\n",
        "ps = []\n",
        "for i in range(nbootstrap):\n",
        "  df_sample = df_rf2_vina.sample(n=samplesize,replace=True)\n",
        "  yr = df_sample.f_avg_IC50 < thresh\n",
        "  p, r, _ = precision_recall_curve(yr, df_sample.rf2)\n",
        "  ps.append(np.interp(x,r[::-1],p[::-1]))\n",
        "ps = np.vstack(ps)\n",
        "pavg = np.mean(ps,axis=0)\n",
        "perr = np.std(ps,axis=0)\n",
        "auc = np.trapz(pavg[::-1],x)\n",
        "ax.plot(x,pavg,label='AutoDock Vina RF2 $\\\\mathit{{min}}$ AUC={:.5f}'.format(auc),zorder=1,color='b')\n",
        "ax.fill_between(x, pavg - perr, pavg + perr, color='b', alpha=alpha_err)\n",
        "\n",
        "ps = []\n",
        "for i in range(nbootstrap):\n",
        "  df_sample = df_rf2_diamond.sample(n=samplesize,replace=True)\n",
        "  yr = df_sample.f_avg_IC50 < thresh\n",
        "  p, r, _ = precision_recall_curve(yr, df_sample.rf2)\n",
        "  ps.append(np.interp(x,r[::-1],p[::-1]))\n",
        "ps = np.vstack(ps)\n",
        "pavg = np.mean(ps,axis=0)\n",
        "perr = np.std(ps,axis=0)\n",
        "auc = np.trapz(pavg[::-1],x)\n",
        "ax.plot(x,pavg,'--',label='Crystal structures RF2 $\\\\mathit{{min}}$ AUC={:.5f}'.format(auc),zorder=1,color='y')\n",
        "ax.fill_between(x, pavg - perr, pavg + perr, color='y', alpha=alpha_err)\n",
        "\n",
        "\n",
        "ax.set_ylim(0,1)\n",
        "\n",
        "ax.set_xlabel('recall',fontsize=24)\n",
        "ax.set_ylabel('precision',fontsize=24)\n",
        "ax.set_ylim(0,1)\n",
        "ax.tick_params(labelsize=14)\n",
        "l = ax.legend(frameon=False,title='Diamond PDBs',fontsize=16)\n",
        "l.get_title().set_fontsize(16) \n",
        "fig.savefig('auc_rf2.pdf')"
      ],
      "execution_count": 300,
      "outputs": [
        {
          "output_type": "display_data",
          "data": {
            "image/png": "[encoded data removed]",
            "text/plain": [
              "<Figure size 864x576 with 1 Axes>"
            ]
          },
          "metadata": {
            "tags": [],
            "needs_background": "light"
          }
        }
      ]
    },
    {
      "cell_type": "code",
      "metadata": {
        "id": "grqDls33tIsR",
        "colab": {
          "base_uri": "https://localhost:8080/",
          "height": 17
        },
        "outputId": "96316428-6170-45a0-813e-b715e4bd70e9"
      },
      "source": [
        "from google.colab import files\n",
        "files.download('auc_rf2.pdf')"
      ],
      "execution_count": null,
      "outputs": [
        {
          "output_type": "display_data",
          "data": {
            "application/javascript": [
              "\n",
              "    async function download(id, filename, size) {\n",
              "      if (!google.colab.kernel.accessAllowed) {\n",
              "        return;\n",
              "      }\n",
              "      const div = document.createElement('div');\n",
              "      const label = document.createElement('label');\n",
              "      label.textContent = `Downloading \"${filename}\": `;\n",
              "      div.appendChild(label);\n",
              "      const progress = document.createElement('progress');\n",
              "      progress.max = size;\n",
              "      div.appendChild(progress);\n",
              "      document.body.appendChild(div);\n",
              "\n",
              "      const buffers = [];\n",
              "      let downloaded = 0;\n",
              "\n",
              "      const channel = await google.colab.kernel.comms.open(id);\n",
              "      // Send a message to notify the kernel that we're ready.\n",
              "      channel.send({})\n",
              "\n",
              "      for await (const message of channel.messages) {\n",
              "        // Send a message to notify the kernel that we're ready.\n",
              "        channel.send({})\n",
              "        if (message.buffers) {\n",
              "          for (const buffer of message.buffers) {\n",
              "            buffers.push(buffer);\n",
              "            downloaded += buffer.byteLength;\n",
              "            progress.value = downloaded;\n",
              "          }\n",
              "        }\n",
              "      }\n",
              "      const blob = new Blob(buffers, {type: 'application/binary'});\n",
              "      const a = document.createElement('a');\n",
              "      a.href = window.URL.createObjectURL(blob);\n",
              "      a.download = filename;\n",
              "      div.appendChild(a);\n",
              "      a.click();\n",
              "      div.remove();\n",
              "    }\n",
              "  "
            ],
            "text/plain": [
              "<IPython.core.display.Javascript object>"
            ]
          },
          "metadata": {
            "tags": []
          }
        },
        {
          "output_type": "display_data",
          "data": {
            "application/javascript": [
              "download(\"download_1b343d4e-f40c-4779-b715-1a69af48e720\", \"auc_rf2.pdf\", 20557)"
            ],
            "text/plain": [
              "<IPython.core.display.Javascript object>"
            ]
          },
          "metadata": {
            "tags": []
          }
        }
      ]
    },
    {
      "cell_type": "markdown",
      "metadata": {
        "id": "f5va6TFXsGk5"
      },
      "source": [
        "- Using VS DUD-E"
      ]
    },
    {
      "cell_type": "code",
      "metadata": {
        "id": "RA_c11DFsIXK"
      },
      "source": [
        "%%bigquery --project $project_id df_vs_vina\n",
        "SELECT A.diamond_id AS name, AVG(f_avg_IC50) AS f_avg_IC50, MIN(A.vs_dude_v2) AS vs\n",
        "FROM moonshot.scores_vina AS A\n",
        "INNER JOIN moonshot.activities AS activities ON STARTS_WITH(A.diamond_id,activities.CID)\n",
        "#INNER JOIN moonshot.diamond_scores AS diamond ON diamond.diamond_id = activities.frag_id\n",
        "WHERE f_AVG_IC50 IS NOT NULL\n",
        "GROUP BY name\n",
        "ORDER BY vs DESC"
      ],
      "execution_count": 302,
      "outputs": []
    },
    {
      "cell_type": "code",
      "metadata": {
        "id": "5FWmSm21sObr"
      },
      "source": [
        "%%bigquery --project $project_id df_vs_adgpu\n",
        "SELECT A.name AS name, AVG(f_avg_IC50) AS f_avg_IC50, MIN(A.vs_dude_v2) AS vs\n",
        "FROM moonshot.scores AS A\n",
        "INNER JOIN moonshot.activities AS activities ON STARTS_WITH(A.name,activities.CID)\n",
        "#INNER JOIN moonshot.diamond_scores AS diamond ON diamond.diamond_id = activities.frag_id\n",
        "WHERE f_AVG_IC50 IS NOT NULL\n",
        "GROUP BY name\n",
        "ORDER BY vs DESC"
      ],
      "execution_count": 303,
      "outputs": []
    },
    {
      "cell_type": "code",
      "metadata": {
        "id": "sPsxVPq3sZ7Q"
      },
      "source": [
        "%%bigquery --project $project_id df_vs_diamond\n",
        "SELECT diamond_id as name, AVG(activities.f_avg_IC50) AS f_avg_IC50, MIN(vs_dude_v2) AS vs\n",
        "FROM moonshot.diamond_scores AS A\n",
        "INNER JOIN moonshot.activities AS activities ON STARTS_WITH(diamond_id,activities.frag_id)\n",
        "WHERE f_AVG_IC50 IS NOT NULL\n",
        "GROUP BY name\n",
        "ORDER BY vs DESC"
      ],
      "execution_count": 304,
      "outputs": []
    },
    {
      "cell_type": "code",
      "metadata": {
        "colab": {
          "base_uri": "https://localhost:8080/",
          "height": 520
        },
        "id": "rpAz9mL4sfLK",
        "outputId": "9fde5837-cee3-41cc-8f37-5a8e4751613a"
      },
      "source": [
        "from sklearn.metrics import precision_recall_curve\n",
        "import matplotlib.pyplot as plt\n",
        "\n",
        "fig, ax = plt.subplots()\n",
        "fig.set_size_inches(12,8)\n",
        "thresh = 5\n",
        "nbootstrap = 500\n",
        "samplesize = 250\n",
        "x = np.linspace(0,1,100)\n",
        "\n",
        "alpha_err = 0.15\n",
        "\n",
        "ps = []\n",
        "for i in range(nbootstrap):\n",
        "  df_sample = df_vs_adgpu.sample(n=samplesize,replace=True)\n",
        "  yr = df_sample.f_avg_IC50 < thresh\n",
        "  p, r, _ = precision_recall_curve(yr, df_sample.vs)\n",
        "  ps.append(np.interp(x,r[::-1],p[::-1]))\n",
        "ps = np.vstack(ps)\n",
        "pavg = np.mean(ps,axis=0)\n",
        "perr = np.std(ps,axis=0)\n",
        "auc = np.trapz(pavg[::-1],x)\n",
        "ax.plot(x,pavg,label='AutoDock GPU VS DUD-E $\\\\mathit{{min}}$ AUC={:.5f}'.format(auc),zorder=1,color='purple')\n",
        "ax.fill_between(x, pavg - perr, pavg + perr, color='purple', alpha=alpha_err)\n",
        "\n",
        "\n",
        "ps = []\n",
        "for i in range(nbootstrap):\n",
        "  df_sample = df_vs_vina.sample(n=samplesize,replace=True)\n",
        "  yr = df_sample.f_avg_IC50 < thresh\n",
        "  p, r, _ = precision_recall_curve(yr, df_sample.vs)\n",
        "  ps.append(np.interp(x,r[::-1],p[::-1]))\n",
        "ps = np.vstack(ps)\n",
        "pavg = np.mean(ps,axis=0)\n",
        "perr = np.std(ps,axis=0)\n",
        "auc = np.trapz(pavg[::-1],x)\n",
        "ax.plot(x,pavg,label='AutoDock Vina VS DUD-E $\\\\mathit{{min}}$ AUC={:.5f}'.format(auc),zorder=1,color='c')\n",
        "ax.fill_between(x, pavg - perr, pavg + perr, color='c', alpha=alpha_err)\n",
        "\n",
        "ps = []\n",
        "for i in range(nbootstrap):\n",
        "  df_sample = df_vs_diamond.sample(n=samplesize,replace=True)\n",
        "  yr = df_sample.f_avg_IC50 < thresh\n",
        "  p, r, _ = precision_recall_curve(yr, df_sample.vs)\n",
        "  ps.append(np.interp(x,r[::-1],p[::-1]))\n",
        "ps = np.vstack(ps)\n",
        "pavg = np.mean(ps,axis=0)\n",
        "perr = np.std(ps,axis=0)\n",
        "auc = np.trapz(pavg[::-1],x)\n",
        "ax.plot(x,pavg,'--',label='Crystal structures VS DUD-E $\\\\mathit{{min}}$ AUC={:.5f}'.format(auc),zorder=1,color='g')\n",
        "ax.fill_between(x, pavg - perr, pavg + perr, color='g', alpha=alpha_err)\n",
        "\n",
        "\n",
        "ax.set_ylim(0,1)\n",
        "\n",
        "ax.set_xlabel('recall',fontsize=24)\n",
        "ax.set_ylabel('precision',fontsize=24)\n",
        "ax.set_ylim(0,1)\n",
        "ax.tick_params(labelsize=14)\n",
        "l = ax.legend(frameon=False,title='Diamond PDBs',fontsize=16)\n",
        "l.get_title().set_fontsize(16) \n",
        "fig.savefig('auc_vs.pdf')"
      ],
      "execution_count": 308,
      "outputs": [
        {
          "output_type": "display_data",
          "data": {
            "image/png": "[encoded data removed]",
            "text/plain": [
              "<Figure size 864x576 with 1 Axes>"
            ]
          },
          "metadata": {
            "tags": [],
            "needs_background": "light"
          }
        }
      ]
    },
    {
      "cell_type": "code",
      "metadata": {
        "colab": {
          "base_uri": "https://localhost:8080/",
          "height": 17
        },
        "id": "TNOIEWYpsi7L",
        "outputId": "d9a1cf72-52a0-44cc-892d-94897062fad4"
      },
      "source": [
        "from google.colab import files\n",
        "files.download('auc_vs.pdf')"
      ],
      "execution_count": null,
      "outputs": [
        {
          "output_type": "display_data",
          "data": {
            "application/javascript": [
              "\n",
              "    async function download(id, filename, size) {\n",
              "      if (!google.colab.kernel.accessAllowed) {\n",
              "        return;\n",
              "      }\n",
              "      const div = document.createElement('div');\n",
              "      const label = document.createElement('label');\n",
              "      label.textContent = `Downloading \"${filename}\": `;\n",
              "      div.appendChild(label);\n",
              "      const progress = document.createElement('progress');\n",
              "      progress.max = size;\n",
              "      div.appendChild(progress);\n",
              "      document.body.appendChild(div);\n",
              "\n",
              "      const buffers = [];\n",
              "      let downloaded = 0;\n",
              "\n",
              "      const channel = await google.colab.kernel.comms.open(id);\n",
              "      // Send a message to notify the kernel that we're ready.\n",
              "      channel.send({})\n",
              "\n",
              "      for await (const message of channel.messages) {\n",
              "        // Send a message to notify the kernel that we're ready.\n",
              "        channel.send({})\n",
              "        if (message.buffers) {\n",
              "          for (const buffer of message.buffers) {\n",
              "            buffers.push(buffer);\n",
              "            downloaded += buffer.byteLength;\n",
              "            progress.value = downloaded;\n",
              "          }\n",
              "        }\n",
              "      }\n",
              "      const blob = new Blob(buffers, {type: 'application/binary'});\n",
              "      const a = document.createElement('a');\n",
              "      a.href = window.URL.createObjectURL(blob);\n",
              "      a.download = filename;\n",
              "      div.appendChild(a);\n",
              "      a.click();\n",
              "      div.remove();\n",
              "    }\n",
              "  "
            ],
            "text/plain": [
              "<IPython.core.display.Javascript object>"
            ]
          },
          "metadata": {
            "tags": []
          }
        },
        {
          "output_type": "display_data",
          "data": {
            "application/javascript": [
              "download(\"download_6bd556ee-b94e-43c6-9721-fb3c91ce7bfb\", \"auc_vs.pdf\", 20722)"
            ],
            "text/plain": [
              "<IPython.core.display.Javascript object>"
            ]
          },
          "metadata": {
            "tags": []
          }
        }
      ]
    },
    {
      "cell_type": "markdown",
      "metadata": {
        "id": "v7vmw6TPyB4M"
      },
      "source": [
        "- Using RF3"
      ]
    },
    {
      "cell_type": "code",
      "metadata": {
        "id": "rpCeoKrM_k2D"
      },
      "source": [
        "%%bigquery --project $project_id df_rf3_vina\n",
        "SELECT A.diamond_id as name, AVG(f_avg_IC50) AS f_avg_IC50, MIN(A.rfscore_v3) AS rf3\n",
        "FROM moonshot.scores_vina AS A\n",
        "INNER JOIN moonshot.activities AS activities ON STARTS_WITH(A.diamond_id,activities.CID)\n",
        "#INNER JOIN moonshot.diamond_scores AS diamond ON diamond.diamond_id = activities.frag_id\n",
        "WHERE f_avg_IC50 IS NOT NULL\n",
        "GROUP BY name\n",
        "ORDER BY rf3 DESC"
      ],
      "execution_count": 126,
      "outputs": []
    },
    {
      "cell_type": "code",
      "metadata": {
        "id": "7vAWYgfa_k2E"
      },
      "source": [
        "%%bigquery --project $project_id df_rf3_adgpu\n",
        "SELECT A.diamond_id as name, AVG(f_avg_IC50) AS f_avg_IC50, MIN(A.rfscore_v3) AS rf3\n",
        "FROM moonshot.scores_adgpu AS A\n",
        "INNER JOIN moonshot.activities AS activities ON STARTS_WITH(A.diamond_id,activities.CID)\n",
        "#INNER JOIN moonshot.diamond_scores AS diamond ON diamond.diamond_id = activities.frag_id\n",
        "WHERE f_avg_IC50 IS NOT NULL\n",
        "GROUP BY name\n",
        "ORDER BY rf3 DESC"
      ],
      "execution_count": 127,
      "outputs": []
    },
    {
      "cell_type": "code",
      "metadata": {
        "id": "IukpvFHA_k2E"
      },
      "source": [
        "%%bigquery --project $project_id df_rf3_diamond\n",
        "SELECT diamond_id as name, AVG(activities.f_avg_IC50) AS f_avg_IC50, MIN(rfscore_v3) AS rf3\n",
        "FROM moonshot.diamond_scores AS A\n",
        "INNER JOIN moonshot.activities AS activities ON STARTS_WITH(diamond_id,activities.frag_id)\n",
        "WHERE f_avg_IC50 IS NOT NULL\n",
        "GROUP BY name\n",
        "ORDER BY rf3 DESC"
      ],
      "execution_count": 128,
      "outputs": []
    },
    {
      "cell_type": "code",
      "metadata": {
        "colab": {
          "base_uri": "https://localhost:8080/",
          "height": 520
        },
        "id": "waBNTaNr_k2E",
        "outputId": "7d6036a8-aa2e-4112-df8e-3661776d3a0e"
      },
      "source": [
        "from sklearn.metrics import precision_recall_curve\n",
        "import matplotlib.pyplot as plt\n",
        "\n",
        "fig, ax = plt.subplots()\n",
        "fig.set_size_inches(12,8)\n",
        "thresh = 5\n",
        "nbootstrap = 500\n",
        "samplesize = 250\n",
        "x = np.linspace(0,1,100)\n",
        "\n",
        "alpha_err = 0.15\n",
        "\n",
        "ps = []\n",
        "for i in range(nbootstrap):\n",
        "  df_sample = df_rf3_adgpu.sample(n=samplesize,replace=True)\n",
        "  yr = df_sample.f_avg_IC50 < thresh\n",
        "  p, r, _ = precision_recall_curve(yr, df_sample.rf3)\n",
        "  ps.append(np.interp(x,r[::-1],p[::-1]))\n",
        "ps = np.vstack(ps)\n",
        "pavg = np.mean(ps,axis=0)\n",
        "perr = np.std(ps,axis=0)\n",
        "auc = np.trapz(pavg[::-1],x)\n",
        "ax.plot(x,pavg,label='AutoDock GPU RF3 $\\\\mathit{{min}}$ AUC={:.5f}'.format(auc),zorder=1,color='purple')\n",
        "ax.fill_between(x, pavg - perr, pavg + perr, color='purple', alpha=alpha_err)\n",
        "\n",
        "\n",
        "ps = []\n",
        "for i in range(nbootstrap):\n",
        "  df_sample = df_rf3_vina.sample(n=samplesize,replace=True)\n",
        "  yr = df_sample.f_avg_IC50 < thresh\n",
        "  p, r, _ = precision_recall_curve(yr, df_sample.rf3)\n",
        "  ps.append(np.interp(x,r[::-1],p[::-1]))\n",
        "ps = np.vstack(ps)\n",
        "pavg = np.mean(ps,axis=0)\n",
        "perr = np.std(ps,axis=0)\n",
        "auc = np.trapz(pavg[::-1],x)\n",
        "ax.plot(x,pavg,label='AutoDock Vina RF3 $\\\\mathit{{min}}$ AUC={:.5f}'.format(auc),zorder=1,color='c')\n",
        "ax.fill_between(x, pavg - perr, pavg + perr, color='c', alpha=alpha_err)\n",
        "\n",
        "ps = []\n",
        "for i in range(nbootstrap):\n",
        "  df_sample = df_rf3_diamond.sample(n=samplesize,replace=True)\n",
        "  yr = df_sample.f_avg_IC50 < thresh\n",
        "  p, r, _ = precision_recall_curve(yr, df_sample.rf3)\n",
        "  ps.append(np.interp(x,r[::-1],p[::-1]))\n",
        "ps = np.vstack(ps)\n",
        "pavg = np.mean(ps,axis=0)\n",
        "perr = np.std(ps,axis=0)\n",
        "auc = np.trapz(pavg[::-1],x)\n",
        "ax.plot(x,pavg,'--',label='Crystal structures RF3 $\\\\mathit{{min}}$ AUC={:.5f}'.format(auc),zorder=1,color='g')\n",
        "ax.fill_between(x, pavg - perr, pavg + perr, color='g', alpha=alpha_err)\n",
        "\n",
        "\n",
        "ax.set_ylim(0,1)\n",
        "\n",
        "ax.set_xlabel('recall',fontsize=24)\n",
        "ax.set_ylabel('precision',fontsize=24)\n",
        "ax.set_ylim(0,1)\n",
        "ax.tick_params(labelsize=14)\n",
        "l = ax.legend(frameon=False,title='Diamond PDBs',fontsize=16)\n",
        "l.get_title().set_fontsize(16) \n",
        "fig.savefig('auc_vs.pdf')"
      ],
      "execution_count": 310,
      "outputs": [
        {
          "output_type": "display_data",
          "data": {
            "image/png": "[encoded data removed]",
            "text/plain": [
              "<Figure size 864x576 with 1 Axes>"
            ]
          },
          "metadata": {
            "tags": [],
            "needs_background": "light"
          }
        }
      ]
    },
    {
      "cell_type": "code",
      "metadata": {
        "colab": {
          "base_uri": "https://localhost:8080/",
          "height": 17
        },
        "id": "smb_L5l3_k2F",
        "outputId": "a4d474ed-01f2-44ee-ee04-567c68794e96"
      },
      "source": [
        "from google.colab import files\n",
        "files.download('auc_rf3.pdf')"
      ],
      "execution_count": null,
      "outputs": [
        {
          "output_type": "display_data",
          "data": {
            "application/javascript": [
              "\n",
              "    async function download(id, filename, size) {\n",
              "      if (!google.colab.kernel.accessAllowed) {\n",
              "        return;\n",
              "      }\n",
              "      const div = document.createElement('div');\n",
              "      const label = document.createElement('label');\n",
              "      label.textContent = `Downloading \"${filename}\": `;\n",
              "      div.appendChild(label);\n",
              "      const progress = document.createElement('progress');\n",
              "      progress.max = size;\n",
              "      div.appendChild(progress);\n",
              "      document.body.appendChild(div);\n",
              "\n",
              "      const buffers = [];\n",
              "      let downloaded = 0;\n",
              "\n",
              "      const channel = await google.colab.kernel.comms.open(id);\n",
              "      // Send a message to notify the kernel that we're ready.\n",
              "      channel.send({})\n",
              "\n",
              "      for await (const message of channel.messages) {\n",
              "        // Send a message to notify the kernel that we're ready.\n",
              "        channel.send({})\n",
              "        if (message.buffers) {\n",
              "          for (const buffer of message.buffers) {\n",
              "            buffers.push(buffer);\n",
              "            downloaded += buffer.byteLength;\n",
              "            progress.value = downloaded;\n",
              "          }\n",
              "        }\n",
              "      }\n",
              "      const blob = new Blob(buffers, {type: 'application/binary'});\n",
              "      const a = document.createElement('a');\n",
              "      a.href = window.URL.createObjectURL(blob);\n",
              "      a.download = filename;\n",
              "      div.appendChild(a);\n",
              "      a.click();\n",
              "      div.remove();\n",
              "    }\n",
              "  "
            ],
            "text/plain": [
              "<IPython.core.display.Javascript object>"
            ]
          },
          "metadata": {
            "tags": []
          }
        },
        {
          "output_type": "display_data",
          "data": {
            "application/javascript": [
              "download(\"download_6dc92a7f-ca12-4c02-884e-8f2a682a692c\", \"auc_rf3.pdf\", 20727)"
            ],
            "text/plain": [
              "<IPython.core.display.Javascript object>"
            ]
          },
          "metadata": {
            "tags": []
          }
        }
      ]
    },
    {
      "cell_type": "code",
      "metadata": {
        "id": "w18xrNn9AuGx",
        "colab": {
          "base_uri": "https://localhost:8080/"
        },
        "outputId": "a91b6e9c-7375-4ca7-8218-b27a07793318"
      },
      "source": [
        "np.count_nonzero(yr)"
      ],
      "execution_count": null,
      "outputs": [
        {
          "output_type": "execute_result",
          "data": {
            "text/plain": [
              "36"
            ]
          },
          "metadata": {
            "tags": []
          },
          "execution_count": 73
        }
      ]
    },
    {
      "cell_type": "markdown",
      "metadata": {
        "id": "zwkCr2pL3UJA"
      },
      "source": [
        "- Using raw docking scores"
      ]
    },
    {
      "cell_type": "code",
      "metadata": {
        "id": "9CnjV0MFKHAM"
      },
      "source": [
        "%%bigquery --project $project_id df_score_vina_max\n",
        "SELECT name, AVG(f_avg_IC50) AS f_avg_IC50, AVG(f_inhibition_at_20_uM) as f_20uM, MAX(score) AS score\n",
        "FROM moonshot.poses_vina AS A\n",
        "INNER JOIN moonshot.activities AS activities ON STARTS_WITH(A.name,activities.CID)\n",
        "#INNER JOIN moonshot.diamond_scores AS diamond ON diamond.diamond_id = activities.frag_id\n",
        "WHERE f_avg_IC50 IS NOT NULL\n",
        "#WHERE f_inhibition_at_20_uM IS NOT NULL\n",
        "GROUP BY name\n",
        "ORDER BY score"
      ],
      "execution_count": 112,
      "outputs": []
    },
    {
      "cell_type": "code",
      "metadata": {
        "id": "m_e-WIH04_LO"
      },
      "source": [
        "%%bigquery --project $project_id df_score_adgpu_max\n",
        "SELECT name, AVG(f_avg_IC50) AS f_avg_IC50, AVG(f_inhibition_at_20_uM) as f_20uM, MAX(score) AS score\n",
        "FROM moonshot.docked AS A\n",
        "INNER JOIN moonshot.activities AS activities ON STARTS_WITH(A.name,activities.CID)\n",
        "#INNER JOIN moonshot.diamond_scores AS diamond ON diamond.diamond_id = activities.frag_id\n",
        "WHERE f_avg_IC50 IS NOT NULL\n",
        "#WHERE f_inhibition_at_20_uM IS NOT NULL\n",
        "GROUP BY name\n",
        "ORDER BY score"
      ],
      "execution_count": 122,
      "outputs": []
    },
    {
      "cell_type": "code",
      "metadata": {
        "id": "wjcLq29p3oWy"
      },
      "source": [
        "%%bigquery --project $project_id df_score_vina_min\n",
        "SELECT name, AVG(f_avg_IC50) AS f_avg_IC50, AVG(f_inhibition_at_20_uM) as f_20uM,  MIN(score) AS score\n",
        "FROM moonshot.poses_vina AS A\n",
        "INNER JOIN moonshot.activities AS activities ON STARTS_WITH(A.name,activities.CID)\n",
        "#INNER JOIN moonshot.diamond_scores AS diamond ON diamond.diamond_id = activities.frag_id\n",
        "WHERE f_avg_IC50 IS NOT NULL\n",
        "#WHERE f_inhibition_at_20_uM IS NOT NULL\n",
        "GROUP BY name\n",
        "ORDER BY score"
      ],
      "execution_count": 123,
      "outputs": []
    },
    {
      "cell_type": "code",
      "metadata": {
        "id": "M8fhxn4q7Z0p"
      },
      "source": [
        "%%bigquery --project $project_id df_score_adgpu_min\n",
        "SELECT name, AVG(f_avg_IC50) AS f_avg_IC50, AVG(f_inhibition_at_20_uM) as f_20uM, MIN(score) AS score\n",
        "FROM moonshot.docked AS A\n",
        "INNER JOIN moonshot.activities AS activities ON STARTS_WITH(A.name,activities.CID)\n",
        "#INNER JOIN moonshot.diamond_scores AS diamond ON diamond.diamond_id = activities.frag_id\n",
        "WHERE f_avg_IC50 IS NOT NULL\n",
        "#WHERE f_inhibition_at_20_uM IS NOT NULL\n",
        "GROUP BY name\n",
        "ORDER BY score"
      ],
      "execution_count": 124,
      "outputs": []
    },
    {
      "cell_type": "code",
      "metadata": {
        "id": "uPkHMmYR3f_Y",
        "outputId": "266c8949-3c36-4f10-c5f6-a29b8610a65b",
        "colab": {
          "base_uri": "https://localhost:8080/",
          "height": 412
        }
      },
      "source": [
        "from sklearn.metrics import precision_recall_curve\n",
        "import matplotlib.pyplot as plt\n",
        "\n",
        "fig, ax = plt.subplots()\n",
        "fig.set_size_inches(8,6)\n",
        "thresh = 5\n",
        "nbootstrap = 500\n",
        "samplesize = 250\n",
        "x = np.linspace(0,1,100)\n",
        "\n",
        "alpha_err = 0.15\n",
        "\n",
        "ps = []\n",
        "for i in range(nbootstrap):\n",
        "  df_sample = df_score_adgpu_max.sample(n=samplesize,replace=True)\n",
        "  yr = df_sample.f_avg_IC50 < thresh\n",
        "  p, r, _ = precision_recall_curve(yr, -df_sample.score)\n",
        "  ps.append(np.interp(x,r[::-1],p[::-1]))\n",
        "ps = np.vstack(ps)\n",
        "pavg = np.mean(ps,axis=0)\n",
        "perr = np.std(ps,axis=0)\n",
        "auc = np.trapz(pavg[::-1],x)\n",
        "ax.plot(x,pavg,label='AutoDock GPU $\\\\mathit{{max}}$  AUC={:.5f}'.format(auc),zorder=1,color='r')\n",
        "ax.fill_between(x, pavg - perr, pavg + perr, color='r', alpha=alpha_err)\n",
        "\n",
        "\n",
        "ps = []\n",
        "for i in range(nbootstrap):\n",
        "  df_sample = df_score_vina_max.sample(n=samplesize,replace=True)\n",
        "  yr = df_sample.f_avg_IC50 < thresh\n",
        "  p, r, _ = precision_recall_curve(yr, -df_sample.score)\n",
        "  ps.append(np.interp(x,r[::-1],p[::-1]))\n",
        "ps = np.vstack(ps)\n",
        "pavg = np.mean(ps,axis=0)\n",
        "perr = np.std(ps,axis=0)\n",
        "auc = np.trapz(pavg[::-1],x)\n",
        "ax.plot(x,pavg,label='AutoDock Vina $\\\\mathit{{max}}$  AUC={:.5f}'.format(auc),zorder=1,color='b')\n",
        "ax.fill_between(x, pavg - perr, pavg + perr, color='b', alpha=alpha_err)\n",
        "\n",
        "ps = []\n",
        "for i in range(nbootstrap):\n",
        "  df_sample = df_score_adgpu_min.sample(n=samplesize,replace=True)\n",
        "  yr = df_sample.f_avg_IC50 < thresh\n",
        "  p, r, _ = precision_recall_curve(yr, -df_sample.score)\n",
        "  ps.append(np.interp(x,r[::-1],p[::-1]))\n",
        "ps = np.vstack(ps)\n",
        "pavg = np.mean(ps,axis=0)\n",
        "perr = np.std(ps,axis=0)\n",
        "auc = np.trapz(pavg[::-1],x)\n",
        "ax.plot(x,pavg,'--',label='AutoDock GPU $\\\\mathit{{min}}$  AUC={:.5f}'.format(auc),zorder=1,color='r')\n",
        "ax.fill_between(x, pavg - perr, pavg + perr, color='r', alpha=alpha_err)\n",
        "\n",
        "ps = []\n",
        "for i in range(nbootstrap):\n",
        "  df_sample = df_score_vina_min.sample(n=samplesize,replace=True)\n",
        "  yr = df_sample.f_avg_IC50 < thresh\n",
        "  p, r, _ = precision_recall_curve(yr, -df_sample.score)\n",
        "  ps.append(np.interp(x,r[::-1],p[::-1]))\n",
        "ps = np.vstack(ps)\n",
        "pavg = np.mean(ps,axis=0)\n",
        "perr = np.std(ps,axis=0)\n",
        "auc = np.trapz(pavg[::-1],x)\n",
        "ax.plot(x,pavg,'--',label='AutoDock Vina $\\\\mathit{{min}}$  AUC={:.5f}'.format(auc),zorder=1,color='b')\n",
        "ax.fill_between(x, pavg - perr, pavg + perr, color='b', alpha=alpha_err)\n",
        "\n",
        "ax.set_ylim(0,1)\n",
        "\n",
        "ax.set_xlabel('recall',fontsize=24)\n",
        "ax.set_ylabel('precision',fontsize=24)\n",
        "ax.set_ylim(0,1)\n",
        "ax.tick_params(labelsize=14)\n",
        "l = ax.legend(frameon=False,title='Diamond PDBs',fontsize=16)\n",
        "l.get_title().set_fontsize(16) \n",
        "fig.savefig('auc_score.pdf')"
      ],
      "execution_count": 283,
      "outputs": [
        {
          "output_type": "display_data",
          "data": {
            "image/png": "[encoded data removed]",
            "text/plain": [
              "<Figure size 576x432 with 1 Axes>"
            ]
          },
          "metadata": {
            "tags": [],
            "needs_background": "light"
          }
        }
      ]
    },
    {
      "cell_type": "code",
      "metadata": {
        "id": "H13oIesF7xM7"
      },
      "source": [
        "%%bigquery --project $project_id df_exp_max\n",
        "SELECT exp.Inhibitor, MAX(A.score) as score, AVG(exp.__residual_activity) AS residual_activity FROM mpro_5r84.confs_all AS A\n",
        "   INNER JOIN mpro_exp.hit_expansion AS exp\n",
        "   ON STARTS_WITH(A.name,exp.Inhibitor)\n",
        "GROUP BY exp.Inhibitor\n",
        "ORDER BY score"
      ],
      "execution_count": 161,
      "outputs": []
    },
    {
      "cell_type": "code",
      "metadata": {
        "id": "X-iiNziQAzNg"
      },
      "source": [
        "%%bigquery --project $project_id df_exp_min\n",
        "SELECT exp.Inhibitor, MIN(A.score) as score, AVG(exp.__residual_activity) AS residual_activity FROM mpro_5r84.confs_all AS A\n",
        "   INNER JOIN mpro_exp.hit_expansion AS exp\n",
        "   ON STARTS_WITH(A.name,exp.Inhibitor)\n",
        "GROUP BY exp.Inhibitor\n",
        "ORDER BY score"
      ],
      "execution_count": 162,
      "outputs": []
    },
    {
      "cell_type": "code",
      "metadata": {
        "id": "VAwJVnTN_met",
        "outputId": "61dc0a02-e986-4384-cbcc-1707805574fd",
        "colab": {
          "base_uri": "https://localhost:8080/",
          "height": 412
        }
      },
      "source": [
        "from sklearn.metrics import precision_recall_curve\n",
        "import matplotlib.pyplot as plt\n",
        "\n",
        "fig, ax = plt.subplots()\n",
        "fig.set_size_inches(8,6)\n",
        "thresh = 0.5\n",
        "nbootstrap = 100\n",
        "samplesize = 100\n",
        "x = np.linspace(0,1,100)\n",
        "\n",
        "alpha_err = 0.15\n",
        "\n",
        "ps = []\n",
        "for i in range(nbootstrap):\n",
        "  df_sample = df_exp_max.sample(n=samplesize,replace=True)\n",
        "  yr = df_sample.residual_activity < thresh\n",
        "  p, r, _ = precision_recall_curve(yr, -df_sample.score)\n",
        "  ps.append(np.interp(x,r[::-1],p[::-1]))\n",
        "ps = np.vstack(ps)\n",
        "pavg = np.mean(ps,axis=0)\n",
        "perr = np.std(ps,axis=0)\n",
        "auc = np.trapz(pavg[::-1],x)\n",
        "ax.plot(x,pavg,label='AutoDock GPU $\\\\mathit{{max}}$  AUC={:.5f}'.format(auc),zorder=1,color='r')\n",
        "ax.fill_between(x, pavg - perr, pavg + perr, color='r', alpha=alpha_err)\n",
        "\n",
        "ps = []\n",
        "for i in range(nbootstrap):\n",
        "  df_sample = df_exp_min.sample(n=samplesize,replace=True)\n",
        "  yr = df_sample.residual_activity < thresh\n",
        "  p, r, _ = precision_recall_curve(yr, -df_sample.score)\n",
        "  ps.append(np.interp(x,r[::-1],p[::-1]))\n",
        "ps = np.vstack(ps)\n",
        "pavg = np.mean(ps,axis=0)\n",
        "perr = np.std(ps,axis=0)\n",
        "auc = np.trapz(pavg[::-1],x)\n",
        "ax.plot(x,pavg,label='AutoDock GPU $\\\\mathit{{min}}$  AUC={:.5f}'.format(auc),zorder=1,color='b')\n",
        "ax.fill_between(x, pavg - perr, pavg + perr, color='b', alpha=alpha_err)\n",
        "\n",
        "ax.set_xlabel('recall',fontsize=24)\n",
        "ax.set_ylabel('precision',fontsize=24)\n",
        "ax.set_ylim(0,1)\n",
        "ax.tick_params(labelsize=14)\n",
        "l = ax.legend(frameon=False,fontsize=16,title='Hit expansion')\n",
        "l.get_title().set_fontsize(16) "
      ],
      "execution_count": 282,
      "outputs": [
        {
          "output_type": "display_data",
          "data": {
            "image/png": "[encoded data removed]",
            "text/plain": [
              "<Figure size 576x432 with 1 Axes>"
            ]
          },
          "metadata": {
            "tags": [],
            "needs_background": "light"
          }
        }
      ]
    },
    {
      "cell_type": "code",
      "metadata": {
        "id": "wZPikZ64_3sJ"
      },
      "source": [
        ""
      ],
      "execution_count": null,
      "outputs": []
    }
  ]
}